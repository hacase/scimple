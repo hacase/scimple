{
 "cells": [
  {
   "cell_type": "code",
   "execution_count": 1,
   "id": "548435b6-cafc-42c4-ba25-fc90ff2eeaba",
   "metadata": {},
   "outputs": [
    {
     "name": "stdout",
     "output_type": "stream",
     "text": [
      "\n",
      " S how\n",
      " C inemas\n",
      " I n\n",
      " M y\n",
      " P lace\n",
      " L isting\n",
      " E verything\n",
      "\n"
     ]
    }
   ],
   "source": [
    "import sys,time\n",
    "\n",
    "string = \"\"\" S how\n",
    " C inemas\n",
    " I n\n",
    " M y\n",
    " P lace\n",
    " L isting\n",
    " E verything\"\"\"\n",
    "\n",
    "typing_speed = 390\n",
    "\n",
    "def slow_type(t):\n",
    "    for l in t:\n",
    "        sys.stdout.write(l)\n",
    "        sys.stdout.flush()\n",
    "        time.sleep(10.0/typing_speed)\n",
    "    print('\\n')\n",
    "\n",
    "print('')\n",
    "slow_type(string)"
   ]
  },
  {
   "cell_type": "code",
   "execution_count": 1,
   "id": "b0e934c7-1225-4ec6-9930-3e809ae8fc51",
   "metadata": {},
   "outputs": [],
   "source": [
    "import requests\n",
    "import sys\n",
    "import emoji\n",
    "from datetime import datetime as dt\n",
    "from datetime import timedelta\n",
    "        \n",
    "def cinemoji(cinema, place):\n",
    "    d_cinema = get_dict(cinema)\n",
    "    \n",
    "    name = d_cinema['name']\n",
    "    emoticon = emoji.emojize(d_cinema['emoji'])\n",
    "    \n",
    "    if place == 'before':\n",
    "        return emoticon +' '+ name\n",
    "    elif place == 'after':\n",
    "        return name +' '+ emoticon\n",
    "    elif place == 'both':\n",
    "        return emoticon +' '+ name +' '+ emoticon"
   ]
  },
  {
   "cell_type": "code",
   "execution_count": 3,
   "id": "8f226f93-70df-41d5-8612-baa6974e53ca",
   "metadata": {},
   "outputs": [
    {
     "name": "stdout",
     "output_type": "stream",
     "text": [
      "🍿 WOKI 🍿\n",
      "🍞 Brotfabrik 🍞\n",
      "🦖 Rex 🦖\n",
      "🆕 Neue Filmbühne 🆕\n"
     ]
    }
   ],
   "source": [
    "print(emoji.emojize(\":popcorn:\"), 'WOKI', emoji.emojize(\":popcorn:\"))\n",
    "\n",
    "print(emoji.emojize(\":bread:\"), 'Brotfabrik', emoji.emojize(\":bread:\"))\n",
    "\n",
    "print(emoji.emojize(\":T-Rex:\"), 'Rex', emoji.emojize(\":T-Rex:\"))\n",
    "\n",
    "print(emoji.emojize(\":NEW_button:\"), 'Neue Filmbühne', emoji.emojize(\":NEW_button:\"))"
   ]
  },
  {
   "cell_type": "code",
   "execution_count": 7,
   "id": "b816dbb9-33ca-4ceb-9e5e-e044905db559",
   "metadata": {},
   "outputs": [],
   "source": []
  },
  {
   "cell_type": "code",
   "execution_count": null,
   "id": "0befe46b-3dec-4aae-a59e-ab4a6e399efd",
   "metadata": {},
   "outputs": [],
   "source": [
    "import sys, time, random\n",
    "import emoji\n",
    "from datetime import datetime as dt\n",
    "from datetime import timedelta\n",
    "from shutil import get_terminal_size\n",
    "import scimple_functions as SF\n",
    "\n",
    "def slow_type(t):\n",
    "    typing_speed = 375\n",
    "    for l in t:\n",
    "        sys.stdout.write(l)\n",
    "        sys.stdout.flush()\n",
    "        time.sleep(10.0/typing_speed)\n",
    "    print('\\n')\n",
    "\n",
    "def opening():\n",
    "    string = \"\"\"     S how\n",
    "     C inemas\n",
    "     I n\n",
    "     M y\n",
    "     P lace\n",
    "     L isting\n",
    "     E verything\"\"\"\n",
    "\n",
    "    print('')\n",
    "    slow_type(string)\n",
    "    \n",
    "opening()\n",
    "\n",
    "def inputexit(var):\n",
    "    var = input(var)\n",
    "    if var == 'exit':\n",
    "        print('exited session.')\n",
    "        sys.exit()\n",
    "    else:\n",
    "        return var\n",
    "\n",
    "\n",
    "print(emoji.emojize(\":T-Rex:\"), 'Rex', emoji.emojize(\":T-Rex:\"))\n",
    "print(emoji.emojize(\":popcorn:\"), 'WOKI', emoji.emojize(\":popcorn:\"))\n",
    "print(emoji.emojize(\":bread:\"), 'Brotfabrik', emoji.emojize(\":bread:\"))\n",
    "print(emoji.emojize(\":NEW_button:\"), 'Neue Filmbühne', emoji.emojize(\":NEW_button:\"))\n",
    "print('')\n",
    "\n",
    "imported = []\n",
    "\n",
    "print('default is all, sort with arg [t]ime, [a]lphabet, [c]inema, [r]oom, [s]eat\\n')\n",
    "\n",
    "def routine():\n",
    "    sorter_key = None\n",
    "    \n",
    "    while True:\n",
    "        is_date = False\n",
    "\n",
    "        p_date = inputexit('date: ').lower().replace(' ', '')\n",
    "\n",
    "        if '--' in p_date:\n",
    "            p_date, sorter_key = p_date.split('--', 1)\n",
    "\n",
    "\n",
    "        if str(p_date).lower() in [l.lower() for l in SF.l_today]:\n",
    "            p_date = dt.today()\n",
    "\n",
    "        elif str(p_date).lower() in [l.lower() for l in SF.l_tomorrow]:\n",
    "            p_date = dt.today() + timedelta(days=1)\n",
    "\n",
    "        elif str(p_date).lower() in [l.lower() for l in SF.l_dayname]:\n",
    "            day_hit = SF.l_dayname.index(p_date.capitalize()) %7\n",
    "            today = dt.today().strftime('')\n",
    "\n",
    "            if day_hit < dt.today().weekday():\n",
    "                day_skip = 7 - dt.today().weekday() + day_hit\n",
    "            elif day_hit == dt.today().weekday():\n",
    "                day_skip = 7\n",
    "            else:\n",
    "                day_skip = day_hit - dt.today().weekday()\n",
    "\n",
    "            p_date = dt.today() + timedelta(days=day_skip)\n",
    "\n",
    "\n",
    "        if p_date == '':\n",
    "            p_date = 'all'\n",
    "            is_date = True\n",
    "\n",
    "        else:\n",
    "            p_date, is_date = SF.detect_date(p_date)\n",
    "\n",
    "        if is_date:\n",
    "            break\n",
    "        else:\n",
    "            print('invalid date')\n",
    "\n",
    "\n",
    "    if p_date == 'all':\n",
    "        p_timestamp = False\n",
    "\n",
    "    else:\n",
    "        print('')\n",
    "        while True:\n",
    "            p_time = inputexit('time: ').lower().replace(' ', '')\n",
    "\n",
    "            if p_time == '':\n",
    "                p_time = '0000'\n",
    "\n",
    "            if ':' in p_time:\n",
    "                hour, minute = p_time.split(':', 1)\n",
    "            else:\n",
    "                hour = p_time[:-2]\n",
    "                minute = p_time[-2:]\n",
    "\n",
    "            try:\n",
    "                p_timestamp = p_date.replace(hour=int(hour), minute=int(minute), second=0, microsecond=0)\n",
    "                break\n",
    "\n",
    "            except ValueError:\n",
    "                print('invalid time')            \n",
    "\n",
    "    print('')\n",
    "    while True:\n",
    "        p_cinema = inputexit('cinema: ').lower().replace(' ', '').split(',')\n",
    "\n",
    "        if p_cinema == ['']:\n",
    "            p_cinema = []\n",
    "            for i in SF.cinema_alias:\n",
    "                p_cinema.append(i[0])\n",
    "\n",
    "        else:\n",
    "            p_cinema = list(filter(None, p_cinema))\n",
    "\n",
    "        p_cinema = list(set([SF.is_cinema_alias(p) for p in p_cinema]))\n",
    "\n",
    "        if False in p_cinema:\n",
    "            print('invalid cinema key.')\n",
    "            continue\n",
    "\n",
    "        else:\n",
    "            for p in p_cinema:\n",
    "                if not SF.cinema_in_dlist(p, imported):\n",
    "                    desc = 'importing ' + p + '...'\n",
    "                    end = p + ' done.'\n",
    "                    loader = SF.Loader(desc, end).start()\n",
    "\n",
    "                    imported.append(SF.import_cinema_errorless(p))\n",
    "\n",
    "                    loader.stop()\n",
    "            break    \n",
    "\n",
    "    p_title = inputexit('\\ntitle: ').lower().rstrip()\n",
    "    if p_title == '':\n",
    "        p_title = False\n",
    "        \n",
    "    print('')\n",
    "    \n",
    "    selected_cinema = [event for cinema in imported for selected in p_cinema if selected in cinema['alias'] for event in cinema['event']]\n",
    "        \n",
    "    SF.show(selected_cinema, sorter_key, p_timestamp, p_title)\n",
    "    \n",
    "\n",
    "while True:\n",
    "    routine()\n",
    "    print('\\n\\n\\n\\n')\n"
   ]
  },
  {
   "cell_type": "code",
   "execution_count": null,
   "id": "f80ac2e9-19de-4681-a9ee-daf1eb42ace0",
   "metadata": {},
   "outputs": [],
   "source": [
    "import pyshorteners\n",
    "type_tiny = pyshorteners.Shortener()\n",
    "short_url = type_tiny.tinyurl.short(event_d['ticket'])\n",
    "print(return_color(short_url, '39'))"
   ]
  },
  {
   "cell_type": "code",
   "execution_count": null,
   "id": "4c3241cb-a291-4e68-811c-77baf0fafaf3",
   "metadata": {},
   "outputs": [],
   "source": [
    "from urllib.request import urlopen\n",
    "from urllib.parse import unquote\n",
    "import re\n",
    "import json\n",
    "from datetime import datetime as dt\n",
    "\n",
    "\n",
    "timestamp = []\n",
    "title = []\n",
    "room = []\n",
    "spec = []\n",
    "location = []\n",
    "ticket = []\n",
    "\n",
    "url = 'https://www.imdb.com/title/tt11198810/'\n",
    "page = urlopen(url)\n",
    "html = page.read().decode(\"utf-8\")\n",
    "\n",
    "soup = BeautifulSoup(html, \"html.parser\")\n",
    "print(soup)\n",
    "\n",
    "#match_results = \n",
    "#jstring = json.loads(match_results)\n",
    "#print(json.dumps(jstring, indent=3))\n",
    "#pattern = r'<div class=\"relative\">.*?</div>'\n",
    "#match_results = re.findall(pattern, html, re.DOTALL)"
   ]
  },
  {
   "cell_type": "code",
   "execution_count": 20,
   "id": "f5221a7f-a2d3-4d4e-af8f-50113152dcb2",
   "metadata": {},
   "outputs": [],
   "source": [
    "woki = SF.import_cinema_errorless('woki')"
   ]
  },
  {
   "cell_type": "code",
   "execution_count": 31,
   "id": "bf35a1d6-7f11-4da4-a54b-67bb6a8d1011",
   "metadata": {},
   "outputs": [],
   "source": [
    "import pyshorteners\n",
    "import threading\n",
    "import concurrent.futures"
   ]
  },
  {
   "cell_type": "code",
   "execution_count": null,
   "id": "0eec549e-8910-4453-ae44-89bc84919327",
   "metadata": {},
   "outputs": [],
   "source": [
    "for i in woki['event']:\n",
    "    shortener(i['ticket'])"
   ]
  },
  {
   "cell_type": "code",
   "execution_count": 47,
   "id": "675eaec8-fcbb-44fa-8c42-685bb4e260bf",
   "metadata": {},
   "outputs": [],
   "source": [
    "def shortener(url):\n",
    "    type_tiny = pyshorteners.Shortener()\n",
    "    short_url = type_tiny.tinyurl.short(url)\n",
    "    return short_url"
   ]
  },
  {
   "cell_type": "code",
   "execution_count": null,
   "id": "c3291f2e-2a56-4919-b70a-8cd949ece768",
   "metadata": {},
   "outputs": [],
   "source": [
    "#multithreading\n",
    "threads = list()\n",
    "\n",
    "print(len(woki['event']))\n",
    "\n",
    "for event in woki['event']:\n",
    "    x = threading.Thread(target=shortener, args=(event['ticket'],))\n",
    "    threads.append(x)\n",
    "    x.start()\n",
    "\n",
    "for url, thread in enumerate(threads):\n",
    "    print(url, thread)\n",
    "    thread.join()"
   ]
  },
  {
   "cell_type": "code",
   "execution_count": null,
   "id": "8cc8cbe8-5220-491c-a994-22011932e94f",
   "metadata": {},
   "outputs": [],
   "source": [
    "for event in woki['event']:\n",
    "    print(event['ticket'])"
   ]
  },
  {
   "cell_type": "code",
   "execution_count": 28,
   "id": "20fd61a9-4956-46ce-a6c6-641720e704e4",
   "metadata": {},
   "outputs": [],
   "source": [
    "import rottentomatoes as rt"
   ]
  },
  {
   "cell_type": "code",
   "execution_count": null,
   "id": "711867c6-1f30-4b41-9fc6-792b9c2272ef",
   "metadata": {},
   "outputs": [],
   "source": [
    "for event in woki['event']:\n",
    "    while True:\n",
    "        try:\n",
    "            movies = rt.tomatometer(event['title'])\n",
    "            print(movies)\n",
    "\n",
    "        except Exception as e:\n",
    "            print(\"\\r\" , end=\"\", flush=True)\n",
    "            \n",
    "            print('retrying..')\n",
    "            time.sleep(4)"
   ]
  },
  {
   "cell_type": "code",
   "execution_count": 63,
   "id": "dee73909-82bb-42a3-8eb2-d26919d603b8",
   "metadata": {},
   "outputs": [
    {
     "name": "stdout",
     "output_type": "stream",
     "text": [
      "Harry Potter and the Sorcerer's Stone\n"
     ]
    },
    {
     "data": {
      "text/plain": [
       "{}"
      ]
     },
     "execution_count": 63,
     "metadata": {},
     "output_type": "execute_result"
    }
   ],
   "source": [
    "movie = ia.search_movie('harry potter')[0]\n",
    "print(movie)\n",
    "movie.infoset2keys"
   ]
  },
  {
   "cell_type": "code",
   "execution_count": 12,
   "id": "73e6bbce-e8cb-418f-927f-02780e2cdba4",
   "metadata": {},
   "outputs": [],
   "source": [
    "from imdb import Cinemagoer"
   ]
  },
  {
   "cell_type": "code",
   "execution_count": 14,
   "id": "11b31733-1ad7-4b55-907c-5faa0b9c0f2c",
   "metadata": {},
   "outputs": [],
   "source": [
    "ia = Cinemagoer()"
   ]
  },
  {
   "cell_type": "code",
   "execution_count": null,
   "id": "f3dc1af9-0ba4-4038-b04e-205254c10a24",
   "metadata": {},
   "outputs": [],
   "source": [
    "for event in woki['event']:\n",
    "    while True:\n",
    "        try:\n",
    "            movies = ia.search_movie(event['title'])\n",
    "            print(movies)\n",
    "\n",
    "        except Exception as e:\n",
    "            print(\"\\r\" , end=\"\", flush=True)\n",
    "            \n",
    "            print('retrying..')\n",
    "            time.sleep(4)"
   ]
  },
  {
   "cell_type": "code",
   "execution_count": 19,
   "id": "118743a7-f4b9-49b1-89ed-9e2e3f433586",
   "metadata": {},
   "outputs": [
    {
     "name": "stdout",
     "output_type": "stream",
     "text": [
      "Lana Wachowski\n",
      "Lilly Wachowski\n",
      "['akas', 'animation department', 'art department', 'art direction', 'aspect ratio', 'assistant director', 'box office', 'camera and electrical department', 'canonical title', 'cast', 'casting department', 'casting director', 'certificates', 'cinematographer', 'color info', 'composer', 'costume department', 'costume designer', 'countries', 'country codes', 'cover url', 'director', 'distributors', 'editor', 'editorial department', 'full-size cover url', 'genres', 'imdbID', 'kind', 'language codes', 'languages', 'localized title', 'location management', 'long imdb canonical title', 'long imdb title', 'make up', 'miscellaneous crew', 'music department', 'original air date', 'original title', 'other companies', 'plot', 'plot outline', 'producer', 'production companies', 'production design', 'production manager', 'rating', 'runtimes', 'script department', 'set decoration', 'smart canonical title', 'smart long imdb canonical title', 'sound crew', 'sound mix', 'special effects', 'special effects companies', 'stunt performer', 'synopsis', 'title', 'top 250 rank', 'transportation department', 'videos', 'visual effects', 'votes', 'writer', 'year']\n",
      "['airing', 'akas', 'alternate versions', 'awards', 'connections', 'crazy credits', 'critic reviews', 'episodes', 'external reviews', 'external sites', 'faqs', 'full credits', 'goofs', 'keywords', 'list', 'locations', 'main', 'misc sites', 'news', 'official sites', 'parents guide', 'photo sites', 'plot', 'quotes', 'recommendations', 'release dates', 'release info', 'reviews', 'sound clips', 'soundtrack', 'synopsis', 'taglines', 'technical', 'trivia', 'tv schedule', 'video clips', 'vote details']\n",
      "['tech']\n",
      "{}\n"
     ]
    }
   ],
   "source": [
    "# create an instance of the Cinemagoer class\n",
    "for director in the_matrix['directors']:\n",
    "    print(director['name'])\n",
    "print(sorted(the_matrix.keys()))\n",
    "print(ia.get_movie_infoset())\n",
    "ia.update(the_matrix, ['technical'])\n",
    "print(the_matrix.infoset2keys['technical'])\n",
    "print(the_matrix.get('tech'))"
   ]
  },
  {
   "cell_type": "code",
   "execution_count": 14,
   "id": "60540c5b-51db-4ed2-86ab-764bfceb0345",
   "metadata": {},
   "outputs": [
    {
     "name": "stdout",
     "output_type": "stream",
     "text": [
      "## the nun 2\n"
     ]
    },
    {
     "name": "stderr",
     "output_type": "stream",
     "text": [
      "2023-10-25 01:48:24,913 ERROR [imdbpy] /Users/tarowatanabe/opt/anaconda3/lib/python3.8/site-packages/imdb/__init__.py:844: unknown information set \"rating\"\n"
     ]
    },
    {
     "name": "stdout",
     "output_type": "stream",
     "text": [
      "10160976\n",
      "1.3201336860656738\n",
      "None\n",
      "{'main': ['localized title', 'cast', 'genres', 'runtimes', 'countries', 'country codes', 'language codes', 'color info', 'aspect ratio', 'box office', 'certificates', 'original air date', 'rating', 'votes', 'cover url', 'imdbID', 'videos', 'plot outline', 'languages', 'title', 'year', 'kind', 'original title', 'director', 'writer', 'producer', 'composer', 'cinematographer', 'editor', 'editorial department', 'casting director', 'production design', 'art direction', 'set decoration', 'costume designer', 'make up', 'production manager', 'assistant director', 'art department', 'sound crew', 'special effects', 'visual effects', 'stunt performer', 'camera and electrical department', 'casting department', 'costume department', 'location management', 'music department', 'script department', 'transportation department', 'miscellaneous crew', 'akas', 'production companies', 'distributors', 'special effects companies', 'other companies'], 'plot': ['plot', 'synopsis']}\n",
      "2.8486568927764893\n",
      "## philipp mickenbecker - real life\n"
     ]
    },
    {
     "name": "stderr",
     "output_type": "stream",
     "text": [
      "2023-10-25 01:48:28,576 ERROR [imdbpy] /Users/tarowatanabe/opt/anaconda3/lib/python3.8/site-packages/imdb/__init__.py:844: unknown information set \"rating\"\n"
     ]
    },
    {
     "name": "stdout",
     "output_type": "stream",
     "text": [
      "28627002\n",
      "0.8141398429870605\n",
      "None\n",
      "{'main': ['localized title', 'genres', 'runtimes', 'countries', 'country codes', 'language codes', 'color info', 'certificates', 'rating', 'votes', 'cover url', 'imdbID', 'plot outline', 'languages', 'title', 'year', 'kind', 'original title', 'director', 'writer', 'producer', 'composer', 'cinematographer', 'editor', 'production companies'], 'plot': ['plot']}\n",
      "2.3289988040924072\n",
      "## barbie\n"
     ]
    },
    {
     "name": "stderr",
     "output_type": "stream",
     "text": [
      "2023-10-25 01:48:31,888 ERROR [imdbpy] /Users/tarowatanabe/opt/anaconda3/lib/python3.8/site-packages/imdb/__init__.py:844: unknown information set \"rating\"\n"
     ]
    },
    {
     "name": "stdout",
     "output_type": "stream",
     "text": [
      "1517268\n",
      "0.9829950332641602\n",
      "None\n",
      "{'main': ['localized title', 'cast', 'genres', 'runtimes', 'countries', 'country codes', 'language codes', 'color info', 'aspect ratio', 'sound mix', 'box office', 'certificates', 'original air date', 'rating', 'votes', 'cover url', 'imdbID', 'videos', 'languages', 'title', 'year', 'kind', 'original title', 'director', 'writer', 'producer', 'composer', 'cinematographer', 'editor', 'editorial department', 'casting director', 'production design', 'art direction', 'set decoration', 'costume designer', 'make up', 'production manager', 'assistant director', 'art department', 'sound crew', 'special effects', 'visual effects', 'stunt performer', 'camera and electrical department', 'animation department', 'casting department', 'costume department', 'location management', 'music department', 'script department', 'transportation department', 'miscellaneous crew', 'thanks', 'akas', 'production companies', 'distributors', 'special effects companies', 'other companies'], 'plot': ['plot', 'synopsis']}\n",
      "3.140880823135376\n",
      "## oppenheimer\n"
     ]
    },
    {
     "name": "stderr",
     "output_type": "stream",
     "text": [
      "2023-10-25 01:48:36,050 ERROR [imdbpy] /Users/tarowatanabe/opt/anaconda3/lib/python3.8/site-packages/imdb/__init__.py:844: unknown information set \"rating\"\n"
     ]
    },
    {
     "name": "stdout",
     "output_type": "stream",
     "text": [
      "15398776\n",
      "1.0211632251739502\n",
      "None\n",
      "{'main': ['localized title', 'cast', 'genres', 'runtimes', 'countries', 'country codes', 'language codes', 'color info', 'aspect ratio', 'sound mix', 'box office', 'certificates', 'original air date', 'rating', 'votes', 'cover url', 'imdbID', 'videos', 'plot outline', 'languages', 'title', 'year', 'kind', 'original title', 'director', 'writer', 'producer', 'composer', 'cinematographer', 'editor', 'editorial department', 'casting director', 'production design', 'art direction', 'set decoration', 'costume designer', 'make up', 'production manager', 'assistant director', 'art department', 'sound crew', 'special effects', 'visual effects', 'stunt performer', 'camera and electrical department', 'animation department', 'casting department', 'costume department', 'location management', 'music department', 'script department', 'transportation department', 'miscellaneous crew', 'thanks', 'akas', 'top 250 rank', 'production companies', 'distributors', 'special effects companies', 'other companies'], 'plot': ['plot', 'synopsis']}\n",
      "3.134567975997925\n"
     ]
    }
   ],
   "source": [
    "import time\n",
    "ia = Cinemagoer()\n",
    "\n",
    "for i in movietitle[6:10]:\n",
    "    print('##', i)\n",
    "\n",
    "    before = time.time()\n",
    "    movie = ia.search_movie(i)[0].movieID\n",
    "    print(movie)\n",
    "    print(time.time()-before)\n",
    "    before = time.time()\n",
    "    movies = ia.get_movie(movie, info=['rating'])\n",
    "    #movie = ia.get_movie(movie, info=['cast'])\n",
    "    #print(movie.infoset2keys)\n",
    "    #print(ia.get_movie(movie, info=['rating']))\n",
    "    print(movies.get('rating'))\n",
    "    movies = ia.get_movie(movie)\n",
    "    print(movies.infoset2keys)\n",
    "    print(time.time()-before)\n",
    "    before = time.time()\n"
   ]
  },
  {
   "cell_type": "code",
   "execution_count": null,
   "id": "79e3c4e0-cefd-403e-9727-a86a92287b60",
   "metadata": {},
   "outputs": [],
   "source": [
    "import time\n",
    "ia = Cinemagoer()\n",
    "print(ia.get_movie_infoset())\n",
    "\n",
    "for i in movietitle:\n",
    "    print('##', i)\n",
    "\n",
    "    before = time.time()\n",
    "    movie = ia.search_movie(i)[0]\n",
    "    print(movie)\n",
    "    print('found')\n",
    "    print(time.time()-before)\n",
    "    before = time.time()\n",
    "\n",
    "    ia.update(movie, info=['rating'])\n",
    "    print(time.time()-before)\n",
    "    before = time.time()\n",
    "\n",
    "    print('info', movie.current_info)\n",
    "    print(time.time()-before)\n",
    "    before = time.time()\n",
    "\n",
    "    print(type(movie))\n",
    "\n",
    "    print(time.time()-before)\n",
    "    before = time.time()\n",
    "\n",
    "    try:\n",
    "        print(movie.infoset2keys)\n",
    "    except KeyError:\n",
    "        print('this')\n",
    "    print('\\n')"
   ]
  },
  {
   "cell_type": "code",
   "execution_count": 44,
   "id": "a78569e0-3721-4c85-ac66-eb67a5fbc5db",
   "metadata": {},
   "outputs": [
    {
     "name": "stdout",
     "output_type": "stream",
     "text": [
      "{}\n",
      "\n",
      "\n"
     ]
    }
   ],
   "source": [
    "try:\n",
    "    print(movie.infoset2keys)\n",
    "except KeyError:\n",
    "    print('this')\n",
    "print('\\n')"
   ]
  },
  {
   "cell_type": "code",
   "execution_count": 35,
   "id": "af18d563-ae4e-412f-90ab-09e7e9e0e324",
   "metadata": {},
   "outputs": [
    {
     "name": "stdout",
     "output_type": "stream",
     "text": [
      "['airing', 'akas', 'alternate versions', 'awards', 'connections', 'crazy credits', 'critic reviews', 'episodes', 'external reviews', 'external sites', 'faqs', 'full credits', 'goofs', 'keywords', 'list', 'locations', 'main', 'misc sites', 'news', 'official sites', 'parents guide', 'photo sites', 'plot', 'quotes', 'recommendations', 'release dates', 'release info', 'reviews', 'sound clips', 'soundtrack', 'synopsis', 'taglines', 'technical', 'trivia', 'tv schedule', 'video clips', 'vote details']\n"
     ]
    },
    {
     "ename": "NameError",
     "evalue": "name 'resp' is not defined",
     "output_type": "error",
     "traceback": [
      "\u001b[0;31m---------------------------------------------------------------------------\u001b[0m",
      "\u001b[0;31mNameError\u001b[0m                                 Traceback (most recent call last)",
      "\u001b[0;32m<ipython-input-35-c74f053b72eb>\u001b[0m in \u001b[0;36m<module>\u001b[0;34m\u001b[0m\n\u001b[1;32m      4\u001b[0m \u001b[0mprint\u001b[0m\u001b[0;34m(\u001b[0m\u001b[0mia\u001b[0m\u001b[0;34m.\u001b[0m\u001b[0mget_movie_infoset\u001b[0m\u001b[0;34m(\u001b[0m\u001b[0;34m)\u001b[0m\u001b[0;34m)\u001b[0m\u001b[0;34m\u001b[0m\u001b[0;34m\u001b[0m\u001b[0m\n\u001b[1;32m      5\u001b[0m \u001b[0;34m\u001b[0m\u001b[0m\n\u001b[0;32m----> 6\u001b[0;31m \u001b[0mprint\u001b[0m\u001b[0;34m(\u001b[0m\u001b[0mresp\u001b[0m\u001b[0;34m)\u001b[0m\u001b[0;34m\u001b[0m\u001b[0;34m\u001b[0m\u001b[0m\n\u001b[0m\u001b[1;32m      7\u001b[0m \u001b[0;34m\u001b[0m\u001b[0m\n\u001b[1;32m      8\u001b[0m \u001b[0;32mfor\u001b[0m \u001b[0mi\u001b[0m \u001b[0;32min\u001b[0m \u001b[0mmovietitle\u001b[0m\u001b[0;34m:\u001b[0m\u001b[0;34m\u001b[0m\u001b[0;34m\u001b[0m\u001b[0m\n",
      "\u001b[0;31mNameError\u001b[0m: name 'resp' is not defined"
     ]
    }
   ],
   "source": [
    "brot = bf.brotfabrik()\n",
    "\n",
    "ia = Cinemagoer()\n",
    "print(ia.get_movie_infoset())\n",
    "\n",
    "print(resp)\n",
    "\n",
    "for i in movietitle:\n",
    "    try:\n",
    "        print('##', i)\n",
    "        \n",
    "        movie = ia.search_movie(i)[0]\n",
    "        for key, value in movie.items():\n",
    "            print(key, value)\n",
    "        print('\\n')\n",
    "        \n",
    "        rtmovie = rt.Movie(i)\n",
    "        if movie['year'] == rt.year_released(i):\n",
    "            print(rtmovie, '\\n')\n",
    "        else:\n",
    "            raise KeyError\n",
    "        \n",
    "    except KeyError:\n",
    "        try:\n",
    "            ia.update(movie, info=['main'][0])\n",
    "            print(movie.get('original title'))\n",
    "            movie = rt.Movie(movie.get('original title'))\n",
    "            print(movie, '\\n')\n",
    "        except:\n",
    "            print('no ratings on tomatoes')\n",
    "            continue\n",
    "        continue"
   ]
  },
  {
   "cell_type": "code",
   "execution_count": 171,
   "id": "643885d0-c7f8-4f00-8e31-ed3ab9083246",
   "metadata": {},
   "outputs": [
    {
     "ename": "NameError",
     "evalue": "name 'bf' is not defined",
     "output_type": "error",
     "traceback": [
      "\u001b[0;31m---------------------------------------------------------------------------\u001b[0m",
      "\u001b[0;31mNameError\u001b[0m                                 Traceback (most recent call last)",
      "\u001b[0;32m<ipython-input-171-7fa86dea8ce9>\u001b[0m in \u001b[0;36m<module>\u001b[0;34m\u001b[0m\n\u001b[0;32m----> 1\u001b[0;31m \u001b[0mbrot\u001b[0m \u001b[0;34m=\u001b[0m \u001b[0mbf\u001b[0m\u001b[0;34m.\u001b[0m\u001b[0mbrotfabrik\u001b[0m\u001b[0;34m(\u001b[0m\u001b[0;34m)\u001b[0m\u001b[0;34m\u001b[0m\u001b[0;34m\u001b[0m\u001b[0m\n\u001b[0m\u001b[1;32m      2\u001b[0m \u001b[0;34m\u001b[0m\u001b[0m\n\u001b[1;32m      3\u001b[0m \u001b[0mia\u001b[0m \u001b[0;34m=\u001b[0m \u001b[0mCinemagoer\u001b[0m\u001b[0;34m(\u001b[0m\u001b[0;34m)\u001b[0m\u001b[0;34m\u001b[0m\u001b[0;34m\u001b[0m\u001b[0m\n\u001b[1;32m      4\u001b[0m \u001b[0mprint\u001b[0m\u001b[0;34m(\u001b[0m\u001b[0mia\u001b[0m\u001b[0;34m.\u001b[0m\u001b[0mget_movie_infoset\u001b[0m\u001b[0;34m(\u001b[0m\u001b[0;34m)\u001b[0m\u001b[0;34m)\u001b[0m\u001b[0;34m\u001b[0m\u001b[0;34m\u001b[0m\u001b[0m\n\u001b[1;32m      5\u001b[0m \u001b[0;34m\u001b[0m\u001b[0m\n",
      "\u001b[0;31mNameError\u001b[0m: name 'bf' is not defined"
     ]
    }
   ],
   "source": [
    "brot = bf.brotfabrik()\n",
    "\n",
    "ia = Cinemagoer()\n",
    "print(ia.get_movie_infoset())\n",
    "\n",
    "for i in brot['title']:\n",
    "    print(i)\n",
    "    movie = ia.search_movie(i)\n",
    "    for m in movie:\n",
    "        print(m['title'], type(m))\n",
    "\n",
    "        for key, value in m.items() :\n",
    "            print (key, value)\n",
    "\n",
    "        print('\\n')"
   ]
  },
  {
   "cell_type": "code",
   "execution_count": null,
   "id": "688e6963-1b90-4655-96e3-789f6f909ea3",
   "metadata": {},
   "outputs": [],
   "source": [
    "ia = Cinemagoer()\n",
    "print(ia.get_movie_infoset())\n",
    "\n",
    "movie = ia.search_movie('rose')\n",
    "\n",
    "print(movie, type(movie[2]))\n",
    "for m in movie:\n",
    "    print(m['title'], type(m))\n",
    "    \n",
    "    for key, value in m.items() :\n",
    "        print (key, value)\n",
    "        \n",
    "    print('\\n')"
   ]
  },
  {
   "cell_type": "code",
   "execution_count": 5,
   "id": "63a59610-3545-4d98-9e1a-10eb77f34446",
   "metadata": {},
   "outputs": [
    {
     "name": "stdout",
     "output_type": "stream",
     "text": [
      "Directors:\n",
      "Lana Wachowski\n",
      "Lilly Wachowski\n",
      "Genres:\n",
      "Action\n",
      "Sci-Fi\n",
      "0000154 Mel Gibson\n",
      "12550288 Mel Gibson\n",
      "0317112 Mel Gibson\n",
      "2153167 Mel Gibson\n",
      "15271356 Mel Gibson\n",
      "4798507 Mel A. Gibson\n",
      "3323885 Adam Taylor\n",
      "2800055 Mel Gibson\n",
      "3742421 Melina Mari Bryant\n",
      "0317096 Meg Gibson\n",
      "0879085 Tyrese Gibson\n",
      "0684545 Julie Pinson\n",
      "8908771 Millie Gibson\n",
      "0316995 Hoot Gibson\n",
      "0316945 Donal Gibson\n",
      "4047961 Noel Gibson\n",
      "6521923 Mel Gibbon\n",
      "2988370 Mal Gibson\n",
      "0316932 Dean Paul Gibson\n",
      "0316878 Cal Gibson\n"
     ]
    }
   ],
   "source": [
    "# create an instance of the Cinemagoer class\n",
    "ia = Cinemagoer()\n",
    "\n",
    "# get a movie\n",
    "movie = ia.get_movie('0133093')\n",
    "\n",
    "# print the names of the directors of the movie\n",
    "print('Directors:')\n",
    "for director in movie['directors']:\n",
    "    print(director['name'])\n",
    "\n",
    "# print the genres of the movie\n",
    "print('Genres:')\n",
    "for genre in movie['genres']:\n",
    "    print(genre)\n",
    "\n",
    "# search for a person name\n",
    "people = ia.search_person('Mel Gibson')\n",
    "for person in people:\n",
    "    print(person.personID, person['name'])"
   ]
  },
  {
   "cell_type": "code",
   "execution_count": 36,
   "id": "458b3b67-7da3-4617-9dc8-ae8382fbe419",
   "metadata": {},
   "outputs": [
    {
     "name": "stdout",
     "output_type": "stream",
     "text": [
      "------------------------------------------------\n",
      "{'movies': [{'name': 'Killers of the Flower Moon', 'tomatometer': 92, 'audience_score': 85, 'weighted_score': 89, 'genres': ['Crime', 'Drama'], 'rating': 'R', 'duration': '3h 26m', 'year': '2023', 'actors': ['Leonardo DiCaprio', 'Robert De Niro', 'Jesse Plemons', 'Lily Gladstone', 'Tantoo Cardinal'], 'directors': ['Martin Scorsese']}]} \n",
      "\n",
      "1\n",
      "Killers of the Flower Moon\n",
      "------------------------------------------------\n",
      "{'movies': []} \n",
      "\n",
      "0\n"
     ]
    },
    {
     "ename": "IndexError",
     "evalue": "list index out of range",
     "output_type": "error",
     "traceback": [
      "\u001b[0;31m---------------------------------------------------------------------------\u001b[0m",
      "\u001b[0;31mIndexError\u001b[0m                                Traceback (most recent call last)",
      "\u001b[0;32m<ipython-input-36-2b8e12ce3241>\u001b[0m in \u001b[0;36m<module>\u001b[0;34m\u001b[0m\n\u001b[1;32m     19\u001b[0m \u001b[0;34m\u001b[0m\u001b[0m\n\u001b[1;32m     20\u001b[0m     \u001b[0;32melse\u001b[0m\u001b[0;34m:\u001b[0m\u001b[0;34m\u001b[0m\u001b[0;34m\u001b[0m\u001b[0m\n\u001b[0;32m---> 21\u001b[0;31m         \u001b[0mprint\u001b[0m\u001b[0;34m(\u001b[0m\u001b[0mresp\u001b[0m\u001b[0;34m.\u001b[0m\u001b[0mjson\u001b[0m\u001b[0;34m(\u001b[0m\u001b[0;34m)\u001b[0m\u001b[0;34m.\u001b[0m\u001b[0mget\u001b[0m\u001b[0;34m(\u001b[0m\u001b[0;34m'movies'\u001b[0m\u001b[0;34m)\u001b[0m\u001b[0;34m[\u001b[0m\u001b[0;36m0\u001b[0m\u001b[0;34m]\u001b[0m\u001b[0;34m.\u001b[0m\u001b[0mget\u001b[0m\u001b[0;34m(\u001b[0m\u001b[0;34m'name'\u001b[0m\u001b[0;34m)\u001b[0m\u001b[0;34m)\u001b[0m\u001b[0;34m\u001b[0m\u001b[0;34m\u001b[0m\u001b[0m\n\u001b[0m",
      "\u001b[0;31mIndexError\u001b[0m: list index out of range"
     ]
    }
   ],
   "source": [
    "for i in movietitle:\n",
    "    print('-'*48)\n",
    "    movieinput = i\n",
    "\n",
    "    resp = requests.get('https://rotten-tomatoes-api.ue.r.appspot.com/search/' + movieinput)\n",
    "\n",
    "    print(resp.json(), '\\n')\n",
    "    print(len(resp.json().get('movies')))\n",
    "\n",
    "    i = 0\n",
    "    if len(resp.json().get('movies')) > 1:\n",
    "        for m in resp.json().get('movies'):\n",
    "            i += 1\n",
    "            print(f'{i:2.0f}.', m.get('name'))\n",
    "            print(' '*3, 'release:', m.get('year'))\n",
    "\n",
    "        hit = int(abort(input('-> select wich file: ')))\n",
    "        print(resp.json().get('movies')[hit - 1])\n",
    "\n",
    "    else:\n",
    "        print(resp.json().get('movies')[0].get('name'))\n"
   ]
  },
  {
   "cell_type": "code",
   "execution_count": 1,
   "id": "25bad1bc-4294-4c6b-b26b-3359b7507c28",
   "metadata": {},
   "outputs": [],
   "source": [
    "import time\n",
    "def import_url(url):\n",
    "    while True:\n",
    "        try:\n",
    "            page = urlopen(url)\n",
    "\n",
    "        except Exception as e:\n",
    "            print(\"\\r\" , end=\"\", flush=True)\n",
    "            \n",
    "            print(e)\n",
    "            time.sleep(4)\n",
    "        else:\n",
    "            print('finally.')\n",
    "            return page\n",
    "        "
   ]
  },
  {
   "cell_type": "code",
   "execution_count": 8,
   "id": "2c67afde-65ff-4142-a2c5-9db009ccd4ca",
   "metadata": {},
   "outputs": [],
   "source": [
    "url =         \n",
    "import_url(url)"
   ]
  },
  {
   "cell_type": "code",
   "execution_count": 8,
   "id": "069b1956-645c-4885-aafb-cd22937128f6",
   "metadata": {},
   "outputs": [],
   "source": []
  },
  {
   "cell_type": "code",
   "execution_count": null,
   "id": "6a71650f-73ce-410d-a199-f4da889da965",
   "metadata": {},
   "outputs": [],
   "source": [
    "soup = BeautifulSoup(html, 'html5lib')\n",
    "print(soup.prettify())"
   ]
  },
  {
   "cell_type": "code",
   "execution_count": null,
   "id": "359700aa-9e24-41ee-a476-38f89e3bef5e",
   "metadata": {},
   "outputs": [],
   "source": [
    "from urllib.request import urlopen\n",
    "from urllib.parse import unquote\n",
    "import re\n",
    "import json\n",
    "from datetime import datetime as dt\n",
    "from datetime import timedelta\n",
    "from bs4 import BeautifulSoup\n",
    "\n",
    "url = \"https://www.kinopolis.de/bn/programm\"\n",
    "html = urlopen(url).read().decode(\"utf-8\")\n",
    "\n",
    "pattern = r'<section class=\"bg.*?<section class=\"bg'\n",
    "match_results = re.findall(pattern, html, re.DOTALL)"
   ]
  },
  {
   "cell_type": "code",
   "execution_count": null,
   "id": "34c4c251-8c58-4770-9f75-084f5c03c965",
   "metadata": {},
   "outputs": [],
   "source": [
    "def ():\n",
    "    result = {\n",
    "        \"alias\": [],\n",
    "        \"event\"\n",
    "    }"
   ]
  },
  {
   "cell_type": "code",
   "execution_count": null,
   "id": "5049e907-1bb9-43cb-bdf0-3eed2595be83",
   "metadata": {
    "tags": []
   },
   "outputs": [],
   "source": [
    "<section class=\"bg-2  movie mb-2\"  data-fsk=\"12\" data-genre='[\"komödie\"]' data-version='[\"2d\"]'>"
   ]
  },
  {
   "cell_type": "code",
   "execution_count": 202,
   "id": "68302341-08fa-47a7-b48c-c364d3d7ab5c",
   "metadata": {},
   "outputs": [],
   "source": [
    "from urllib.request import urlopen\n",
    "from urllib.parse import unquote\n",
    "import re\n",
    "import json\n",
    "from datetime import datetime as dt\n",
    "from datetime import timedelta\n",
    "from bs4 import BeautifulSoup\n",
    "\n",
    "def None_AttributeError_cnt(function):\n",
    "    try:\n",
    "        return function.contents[0]\n",
    "    except:\n",
    "        return None\n",
    "\n",
    "def kinopolis():\n",
    "    result = {\n",
    "    \"alias\": ['kinopolis', 'kp'],\n",
    "    \"event\": []\n",
    "    }\n",
    "\n",
    "    url = \"https://www.kinopolis.de/bn/programm\"\n",
    "    html = import_url(url).read().decode(\"utf-8\")\n",
    "    \n",
    "    soup = BeautifulSoup(html, \"html.parser\")\n",
    "    match_results = soup.find_all(\"section\", {\"class\": \"bg-2 movie mb-2\"})\n",
    "    print(match_results)\n",
    "    \n",
    "    for program in match_results:\n",
    "        title = program.find(\"a\", {\"class\": \"hl-link\", \"href\": True}).contents[0]\n",
    "\n",
    "        subtitle = program.find(\"span\", {\"class\": \"hl--sub\"})\n",
    "        if subtitle and len(subtitle.contents) > 0:\n",
    "            subtitle = subtitle.contents[0]\n",
    "        else:\n",
    "            subtitle = None\n",
    "\n",
    "        jspec = program.find_all(\"div\", {\"class\": \"movie__specs-el\"})\n",
    "        all_spec = []\n",
    "        for i in jspec:\n",
    "            if 'FSK' in str(i):\n",
    "                all_spec.append(str(i).split('</span> ', 1)[1].split('<', 1)[0])\n",
    "\n",
    "            elif 'Dauer' in str(i):\n",
    "                runtime = str(i).split('</span> ', 1)[1].split('<', 1)[0].replace('Minuten', '').replace(' ', '')\n",
    "\n",
    "        spec_caption = []\n",
    "        caption_wrap = program.find_all(\"div\", {\"class\": \"caption__wrap\"})\n",
    "        if caption_wrap:\n",
    "            for caption in caption_wrap:\n",
    "                tmp = caption.find(\"b\")\n",
    "                if tmp:\n",
    "                    caption_tag = tmp.contents[0]\n",
    "                    caption_text = caption.find(\"div\", {\"class\": \"caption__text\"}).contents[0].replace(' - Atmos', '')\n",
    "\n",
    "                    for t in [title, subtitle]:\n",
    "                        caption_text = \"\".join(caption_text.split(t)).lstrip().rstrip()\n",
    "\n",
    "                    if caption_tag in caption_text:\n",
    "                        caption_text = caption_text.split(caption_tag)[1].replace(':', '')\n",
    "\n",
    "                    if [caption_tag, caption_text] not in spec_caption:\n",
    "                        spec_caption.append([caption_tag, caption_text])\n",
    "\n",
    "                else:\n",
    "                    string = [c.string for c in caption if c.string not in [None, '\\n']]\n",
    "                    if len(string) == 1:\n",
    "                        string = string[0]\n",
    "                    else:\n",
    "                        string = ': '.join([c.string for c in caption if c != '\\n'])\n",
    "                    spec_caption.append(['tag_all', string])\n",
    "\n",
    "\n",
    "        l_day = []\n",
    "        l_price = []\n",
    "\n",
    "        table = program.find_all(\"div\", {\"class\": \"slider slider-6 prog-nav\"})\n",
    "        pattern = r'data-performance-ids=\".*?</div></div></div>'\n",
    "        for slider in re.findall(pattern, str(table)):        \n",
    "            day = re.search('<div class=\"prog-nav__day\">(.*?)</div>', slider).group(1)\n",
    "\n",
    "            if 'Heute' in day:\n",
    "                day = dt.today()\n",
    "\n",
    "            elif 'Morgen' in day:\n",
    "                day = dt.today() + timedelta(+1)\n",
    "\n",
    "            else:\n",
    "                day = dt.strptime(day.split(' ')[-1], '%d.%m.')\n",
    "\n",
    "            l_day.append(day.replace(year=dt.today().year, second=0, microsecond=0))\n",
    "\n",
    "\n",
    "        i = -1\n",
    "        for day_slide in program.find_all(\"div\", {\"class\": \"prog-day__wrapper\"}):\n",
    "            i += 1\n",
    "            day = l_day[i]\n",
    "\n",
    "            for screen in day_slide.find_all(\"div\", {\"class\": \"prog2__cont\", \"data-performance-id\": True}):            \n",
    "                time = None_AttributeError_cnt(screen.find(\"div\", {\"class\": \"prog2__time\"}))\n",
    "                if time:\n",
    "                    hour, minute = time.split(':', 1)\n",
    "                    timestamp = day.replace(hour=int(hour), minute=int(minute))\n",
    "\n",
    "                else:\n",
    "                    timestamp = None\n",
    "\n",
    "                try:\n",
    "                    room = re.search('<div>(.*?)</div>', str(screen)).group(1)\n",
    "                except:\n",
    "                    room = None\n",
    "\n",
    "                seat = None_AttributeError_cnt(screen.find(\"div\", {\"class\": \"prog2__seats\"}))\n",
    "\n",
    "                load = None_AttributeError_cnt(screen.find(\"div\", {\"class\": \"prog2__scale scale-100\"}))\n",
    "\n",
    "                try:\n",
    "                    tmp = screen.find(\"a\", {\"data-version\": True, \"href\": True})['data-version'].replace('[', '').replace(']', '')\n",
    "                    tmp = tmp.replace('\"', '').upper().split(',')\n",
    "\n",
    "                    if '2D' in tmp:\n",
    "                        tmp.remove('2D')\n",
    "\n",
    "                    if all(i in tmp for i in ['OV', 'OMU']):\n",
    "                        tmp.remove('OV')\n",
    "\n",
    "                    spec = []                \n",
    "                    [spec.append(i) for i in tmp if i not in all_spec + spec]\n",
    "\n",
    "                    for caption in spec_caption:\n",
    "                        if caption[0] == 'tag_all':\n",
    "                            all_spec.append(caption[1])\n",
    "\n",
    "                        elif any(caption[0].lower() == t.lower() for t in spec):\n",
    "                            spec = [caption[0] +': '+ caption[1] if s.lower() == caption[0].lower() else s for s in spec]\n",
    "\n",
    "                    spec = ', '.join(all_spec + spec)\n",
    "                except:\n",
    "                    spec = ', '.join(all_spec)\n",
    "\n",
    "                try:\n",
    "                    ticket = 'https://www.kinopolis.de' + screen.find(\"a\", {\"data-version\": True, \"href\": True})['href']\n",
    "                except:\n",
    "                    ticket = None\n",
    "\n",
    "                price = None_AttributeError_cnt(screen.find(\"b\"))\n",
    "                if price:\n",
    "                    price = price + '€'\n",
    "\n",
    "\n",
    "                page = {\n",
    "                    \"name\": 'KINOPOLIS',\n",
    "                    \"short name\": 'kinopolis',\n",
    "                    \"emoji\": ':burrito:',\n",
    "                    \"timestamp\": timestamp,\n",
    "                    \"title\": title,\n",
    "                    \"subtitle\": subtitle,\n",
    "                    \"room\": room,\n",
    "                    \"seat\": seat,\n",
    "                    \"runtime\": runtime,\n",
    "                    \"spec\": spec,\n",
    "                    \"location\": 'KINOPOLIS',\n",
    "                    \"ticket\": ticket,\n",
    "                    \"load\": load,\n",
    "                    \"price\": price\n",
    "                }\n",
    "\n",
    "                result['event'].append(page)\n",
    "                \n",
    "    return result"
   ]
  },
  {
   "cell_type": "code",
   "execution_count": 220,
   "id": "3904d88d-60df-4ca3-95eb-4c7be1478f87",
   "metadata": {},
   "outputs": [
    {
     "data": {
      "text/plain": [
       "0"
      ]
     },
     "execution_count": 220,
     "metadata": {},
     "output_type": "execute_result"
    }
   ],
   "source": [
    "dt.today().hour"
   ]
  },
  {
   "cell_type": "code",
   "execution_count": 51,
   "id": "89e7281a-f874-48d8-8b5c-9d3cb201d32f",
   "metadata": {},
   "outputs": [
    {
     "name": "stdout",
     "output_type": "stream",
     "text": [
      "<urlopen error [Errno 54] Connection reset by peer>\n",
      "finally.\n",
      "2024-03-14 00:59:12.101287\n",
      "[datetime.datetime(2024, 3, 15, 0, 59), datetime.datetime(2024, 3, 15, 0, 0), datetime.datetime(2024, 3, 16, 0, 0), datetime.datetime(2024, 3, 17, 0, 0), datetime.datetime(2024, 3, 18, 0, 0), datetime.datetime(2024, 3, 19, 0, 0), datetime.datetime(2024, 3, 15, 0, 59), datetime.datetime(2024, 3, 15, 0, 0), datetime.datetime(2024, 3, 16, 0, 0), datetime.datetime(2024, 3, 17, 0, 0), datetime.datetime(2024, 3, 18, 0, 0), datetime.datetime(2024, 3, 19, 0, 0), datetime.datetime(2024, 3, 15, 0, 59), datetime.datetime(2024, 3, 15, 0, 0), datetime.datetime(2024, 3, 16, 0, 0), datetime.datetime(2024, 3, 17, 0, 0), datetime.datetime(2024, 3, 18, 0, 0), datetime.datetime(2024, 3, 19, 0, 0), datetime.datetime(2024, 3, 15, 0, 59), datetime.datetime(2024, 3, 15, 0, 0), datetime.datetime(2024, 3, 16, 0, 0), datetime.datetime(2024, 3, 17, 0, 0), datetime.datetime(2024, 3, 18, 0, 0), datetime.datetime(2024, 3, 19, 0, 0), datetime.datetime(2024, 3, 15, 0, 59), datetime.datetime(2024, 3, 15, 0, 0), datetime.datetime(2024, 3, 16, 0, 0), datetime.datetime(2024, 3, 17, 0, 0), datetime.datetime(2024, 3, 18, 0, 0), datetime.datetime(2024, 3, 19, 0, 0), datetime.datetime(2024, 3, 15, 0, 59), datetime.datetime(2024, 3, 15, 0, 0), datetime.datetime(2024, 3, 16, 0, 0), datetime.datetime(2024, 3, 17, 0, 0), datetime.datetime(2024, 3, 18, 0, 0), datetime.datetime(2024, 3, 19, 0, 0), datetime.datetime(2024, 3, 19, 0, 0), datetime.datetime(2024, 3, 16, 0, 0), datetime.datetime(2024, 3, 17, 0, 0), datetime.datetime(2024, 3, 17, 0, 0), datetime.datetime(2024, 3, 18, 0, 0), datetime.datetime(2024, 3, 19, 0, 0), datetime.datetime(2024, 3, 16, 0, 0), datetime.datetime(2024, 3, 17, 0, 0), datetime.datetime(2024, 3, 16, 0, 0), datetime.datetime(2024, 3, 17, 0, 0), datetime.datetime(2024, 3, 16, 0, 0), datetime.datetime(2024, 3, 17, 0, 0), datetime.datetime(2024, 3, 17, 0, 0), datetime.datetime(2024, 3, 16, 0, 0), datetime.datetime(2024, 3, 17, 0, 0)]\n",
      "15\n",
      "<urlopen error Remote end closed connection without response>\n",
      "<urlopen error Remote end closed connection without response>\n",
      "finally.\n",
      "2024-03-14 01:00:20.959018\n",
      "[datetime.datetime(2024, 3, 20, 0, 0), datetime.datetime(2024, 3, 14, 1, 0), datetime.datetime(2024, 3, 15, 1, 0), datetime.datetime(2024, 3, 16, 0, 0), datetime.datetime(2024, 3, 17, 0, 0), datetime.datetime(2024, 3, 18, 0, 0), datetime.datetime(2024, 3, 19, 0, 0), datetime.datetime(2024, 3, 20, 0, 0), datetime.datetime(2024, 3, 14, 1, 0), datetime.datetime(2024, 3, 15, 1, 0), datetime.datetime(2024, 3, 16, 0, 0), datetime.datetime(2024, 3, 17, 0, 0), datetime.datetime(2024, 3, 18, 0, 0), datetime.datetime(2024, 3, 19, 0, 0), datetime.datetime(2024, 3, 20, 0, 0), datetime.datetime(2024, 3, 14, 1, 0), datetime.datetime(2024, 3, 15, 1, 0), datetime.datetime(2024, 3, 16, 0, 0), datetime.datetime(2024, 3, 17, 0, 0), datetime.datetime(2024, 3, 18, 0, 0), datetime.datetime(2024, 3, 19, 0, 0), datetime.datetime(2024, 3, 20, 0, 0), datetime.datetime(2024, 3, 14, 1, 0), datetime.datetime(2024, 3, 15, 1, 0), datetime.datetime(2024, 3, 16, 0, 0), datetime.datetime(2024, 3, 17, 0, 0), datetime.datetime(2024, 3, 18, 0, 0), datetime.datetime(2024, 3, 19, 0, 0), datetime.datetime(2024, 3, 20, 0, 0), datetime.datetime(2024, 3, 14, 1, 0), datetime.datetime(2024, 3, 16, 0, 0), datetime.datetime(2024, 3, 18, 0, 0), datetime.datetime(2024, 3, 16, 0, 0), datetime.datetime(2024, 3, 17, 0, 0), datetime.datetime(2024, 3, 15, 1, 0), datetime.datetime(2024, 3, 17, 0, 0), datetime.datetime(2024, 3, 19, 0, 0), datetime.datetime(2024, 3, 18, 0, 0), datetime.datetime(2024, 3, 18, 0, 0), datetime.datetime(2024, 3, 20, 0, 0), datetime.datetime(2024, 3, 19, 0, 0), datetime.datetime(2024, 3, 16, 0, 0), datetime.datetime(2024, 3, 17, 0, 0), datetime.datetime(2024, 3, 16, 0, 0), datetime.datetime(2024, 3, 17, 0, 0), datetime.datetime(2024, 3, 16, 0, 0), datetime.datetime(2024, 3, 17, 0, 0), datetime.datetime(2024, 3, 17, 0, 0), datetime.datetime(2024, 3, 16, 0, 0), datetime.datetime(2024, 3, 17, 0, 0)]\n",
      "20\n",
      "finally.\n",
      "2024-03-14 01:01:21.861545\n",
      "[datetime.datetime(2024, 3, 20, 0, 0), datetime.datetime(2024, 3, 14, 1, 1), datetime.datetime(2024, 3, 15, 1, 1), datetime.datetime(2024, 3, 16, 0, 0), datetime.datetime(2024, 3, 17, 0, 0), datetime.datetime(2024, 3, 18, 0, 0), datetime.datetime(2024, 3, 19, 0, 0), datetime.datetime(2024, 3, 20, 0, 0), datetime.datetime(2024, 3, 14, 1, 1), datetime.datetime(2024, 3, 15, 1, 1), datetime.datetime(2024, 3, 16, 0, 0), datetime.datetime(2024, 3, 17, 0, 0), datetime.datetime(2024, 3, 18, 0, 0), datetime.datetime(2024, 3, 19, 0, 0), datetime.datetime(2024, 3, 20, 0, 0), datetime.datetime(2024, 3, 14, 1, 1), datetime.datetime(2024, 3, 15, 1, 1), datetime.datetime(2024, 3, 16, 0, 0), datetime.datetime(2024, 3, 17, 0, 0), datetime.datetime(2024, 3, 18, 0, 0), datetime.datetime(2024, 3, 19, 0, 0), datetime.datetime(2024, 3, 20, 0, 0), datetime.datetime(2024, 3, 14, 1, 1), datetime.datetime(2024, 3, 15, 1, 1), datetime.datetime(2024, 3, 16, 0, 0), datetime.datetime(2024, 3, 17, 0, 0), datetime.datetime(2024, 3, 18, 0, 0), datetime.datetime(2024, 3, 19, 0, 0), datetime.datetime(2024, 3, 20, 0, 0), datetime.datetime(2024, 3, 14, 1, 1), datetime.datetime(2024, 3, 16, 0, 0), datetime.datetime(2024, 3, 18, 0, 0), datetime.datetime(2024, 3, 16, 0, 0), datetime.datetime(2024, 3, 17, 0, 0), datetime.datetime(2024, 3, 15, 1, 1), datetime.datetime(2024, 3, 17, 0, 0), datetime.datetime(2024, 3, 19, 0, 0), datetime.datetime(2024, 3, 18, 0, 0), datetime.datetime(2024, 3, 18, 0, 0), datetime.datetime(2024, 3, 20, 0, 0), datetime.datetime(2024, 3, 19, 0, 0), datetime.datetime(2024, 3, 16, 0, 0), datetime.datetime(2024, 3, 17, 0, 0), datetime.datetime(2024, 3, 16, 0, 0), datetime.datetime(2024, 3, 17, 0, 0), datetime.datetime(2024, 3, 16, 0, 0), datetime.datetime(2024, 3, 17, 0, 0), datetime.datetime(2024, 3, 17, 0, 0), datetime.datetime(2024, 3, 16, 0, 0), datetime.datetime(2024, 3, 17, 0, 0)]\n",
      "20\n"
     ]
    },
    {
     "ename": "KeyboardInterrupt",
     "evalue": "",
     "output_type": "error",
     "traceback": [
      "\u001b[0;31m---------------------------------------------------------------------------\u001b[0m",
      "\u001b[0;31mKeyboardInterrupt\u001b[0m                         Traceback (most recent call last)",
      "\u001b[0;32m<ipython-input-51-c9df31d30201>\u001b[0m in \u001b[0;36m<module>\u001b[0;34m\u001b[0m\n\u001b[1;32m     31\u001b[0m     \u001b[0;32mif\u001b[0m \u001b[0ml_day\u001b[0m\u001b[0;34m[\u001b[0m\u001b[0;36m0\u001b[0m\u001b[0;34m]\u001b[0m\u001b[0;34m.\u001b[0m\u001b[0mday\u001b[0m \u001b[0;34m==\u001b[0m \u001b[0;34m'14'\u001b[0m\u001b[0;34m:\u001b[0m\u001b[0;34m\u001b[0m\u001b[0;34m\u001b[0m\u001b[0m\n\u001b[1;32m     32\u001b[0m         \u001b[0msys\u001b[0m\u001b[0;34m.\u001b[0m\u001b[0mexit\u001b[0m\u001b[0;34m(\u001b[0m\u001b[0;34m)\u001b[0m\u001b[0;34m\u001b[0m\u001b[0;34m\u001b[0m\u001b[0m\n\u001b[0;32m---> 33\u001b[0;31m     \u001b[0mtime\u001b[0m\u001b[0;34m.\u001b[0m\u001b[0msleep\u001b[0m\u001b[0;34m(\u001b[0m\u001b[0;36m60\u001b[0m\u001b[0;34m)\u001b[0m\u001b[0;34m\u001b[0m\u001b[0;34m\u001b[0m\u001b[0m\n\u001b[0m",
      "\u001b[0;31mKeyboardInterrupt\u001b[0m: "
     ]
    }
   ],
   "source": [
    "import time\n",
    "while True:\n",
    "    l_day = []\n",
    "    url = \"https://www.kinopolis.de/bn/programm\"\n",
    "    html = import_url(url).read().decode(\"utf-8\")\n",
    "    print(dt.today())\n",
    "    \n",
    "    pattern = r'<section class=\"bg.*?<section class=\"bg'\n",
    "    match_results = re.findall(pattern, html, re.DOTALL)\n",
    "\n",
    "    for movie in match_results:\n",
    "        program = BeautifulSoup(movie, \"html.parser\")   \n",
    "        \n",
    "        table = program.find_all(\"div\", {\"class\": \"slider slider-6 prog-nav\"})\n",
    "        pattern = r'data-performance-ids=\".*?</div></div></div>'\n",
    "        for slider in re.findall(pattern, str(table)):\n",
    "            day = re.search('<div class=\"prog-nav__day\">(.*?)</div>', slider).group(1)\n",
    "\n",
    "            if 'Heute' in day:\n",
    "                day = dt.today()\n",
    "\n",
    "            elif 'Morgen' in day:\n",
    "                day = dt.today() + timedelta(+1)\n",
    "\n",
    "            else:\n",
    "                day = dt.strptime(day.split(' ')[-1], '%d.%m.')\n",
    "\n",
    "            l_day.append(day.replace(year=dt.today().year, second=0, microsecond=0))\n",
    "    print(l_day)\n",
    "    print(l_day[0].day )\n",
    "    if l_day[0].day == '14':\n",
    "        sys.exit()\n",
    "    time.sleep(60)"
   ]
  },
  {
   "cell_type": "code",
   "execution_count": null,
   "id": "a9d0e9c6-4d11-400a-a802-7435c836493a",
   "metadata": {},
   "outputs": [],
   "source": []
  },
  {
   "cell_type": "code",
   "execution_count": null,
   "id": "c777621a-1662-4539-bbf4-21e3d759bbd5",
   "metadata": {},
   "outputs": [],
   "source": []
  },
  {
   "cell_type": "code",
   "execution_count": null,
   "id": "198c6cea-3f68-4849-b590-499ce9c5da0b",
   "metadata": {},
   "outputs": [],
   "source": []
  },
  {
   "cell_type": "code",
   "execution_count": null,
   "id": "079ad353-61e2-4e29-a138-bc674b658f4a",
   "metadata": {},
   "outputs": [],
   "source": []
  },
  {
   "cell_type": "code",
   "execution_count": null,
   "id": "a7d70de9-3785-45a4-a6e8-4bcbe5a36b99",
   "metadata": {},
   "outputs": [],
   "source": []
  },
  {
   "cell_type": "code",
   "execution_count": null,
   "id": "6640f80b-5396-41ee-b4fb-e7cc7dc78f08",
   "metadata": {},
   "outputs": [],
   "source": []
  },
  {
   "cell_type": "code",
   "execution_count": null,
   "id": "b8bd9f33-40b9-4204-a9a7-086802662ab2",
   "metadata": {},
   "outputs": [],
   "source": []
  },
  {
   "cell_type": "code",
   "execution_count": null,
   "id": "adc353cf-6598-4213-8ca4-a9fb1f27778c",
   "metadata": {},
   "outputs": [],
   "source": []
  },
  {
   "cell_type": "code",
   "execution_count": null,
   "id": "64edaa6c-b132-45d4-8bb9-b79c798a1210",
   "metadata": {},
   "outputs": [],
   "source": []
  },
  {
   "cell_type": "code",
   "execution_count": null,
   "id": "ad29765a-555b-4152-8232-92c88c7209b5",
   "metadata": {},
   "outputs": [],
   "source": []
  },
  {
   "cell_type": "code",
   "execution_count": null,
   "id": "9e43f91f-d374-443f-adb3-9dfa662b19ae",
   "metadata": {},
   "outputs": [],
   "source": []
  },
  {
   "cell_type": "code",
   "execution_count": null,
   "id": "1c8833fb-f23e-4d05-bac0-eed378314210",
   "metadata": {},
   "outputs": [],
   "source": []
  },
  {
   "cell_type": "code",
   "execution_count": null,
   "id": "b4a42fbd-055a-4ac2-8f02-11d2f3046be9",
   "metadata": {},
   "outputs": [],
   "source": []
  }
 ],
 "metadata": {
  "kernelspec": {
   "display_name": "Python 3",
   "language": "python",
   "name": "python3"
  },
  "language_info": {
   "codemirror_mode": {
    "name": "ipython",
    "version": 3
   },
   "file_extension": ".py",
   "mimetype": "text/x-python",
   "name": "python",
   "nbconvert_exporter": "python",
   "pygments_lexer": "ipython3",
   "version": "3.8.10"
  }
 },
 "nbformat": 4,
 "nbformat_minor": 5
}
