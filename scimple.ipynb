{
 "cells": [
  {
   "cell_type": "code",
   "execution_count": 1,
   "id": "548435b6-cafc-42c4-ba25-fc90ff2eeaba",
   "metadata": {},
   "outputs": [
    {
     "name": "stdout",
     "output_type": "stream",
     "text": [
      "\n",
      " S how\n",
      " C inemas\n",
      " I n\n",
      " M y\n",
      " P lace\n",
      " L isting\n",
      " E verything\n",
      "\n"
     ]
    }
   ],
   "source": [
    "import sys,time\n",
    "\n",
    "string = \"\"\" S how\n",
    " C inemas\n",
    " I n\n",
    " M y\n",
    " P lace\n",
    " L isting\n",
    " E verything\"\"\"\n",
    "\n",
    "typing_speed = 390\n",
    "\n",
    "def slow_type(t):\n",
    "    for l in t:\n",
    "        sys.stdout.write(l)\n",
    "        sys.stdout.flush()\n",
    "        time.sleep(10.0/typing_speed)\n",
    "    print('\\n')\n",
    "\n",
    "print('')\n",
    "slow_type(string)"
   ]
  },
  {
   "cell_type": "code",
   "execution_count": 1,
   "id": "b0e934c7-1225-4ec6-9930-3e809ae8fc51",
   "metadata": {},
   "outputs": [],
   "source": [
    "import requests\n",
    "import sys\n",
    "import emoji\n",
    "from datetime import datetime as dt\n",
    "from datetime import timedelta\n",
    "        \n",
    "def cinemoji(cinema, place):\n",
    "    d_cinema = get_dict(cinema)\n",
    "    \n",
    "    name = d_cinema['name']\n",
    "    emoticon = emoji.emojize(d_cinema['emoji'])\n",
    "    \n",
    "    if place == 'before':\n",
    "        return emoticon +' '+ name\n",
    "    elif place == 'after':\n",
    "        return name +' '+ emoticon\n",
    "    elif place == 'both':\n",
    "        return emoticon +' '+ name +' '+ emoticon"
   ]
  },
  {
   "cell_type": "code",
   "execution_count": 3,
   "id": "8f226f93-70df-41d5-8612-baa6974e53ca",
   "metadata": {},
   "outputs": [
    {
     "name": "stdout",
     "output_type": "stream",
     "text": [
      "🍿 WOKI 🍿\n",
      "🍞 Brotfabrik 🍞\n",
      "🦖 Rex 🦖\n",
      "🆕 Neue Filmbühne 🆕\n"
     ]
    }
   ],
   "source": [
    "print(emoji.emojize(\":popcorn:\"), 'WOKI', emoji.emojize(\":popcorn:\"))\n",
    "\n",
    "print(emoji.emojize(\":bread:\"), 'Brotfabrik', emoji.emojize(\":bread:\"))\n",
    "\n",
    "print(emoji.emojize(\":T-Rex:\"), 'Rex', emoji.emojize(\":T-Rex:\"))\n",
    "\n",
    "print(emoji.emojize(\":NEW_button:\"), 'Neue Filmbühne', emoji.emojize(\":NEW_button:\"))"
   ]
  },
  {
   "cell_type": "code",
   "execution_count": 7,
   "id": "85f0cf67-11dd-49fe-a10a-49ca378e238d",
   "metadata": {},
   "outputs": [
    {
     "name": "stdout",
     "output_type": "stream",
     "text": [
      "killers of the flower moon\n",
      "wochenendrebellen\n",
      "one for the road\n",
      "der exorzist: bekenntnis\n",
      "sara mardini - gegen den strom\n",
      "she said\n",
      "the nun 2\n",
      "philipp mickenbecker - real life\n",
      "barbie\n",
      "oppenheimer\n",
      "equalizer 3 - the final chapter\n",
      "trolls - gemeinsam stark\n",
      "paw patrol: der mighty kinofilm\n",
      "checker tobi und die reise zu den fliegenden flüssen\n",
      "elemental\n",
      "asterix & obelix im reich der mitte\n",
      "miraculous: ladybug & cat noir - der film\n",
      "kuddelmuddel bei pettersson und findus\n",
      "der super mario bros. film\n",
      "heaven can wait - wir leben jetzt\n",
      "the lost king\n",
      "ingeborg bachmann - reise in die wüste\n",
      "fallende blätter\n",
      "die unwahrscheinliche pilgerreise des harold fry\n",
      "die theorie von allem\n",
      "neue geschichten vom pumuckl\n",
      "die einfachen dinge\n",
      "weißt du noch?\n",
      "anselm - das rauschen der zeit\n",
      "ein ganzes leben\n",
      "roh 2023/24: don quixote\n",
      "exhibition on screen: klimt & the kiss\n",
      "callas - paris, 1958\n",
      "fearless flyers\n",
      "la dolce vita\n",
      "tori und lokita\n",
      "beata te – der erzengel und ich\n",
      "il bambino nascosto – das versteckte kind\n",
      "mamma roma\n",
      "margini – am rand\n",
      "grazie ragazzi – alles nur theater?\n",
      "a haunting in venice\n",
      "past lives\n",
      "notte fantasma – ghost night\n"
     ]
    }
   ],
   "source": [
    "movietitle = []\n",
    "l = ['woki', 'filmbuehne', 'rex', 'brot']\n",
    "for i in l:\n",
    "    d = get_dict(i)\n",
    "    for t in d['title']:\n",
    "        if t.lower() not in movietitle and 'sneak preview' not in t.lower():\n",
    "            movietitle.append(t.lower())\n",
    "\n",
    "for i in movietitle:\n",
    "    print(i)"
   ]
  },
  {
   "cell_type": "code",
   "execution_count": 191,
   "id": "9dea19b0-6d42-45a7-b486-e03e82f2f603",
   "metadata": {},
   "outputs": [
    {
     "name": "stdout",
     "output_type": "stream",
     "text": [
      "\u001b[38;5;39mhello\u001b[0;0m\n",
      "this\n",
      "hi\n",
      "2024-02-24 05:31:16.706275 2024-02-24 05:31:16.706278\n",
      "\u001b[38;5;160mthis\u001b[0;0m\n"
     ]
    }
   ],
   "source": [
    "print('\\033[38;5;39mhello\\033[0;0m')\n",
    "print('this')\n",
    "if type(dt.today()) == dt:\n",
    "    print('hi')\n",
    "print(dt.today(), dt.now())\n",
    "\n",
    "print(return_color('this', '160'))"
   ]
  },
  {
   "cell_type": "code",
   "execution_count": null,
   "id": "0befe46b-3dec-4aae-a59e-ab4a6e399efd",
   "metadata": {},
   "outputs": [],
   "source": [
    "import sys, time, random\n",
    "import emoji\n",
    "from datetime import datetime as dt\n",
    "from datetime import timedelta\n",
    "from shutil import get_terminal_size\n",
    "import scimple_functions as SF\n",
    "\n",
    "def slow_type(t):\n",
    "    typing_speed = 375\n",
    "    for l in t:\n",
    "        sys.stdout.write(l)\n",
    "        sys.stdout.flush()\n",
    "        time.sleep(10.0/typing_speed)\n",
    "    print('\\n')\n",
    "\n",
    "def opening():\n",
    "    string = \"\"\"     S how\n",
    "     C inemas\n",
    "     I n\n",
    "     M y\n",
    "     P lace\n",
    "     L isting\n",
    "     E verything\"\"\"\n",
    "\n",
    "    print('')\n",
    "    slow_type(string)\n",
    "    \n",
    "opening()\n",
    "\n",
    "def inputexit(var):\n",
    "    var = input(var)\n",
    "    if var == 'exit':\n",
    "        print('exited session.')\n",
    "        sys.exit()\n",
    "    else:\n",
    "        return var\n",
    "\n",
    "\n",
    "print(emoji.emojize(\":T-Rex:\"), 'Rex', emoji.emojize(\":T-Rex:\"))\n",
    "print(emoji.emojize(\":popcorn:\"), 'WOKI', emoji.emojize(\":popcorn:\"))\n",
    "print(emoji.emojize(\":bread:\"), 'Brotfabrik', emoji.emojize(\":bread:\"))\n",
    "print(emoji.emojize(\":NEW_button:\"), 'Neue Filmbühne', emoji.emojize(\":NEW_button:\"))\n",
    "print('')\n",
    "\n",
    "imported = []\n",
    "\n",
    "print('default is all, sort with arg [t]ime, [a]lphabet, [c]inema, [r]oom, [s]eat\\n')\n",
    "\n",
    "def routine():\n",
    "    sorter_key = None\n",
    "    \n",
    "    while True:\n",
    "        is_date = False\n",
    "\n",
    "        p_date = inputexit('date: ').lower().replace(' ', '')\n",
    "\n",
    "        if '--' in p_date:\n",
    "            p_date, sorter_key = p_date.split('--', 1)\n",
    "\n",
    "\n",
    "        if str(p_date).lower() in [l.lower() for l in SF.l_today]:\n",
    "            p_date = dt.today()\n",
    "\n",
    "        elif str(p_date).lower() in [l.lower() for l in SF.l_tomorrow]:\n",
    "            p_date = dt.today() + timedelta(days=1)\n",
    "\n",
    "        elif str(p_date).lower() in [l.lower() for l in SF.l_dayname]:\n",
    "            day_hit = SF.l_dayname.index(p_date.capitalize()) %7\n",
    "            today = dt.today().strftime('')\n",
    "\n",
    "            if day_hit < dt.today().weekday():\n",
    "                day_skip = 7 - dt.today().weekday() + day_hit\n",
    "            elif day_hit == dt.today().weekday():\n",
    "                day_skip = 7\n",
    "            else:\n",
    "                day_skip = day_hit - dt.today().weekday()\n",
    "\n",
    "            p_date = dt.today() + timedelta(days=day_skip)\n",
    "\n",
    "\n",
    "        if p_date == '':\n",
    "            p_date = 'all'\n",
    "            is_date = True\n",
    "\n",
    "        else:\n",
    "            p_date, is_date = SF.detect_date(p_date)\n",
    "\n",
    "        if is_date:\n",
    "            break\n",
    "        else:\n",
    "            print('invalid date')\n",
    "\n",
    "\n",
    "    if p_date == 'all':\n",
    "        p_timestamp = False\n",
    "\n",
    "    else:\n",
    "        print('')\n",
    "        while True:\n",
    "            p_time = inputexit('time: ').lower().replace(' ', '')\n",
    "\n",
    "            if p_time == '':\n",
    "                p_time = '0000'\n",
    "\n",
    "            if ':' in p_time:\n",
    "                hour, minute = p_time.split(':', 1)\n",
    "            else:\n",
    "                hour = p_time[:-2]\n",
    "                minute = p_time[-2:]\n",
    "\n",
    "            try:\n",
    "                p_timestamp = p_date.replace(hour=int(hour), minute=int(minute), second=0, microsecond=0)\n",
    "                break\n",
    "\n",
    "            except ValueError:\n",
    "                print('invalid time')            \n",
    "\n",
    "    print('')\n",
    "    while True:\n",
    "        p_cinema = inputexit('cinema: ').lower().replace(' ', '').split(',')\n",
    "\n",
    "        if p_cinema == ['']:\n",
    "            p_cinema = []\n",
    "            for i in SF.cinema_alias:\n",
    "                p_cinema.append(i[0])\n",
    "\n",
    "        else:\n",
    "            p_cinema = list(filter(None, p_cinema))\n",
    "\n",
    "        p_cinema = list(set([SF.is_cinema_alias(p) for p in p_cinema]))\n",
    "\n",
    "        if False in p_cinema:\n",
    "            print('invalid cinema key.')\n",
    "            continue\n",
    "\n",
    "        else:\n",
    "            for p in p_cinema:\n",
    "                if not SF.cinema_in_dlist(p, imported):\n",
    "                    desc = 'importing ' + p + '...'\n",
    "                    end = p + ' done.'\n",
    "                    loader = SF.Loader(desc, end).start()\n",
    "\n",
    "                    imported.append(SF.import_cinema_errorless(p))\n",
    "\n",
    "                    loader.stop()\n",
    "            break    \n",
    "\n",
    "    p_title = inputexit('\\ntitle: ').lower().rstrip()\n",
    "    if p_title == '':\n",
    "        p_title = False\n",
    "        \n",
    "    print('')\n",
    "    \n",
    "    selected_cinema = [event for cinema in imported for selected in p_cinema if selected in cinema['alias'] for event in cinema['event']]\n",
    "        \n",
    "    SF.show(selected_cinema, sorter_key, p_timestamp, p_title)\n",
    "    \n",
    "\n",
    "while True:\n",
    "    routine()\n",
    "    print('\\n\\n\\n\\n')\n"
   ]
  },
  {
   "cell_type": "code",
   "execution_count": 6,
   "id": "6d7b52db-5490-473d-9935-6fb27017b5f7",
   "metadata": {},
   "outputs": [
    {
     "name": "stdout",
     "output_type": "stream",
     "text": [
      "1\n"
     ]
    }
   ],
   "source": [
    "import emoji\n",
    "s = emoji.emojize(\":T-Rex:\")\n",
    "print(len(s))"
   ]
  },
  {
   "cell_type": "code",
   "execution_count": 8,
   "id": "348ad2dc-44d9-410e-8a2f-786d81939c09",
   "metadata": {},
   "outputs": [
    {
     "name": "stdin",
     "output_type": "stream",
     "text": [
      "time:  2030\n"
     ]
    },
    {
     "name": "stdout",
     "output_type": "stream",
     "text": [
      "20 30\n",
      "2030\n"
     ]
    },
    {
     "name": "stdin",
     "output_type": "stream",
     "text": [
      "time:  exit\n"
     ]
    },
    {
     "name": "stdout",
     "output_type": "stream",
     "text": [
      "exited session.\n"
     ]
    },
    {
     "ename": "SystemExit",
     "evalue": "",
     "output_type": "error",
     "traceback": [
      "An exception has occurred, use %tb to see the full traceback.\n",
      "\u001b[0;31mSystemExit\u001b[0m\n"
     ]
    }
   ],
   "source": [
    "while True:\n",
    "    p_time = inputexit('time: ').lower().replace(' ', '')\n",
    "\n",
    "    if p_time == '':\n",
    "        p_time = '0000'\n",
    "\n",
    "    if ':' in p_time:\n",
    "        hour, minute = p_time.split(':', 1)\n",
    "    else:\n",
    "        hour = p_time[:-2]\n",
    "        minute = p_time[-2:]\n",
    "        \n",
    "    print(hour, minute)\n",
    "    print(dt.today().replace(hour=int(hour), minute=int(minute), second=0, microsecond=0).strftime('%H%M'))"
   ]
  },
  {
   "cell_type": "code",
   "execution_count": 252,
   "id": "d02ee994-e1ff-4ffa-9dcb-ba4eec7de230",
   "metadata": {},
   "outputs": [
    {
     "name": "stdin",
     "output_type": "stream",
     "text": [
      "prompt:  t..fb,,brot --a\n"
     ]
    },
    {
     "name": "stdout",
     "output_type": "stream",
     "text": [
      "\n",
      "🆕 ALL OF US STRANGERS\n",
      "------------------------------------------------\n",
      "24.02 Sat, 18:00, 105min\n",
      "Neue Filmbühne\n",
      "\u001b[38;5;39mhttps://www.kinoheld.de/kino/bonn/neue-filmbuehne-bonn/vorstellung/2963539253?mode=widget&layout=movies&rb=0&hideFilters=1#panel-seats\u001b[0;0m\n",
      "\n",
      "🆕 EINE MILLION MINUTEN\n",
      "------------------------------------------------\n",
      "24.02 Sat, 20:15, 125min\n",
      "Neue Filmbühne\n",
      "\u001b[38;5;39mhttps://www.kinoheld.de/kino/bonn/neue-filmbuehne-bonn/vorstellung/2963539088?mode=widget&layout=movies&rb=0&hideFilters=1#panel-seats\u001b[0;0m\n",
      "\n",
      "🆕 \u001b[38;5;160mRAUS AUS DEM TEICH\u001b[0;0m\n",
      "------------------------------------------------\n",
      "24.02 Sat, 13:45, 95min\n",
      "Neue Filmbühne\n",
      "\u001b[38;5;39mhttps://www.kinoheld.de/kino/bonn/neue-filmbuehne-bonn/vorstellung/2963539388?mode=widget&layout=movies&rb=0&hideFilters=1#panel-seats\u001b[0;0m\n",
      "\n",
      "🆕 THE HOLDOVERS\n",
      "------------------------------------------------\n",
      "24.02 Sat, 15:30, 135min\n",
      "Neue Filmbühne\n",
      "\u001b[38;5;39mhttps://www.kinoheld.de/kino/bonn/neue-filmbuehne-bonn/vorstellung/2963539298?mode=widget&layout=movies&rb=0&hideFilters=1#panel-seats\u001b[0;0m\n",
      "\n",
      "🍞 Colonos\n",
      "------------------------------------------------\n",
      "24.02 Sat, 20:30\n",
      "Kino in der Brotfabrik Südamerikanisches Kino in\n",
      "OmU\n",
      "\u001b[38;5;39mhttps://www.bonnerkinemathek.de/programm/colonos-3/\u001b[0;0m\n",
      "\n",
      "🍞 Rickerl – Musik ist höchstens a Hobby\n",
      "------------------------------------------------\n",
      "24.02 Sat, 18:30\n",
      "Kino in der Brotfabrik Wiener-Schmäh-Komödie\n",
      "(Mit Untertiteln)\n",
      "\u001b[38;5;39mhttps://www.bonnerkinemathek.de/programm/rickerl-musik-ist-hoechstens-a-hobby-9/\u001b[0;0m\n",
      "\n",
      "\n",
      "\n",
      "\n"
     ]
    },
    {
     "name": "stdin",
     "output_type": "stream",
     "text": [
      "prompt:  exit\n"
     ]
    },
    {
     "name": "stdout",
     "output_type": "stream",
     "text": [
      "exited session.\n"
     ]
    },
    {
     "ename": "SystemExit",
     "evalue": "",
     "output_type": "error",
     "traceback": [
      "An exception has occurred, use %tb to see the full traceback.\n",
      "\u001b[0;31mSystemExit\u001b[0m\n"
     ]
    }
   ],
   "source": [
    "while True:\n",
    "    var_cinema = None\n",
    "    sorter_key = None\n",
    "    var = dt.today()\n",
    "    selected_cinema = []\n",
    "    \n",
    "    p_date = inputexit('date: ').lower()\n",
    "    \n",
    "    if '--' in p_date:\n",
    "        p_date, flag = p_date.split('--')\n",
    "\n",
    "    l_cinema = [i for i in l_cinema if type(i) == dict]\n",
    "    \n",
    "    date = detect_date(var)\n",
    "    \n",
    "\n",
    "    if str(var).lower() in [l.lower() for l in l_today]:\n",
    "        show_date(dt.today(), selected_cinema, sorter_key)\n",
    "\n",
    "    elif str(var).lower() in [l.lower() for l in l_tomorrow]:\n",
    "        show_date(dt.today() + timedelta(days=1), selected_cinema, sorter_key)\n",
    "\n",
    "    elif str(var).lower() in [l.lower() for l in l_dayname]:\n",
    "        day_hit = l_dayname.index(var.capitalize())%7\n",
    "        today = dt.today().strftime('')\n",
    "\n",
    "        if day_hit < dt.today().weekday():\n",
    "            day_skip = 7 - dt.today().weekday() + day_hit\n",
    "        elif day_hit == dt.today().weekday():\n",
    "            day_skip = 7\n",
    "        else:\n",
    "            day_skip = day_hit - dt.today().weekday()\n",
    "\n",
    "        show_date(dt.today() + timedelta(days = day_skip), selected_cinema, sorter_key)\n",
    "\n",
    "    elif type(date) == dt:\n",
    "        show_date(date, selected_cinema, sorter_key)\n",
    "        \n",
    "    elif var_cinema != None:\n",
    "        for i in range(14):\n",
    "            show_date(dt.today() + timedelta(days = i), selected_cinema, sorter_key)\n",
    "\n",
    "    else:\n",
    "        for cinema in selected_cinema:\n",
    "            for event in cinema['event']:\n",
    "                if var == event['title']:\n",
    "                    show_date(date, selected_cinema, sorter_key)\n",
    "        \n",
    "    print('\\n\\n')"
   ]
  },
  {
   "cell_type": "code",
   "execution_count": null,
   "id": "a252d432-55e4-4d7f-8e2a-4ae47eb06aeb",
   "metadata": {},
   "outputs": [],
   "source": [
    "\n",
    "    if '--' in prompt:\n",
    "        prompt, sorter_key = prompt.split('--')\n",
    "    \n",
    "    if prompt[-1] == ' ':\n",
    "        prompt = prompt[:-1]\n",
    "        \n",
    "    print('')\n",
    "    \n",
    "    if '..' in prompt:\n",
    "        var, var_cinema = prompt.split('..', 1)\n",
    "        var_cinema = multicinema(var_cinema)\n",
    "    \n",
    "    elif is_cinema_alias(prompt):\n",
    "        var_cinema = multicinema(prompt)\n",
    "\n",
    "    else:\n",
    "        var = prompt\n",
    "    \n",
    "    if type(var_cinema) == list:\n",
    "        for cinema in var_cinema:\n",
    "            if not cinema_in_dlist(cinema, l_cinema):\n",
    "                l_cinema.append(import_cinema(cinema))\n",
    "            \n",
    "            for d_cinema in l_cinema:\n",
    "                if cinema == d_cinema['alias'][0]:\n",
    "                    selected_cinema.append(d_cinema)\n",
    "            \n",
    "    elif var_cinema == None:\n",
    "        if l_cinema:\n",
    "            for name in [c[0] for c in cinema_alias]:\n",
    "                if name not in [c['alias'][0] for c in l_cinema]:\n",
    "                    l_cinema.append(import_cinema(name))\n",
    "        else:\n",
    "            for name in [c[0] for c in cinema_alias]:\n",
    "                l_cinema.append(import_cinema(name))\n",
    "                \n",
    "        selected_cinema = l_cinema\n",
    "    \n",
    "    elif var_cinema not in l_daybuzz and not detect_date(var_cinema):\n",
    "        print('This cinema', var_cinema[l_cinema.index(cinema)], 'is unknown.')\n",
    "        continue"
   ]
  },
  {
   "cell_type": "code",
   "execution_count": 7,
   "id": "1da343c2-7908-4e01-944d-395adc718bc0",
   "metadata": {},
   "outputs": [],
   "source": [
    "woki = wk.woki()"
   ]
  },
  {
   "cell_type": "code",
   "execution_count": 12,
   "id": "15088ed6-4d90-4143-9184-709bee38c54b",
   "metadata": {},
   "outputs": [],
   "source": [
    "brot = bf.brotfabrik()"
   ]
  },
  {
   "cell_type": "code",
   "execution_count": 18,
   "id": "f230635f-2e11-4b5c-afe2-30acf44bae07",
   "metadata": {},
   "outputs": [],
   "source": [
    "rex = rx.rex()"
   ]
  },
  {
   "cell_type": "code",
   "execution_count": 19,
   "id": "dad0f1ba-81ac-4bbb-8d1c-6c263190c947",
   "metadata": {},
   "outputs": [],
   "source": [
    "buehne = fb.filmbuehne()"
   ]
  },
  {
   "cell_type": "code",
   "execution_count": 22,
   "id": "95ba6cd6-de63-47f9-a372-b9def17e8b45",
   "metadata": {},
   "outputs": [],
   "source": [
    "l_cinema = (woki, brot, rex, buehne)"
   ]
  },
  {
   "cell_type": "code",
   "execution_count": 16,
   "id": "19489bde-9459-4e94-a455-5094f5f4c420",
   "metadata": {},
   "outputs": [],
   "source": [
    "for i in woki:\n",
    "    if i['timestamp'].strftime('%d.%m') == dt.today().strftime('%d.%m'):\n",
    "        show_event(i)"
   ]
  },
  {
   "cell_type": "code",
   "execution_count": 19,
   "id": "bc98c2b6-5245-4ea7-9781-c4fb2d91e32e",
   "metadata": {},
   "outputs": [
    {
     "ename": "AttributeError",
     "evalue": "'str' object has no attribute 'time'",
     "output_type": "error",
     "traceback": [
      "\u001b[0;31m---------------------------------------------------------------------------\u001b[0m",
      "\u001b[0;31mAttributeError\u001b[0m                            Traceback (most recent call last)",
      "\u001b[0;32m<ipython-input-19-3afae49276e1>\u001b[0m in \u001b[0;36m<module>\u001b[0;34m\u001b[0m\n\u001b[1;32m     19\u001b[0m         \u001b[0mprint\u001b[0m\u001b[0;34m(\u001b[0m\u001b[0;34m'\\n'\u001b[0m\u001b[0;34m)\u001b[0m\u001b[0;34m\u001b[0m\u001b[0;34m\u001b[0m\u001b[0m\n\u001b[1;32m     20\u001b[0m \u001b[0;34m\u001b[0m\u001b[0m\n\u001b[0;32m---> 21\u001b[0;31m \u001b[0mbefore\u001b[0m \u001b[0;34m=\u001b[0m \u001b[0mtime\u001b[0m\u001b[0;34m.\u001b[0m\u001b[0mtime\u001b[0m\u001b[0;34m(\u001b[0m\u001b[0;34m)\u001b[0m\u001b[0;34m\u001b[0m\u001b[0;34m\u001b[0m\u001b[0m\n\u001b[0m\u001b[1;32m     22\u001b[0m \u001b[0md_cinema\u001b[0m \u001b[0;34m=\u001b[0m \u001b[0mget_dict\u001b[0m\u001b[0;34m(\u001b[0m\u001b[0;34m'rex'\u001b[0m\u001b[0;34m)\u001b[0m\u001b[0;34m\u001b[0m\u001b[0;34m\u001b[0m\u001b[0m\n\u001b[1;32m     23\u001b[0m \u001b[0mprint\u001b[0m\u001b[0;34m(\u001b[0m\u001b[0mtime\u001b[0m\u001b[0;34m.\u001b[0m\u001b[0mtime\u001b[0m\u001b[0;34m(\u001b[0m\u001b[0;34m)\u001b[0m\u001b[0;34m-\u001b[0m\u001b[0mbefore\u001b[0m\u001b[0;34m)\u001b[0m\u001b[0;34m\u001b[0m\u001b[0;34m\u001b[0m\u001b[0m\n",
      "\u001b[0;31mAttributeError\u001b[0m: 'str' object has no attribute 'time'"
     ]
    }
   ],
   "source": [
    "def show_cinema(d_cinema, place):\n",
    "    print(cinemoji(d_cinema['short name'], place))\n",
    "    \n",
    "    for i in range(len(d_cinema['title'])):\n",
    "        print(d_cinema['title'][i])\n",
    "        \n",
    "        if d_cinema['runtime'][i] != None:\n",
    "            d_cinema['runtime'][i] = str(d_cinema['runtime'][i]) + ' min'\n",
    "            \n",
    "        print(d_cinema['timestamp'][i].strftime('%d.%m. %a, %H:%M;'), 'runtime:', d_cinema['runtime'][i])\n",
    "        \n",
    "        place = d_cinema['location'][i]\n",
    "        if d_cinema['room'][i] != None:\n",
    "            place = place +': room '+ d_cinema['room'][i]\n",
    "        print(place)\n",
    "        \n",
    "        print(f\"\\033[38;5;26m{d_cinema['ticket'][i]}\\x1b[0m\")\n",
    "        \n",
    "        print('\\n')\n",
    "\n",
    "before = time.time()\n",
    "d_cinema = get_dict('rex')\n",
    "print(time.time()-before)\n",
    "\n",
    "show_cinema(d_cinema, 'both')"
   ]
  },
  {
   "cell_type": "code",
   "execution_count": 21,
   "id": "4c3241cb-a291-4e68-811c-77baf0fafaf3",
   "metadata": {},
   "outputs": [
    {
     "ename": "HTTPError",
     "evalue": "HTTP Error 403: Forbidden",
     "output_type": "error",
     "traceback": [
      "\u001b[0;31m---------------------------------------------------------------------------\u001b[0m",
      "\u001b[0;31mHTTPError\u001b[0m                                 Traceback (most recent call last)",
      "\u001b[0;32m<ipython-input-21-5892e97a41e4>\u001b[0m in \u001b[0;36m<module>\u001b[0;34m\u001b[0m\n\u001b[1;32m     14\u001b[0m \u001b[0;34m\u001b[0m\u001b[0m\n\u001b[1;32m     15\u001b[0m \u001b[0murl\u001b[0m \u001b[0;34m=\u001b[0m \u001b[0;34m'https://www.imdb.com/title/tt11198810/'\u001b[0m\u001b[0;34m\u001b[0m\u001b[0;34m\u001b[0m\u001b[0m\n\u001b[0;32m---> 16\u001b[0;31m \u001b[0mpage\u001b[0m \u001b[0;34m=\u001b[0m \u001b[0murlopen\u001b[0m\u001b[0;34m(\u001b[0m\u001b[0murl\u001b[0m\u001b[0;34m)\u001b[0m\u001b[0;34m\u001b[0m\u001b[0;34m\u001b[0m\u001b[0m\n\u001b[0m\u001b[1;32m     17\u001b[0m \u001b[0mhtml\u001b[0m \u001b[0;34m=\u001b[0m \u001b[0mpage\u001b[0m\u001b[0;34m.\u001b[0m\u001b[0mread\u001b[0m\u001b[0;34m(\u001b[0m\u001b[0;34m)\u001b[0m\u001b[0;34m.\u001b[0m\u001b[0mdecode\u001b[0m\u001b[0;34m(\u001b[0m\u001b[0;34m\"utf-8\"\u001b[0m\u001b[0;34m)\u001b[0m\u001b[0;34m\u001b[0m\u001b[0;34m\u001b[0m\u001b[0m\n\u001b[1;32m     18\u001b[0m \u001b[0;34m\u001b[0m\u001b[0m\n",
      "\u001b[0;32m~/opt/anaconda3/lib/python3.8/urllib/request.py\u001b[0m in \u001b[0;36murlopen\u001b[0;34m(url, data, timeout, cafile, capath, cadefault, context)\u001b[0m\n\u001b[1;32m    220\u001b[0m     \u001b[0;32melse\u001b[0m\u001b[0;34m:\u001b[0m\u001b[0;34m\u001b[0m\u001b[0;34m\u001b[0m\u001b[0m\n\u001b[1;32m    221\u001b[0m         \u001b[0mopener\u001b[0m \u001b[0;34m=\u001b[0m \u001b[0m_opener\u001b[0m\u001b[0;34m\u001b[0m\u001b[0;34m\u001b[0m\u001b[0m\n\u001b[0;32m--> 222\u001b[0;31m     \u001b[0;32mreturn\u001b[0m \u001b[0mopener\u001b[0m\u001b[0;34m.\u001b[0m\u001b[0mopen\u001b[0m\u001b[0;34m(\u001b[0m\u001b[0murl\u001b[0m\u001b[0;34m,\u001b[0m \u001b[0mdata\u001b[0m\u001b[0;34m,\u001b[0m \u001b[0mtimeout\u001b[0m\u001b[0;34m)\u001b[0m\u001b[0;34m\u001b[0m\u001b[0;34m\u001b[0m\u001b[0m\n\u001b[0m\u001b[1;32m    223\u001b[0m \u001b[0;34m\u001b[0m\u001b[0m\n\u001b[1;32m    224\u001b[0m \u001b[0;32mdef\u001b[0m \u001b[0minstall_opener\u001b[0m\u001b[0;34m(\u001b[0m\u001b[0mopener\u001b[0m\u001b[0;34m)\u001b[0m\u001b[0;34m:\u001b[0m\u001b[0;34m\u001b[0m\u001b[0;34m\u001b[0m\u001b[0m\n",
      "\u001b[0;32m~/opt/anaconda3/lib/python3.8/urllib/request.py\u001b[0m in \u001b[0;36mopen\u001b[0;34m(self, fullurl, data, timeout)\u001b[0m\n\u001b[1;32m    529\u001b[0m         \u001b[0;32mfor\u001b[0m \u001b[0mprocessor\u001b[0m \u001b[0;32min\u001b[0m \u001b[0mself\u001b[0m\u001b[0;34m.\u001b[0m\u001b[0mprocess_response\u001b[0m\u001b[0;34m.\u001b[0m\u001b[0mget\u001b[0m\u001b[0;34m(\u001b[0m\u001b[0mprotocol\u001b[0m\u001b[0;34m,\u001b[0m \u001b[0;34m[\u001b[0m\u001b[0;34m]\u001b[0m\u001b[0;34m)\u001b[0m\u001b[0;34m:\u001b[0m\u001b[0;34m\u001b[0m\u001b[0;34m\u001b[0m\u001b[0m\n\u001b[1;32m    530\u001b[0m             \u001b[0mmeth\u001b[0m \u001b[0;34m=\u001b[0m \u001b[0mgetattr\u001b[0m\u001b[0;34m(\u001b[0m\u001b[0mprocessor\u001b[0m\u001b[0;34m,\u001b[0m \u001b[0mmeth_name\u001b[0m\u001b[0;34m)\u001b[0m\u001b[0;34m\u001b[0m\u001b[0;34m\u001b[0m\u001b[0m\n\u001b[0;32m--> 531\u001b[0;31m             \u001b[0mresponse\u001b[0m \u001b[0;34m=\u001b[0m \u001b[0mmeth\u001b[0m\u001b[0;34m(\u001b[0m\u001b[0mreq\u001b[0m\u001b[0;34m,\u001b[0m \u001b[0mresponse\u001b[0m\u001b[0;34m)\u001b[0m\u001b[0;34m\u001b[0m\u001b[0;34m\u001b[0m\u001b[0m\n\u001b[0m\u001b[1;32m    532\u001b[0m \u001b[0;34m\u001b[0m\u001b[0m\n\u001b[1;32m    533\u001b[0m         \u001b[0;32mreturn\u001b[0m \u001b[0mresponse\u001b[0m\u001b[0;34m\u001b[0m\u001b[0;34m\u001b[0m\u001b[0m\n",
      "\u001b[0;32m~/opt/anaconda3/lib/python3.8/urllib/request.py\u001b[0m in \u001b[0;36mhttp_response\u001b[0;34m(self, request, response)\u001b[0m\n\u001b[1;32m    638\u001b[0m         \u001b[0;31m# request was successfully received, understood, and accepted.\u001b[0m\u001b[0;34m\u001b[0m\u001b[0;34m\u001b[0m\u001b[0;34m\u001b[0m\u001b[0m\n\u001b[1;32m    639\u001b[0m         \u001b[0;32mif\u001b[0m \u001b[0;32mnot\u001b[0m \u001b[0;34m(\u001b[0m\u001b[0;36m200\u001b[0m \u001b[0;34m<=\u001b[0m \u001b[0mcode\u001b[0m \u001b[0;34m<\u001b[0m \u001b[0;36m300\u001b[0m\u001b[0;34m)\u001b[0m\u001b[0;34m:\u001b[0m\u001b[0;34m\u001b[0m\u001b[0;34m\u001b[0m\u001b[0m\n\u001b[0;32m--> 640\u001b[0;31m             response = self.parent.error(\n\u001b[0m\u001b[1;32m    641\u001b[0m                 'http', request, response, code, msg, hdrs)\n\u001b[1;32m    642\u001b[0m \u001b[0;34m\u001b[0m\u001b[0m\n",
      "\u001b[0;32m~/opt/anaconda3/lib/python3.8/urllib/request.py\u001b[0m in \u001b[0;36merror\u001b[0;34m(self, proto, *args)\u001b[0m\n\u001b[1;32m    567\u001b[0m         \u001b[0;32mif\u001b[0m \u001b[0mhttp_err\u001b[0m\u001b[0;34m:\u001b[0m\u001b[0;34m\u001b[0m\u001b[0;34m\u001b[0m\u001b[0m\n\u001b[1;32m    568\u001b[0m             \u001b[0margs\u001b[0m \u001b[0;34m=\u001b[0m \u001b[0;34m(\u001b[0m\u001b[0mdict\u001b[0m\u001b[0;34m,\u001b[0m \u001b[0;34m'default'\u001b[0m\u001b[0;34m,\u001b[0m \u001b[0;34m'http_error_default'\u001b[0m\u001b[0;34m)\u001b[0m \u001b[0;34m+\u001b[0m \u001b[0morig_args\u001b[0m\u001b[0;34m\u001b[0m\u001b[0;34m\u001b[0m\u001b[0m\n\u001b[0;32m--> 569\u001b[0;31m             \u001b[0;32mreturn\u001b[0m \u001b[0mself\u001b[0m\u001b[0;34m.\u001b[0m\u001b[0m_call_chain\u001b[0m\u001b[0;34m(\u001b[0m\u001b[0;34m*\u001b[0m\u001b[0margs\u001b[0m\u001b[0;34m)\u001b[0m\u001b[0;34m\u001b[0m\u001b[0;34m\u001b[0m\u001b[0m\n\u001b[0m\u001b[1;32m    570\u001b[0m \u001b[0;34m\u001b[0m\u001b[0m\n\u001b[1;32m    571\u001b[0m \u001b[0;31m# XXX probably also want an abstract factory that knows when it makes\u001b[0m\u001b[0;34m\u001b[0m\u001b[0;34m\u001b[0m\u001b[0;34m\u001b[0m\u001b[0m\n",
      "\u001b[0;32m~/opt/anaconda3/lib/python3.8/urllib/request.py\u001b[0m in \u001b[0;36m_call_chain\u001b[0;34m(self, chain, kind, meth_name, *args)\u001b[0m\n\u001b[1;32m    500\u001b[0m         \u001b[0;32mfor\u001b[0m \u001b[0mhandler\u001b[0m \u001b[0;32min\u001b[0m \u001b[0mhandlers\u001b[0m\u001b[0;34m:\u001b[0m\u001b[0;34m\u001b[0m\u001b[0;34m\u001b[0m\u001b[0m\n\u001b[1;32m    501\u001b[0m             \u001b[0mfunc\u001b[0m \u001b[0;34m=\u001b[0m \u001b[0mgetattr\u001b[0m\u001b[0;34m(\u001b[0m\u001b[0mhandler\u001b[0m\u001b[0;34m,\u001b[0m \u001b[0mmeth_name\u001b[0m\u001b[0;34m)\u001b[0m\u001b[0;34m\u001b[0m\u001b[0;34m\u001b[0m\u001b[0m\n\u001b[0;32m--> 502\u001b[0;31m             \u001b[0mresult\u001b[0m \u001b[0;34m=\u001b[0m \u001b[0mfunc\u001b[0m\u001b[0;34m(\u001b[0m\u001b[0;34m*\u001b[0m\u001b[0margs\u001b[0m\u001b[0;34m)\u001b[0m\u001b[0;34m\u001b[0m\u001b[0;34m\u001b[0m\u001b[0m\n\u001b[0m\u001b[1;32m    503\u001b[0m             \u001b[0;32mif\u001b[0m \u001b[0mresult\u001b[0m \u001b[0;32mis\u001b[0m \u001b[0;32mnot\u001b[0m \u001b[0;32mNone\u001b[0m\u001b[0;34m:\u001b[0m\u001b[0;34m\u001b[0m\u001b[0;34m\u001b[0m\u001b[0m\n\u001b[1;32m    504\u001b[0m                 \u001b[0;32mreturn\u001b[0m \u001b[0mresult\u001b[0m\u001b[0;34m\u001b[0m\u001b[0;34m\u001b[0m\u001b[0m\n",
      "\u001b[0;32m~/opt/anaconda3/lib/python3.8/urllib/request.py\u001b[0m in \u001b[0;36mhttp_error_default\u001b[0;34m(self, req, fp, code, msg, hdrs)\u001b[0m\n\u001b[1;32m    647\u001b[0m \u001b[0;32mclass\u001b[0m \u001b[0mHTTPDefaultErrorHandler\u001b[0m\u001b[0;34m(\u001b[0m\u001b[0mBaseHandler\u001b[0m\u001b[0;34m)\u001b[0m\u001b[0;34m:\u001b[0m\u001b[0;34m\u001b[0m\u001b[0;34m\u001b[0m\u001b[0m\n\u001b[1;32m    648\u001b[0m     \u001b[0;32mdef\u001b[0m \u001b[0mhttp_error_default\u001b[0m\u001b[0;34m(\u001b[0m\u001b[0mself\u001b[0m\u001b[0;34m,\u001b[0m \u001b[0mreq\u001b[0m\u001b[0;34m,\u001b[0m \u001b[0mfp\u001b[0m\u001b[0;34m,\u001b[0m \u001b[0mcode\u001b[0m\u001b[0;34m,\u001b[0m \u001b[0mmsg\u001b[0m\u001b[0;34m,\u001b[0m \u001b[0mhdrs\u001b[0m\u001b[0;34m)\u001b[0m\u001b[0;34m:\u001b[0m\u001b[0;34m\u001b[0m\u001b[0;34m\u001b[0m\u001b[0m\n\u001b[0;32m--> 649\u001b[0;31m         \u001b[0;32mraise\u001b[0m \u001b[0mHTTPError\u001b[0m\u001b[0;34m(\u001b[0m\u001b[0mreq\u001b[0m\u001b[0;34m.\u001b[0m\u001b[0mfull_url\u001b[0m\u001b[0;34m,\u001b[0m \u001b[0mcode\u001b[0m\u001b[0;34m,\u001b[0m \u001b[0mmsg\u001b[0m\u001b[0;34m,\u001b[0m \u001b[0mhdrs\u001b[0m\u001b[0;34m,\u001b[0m \u001b[0mfp\u001b[0m\u001b[0;34m)\u001b[0m\u001b[0;34m\u001b[0m\u001b[0;34m\u001b[0m\u001b[0m\n\u001b[0m\u001b[1;32m    650\u001b[0m \u001b[0;34m\u001b[0m\u001b[0m\n\u001b[1;32m    651\u001b[0m \u001b[0;32mclass\u001b[0m \u001b[0mHTTPRedirectHandler\u001b[0m\u001b[0;34m(\u001b[0m\u001b[0mBaseHandler\u001b[0m\u001b[0;34m)\u001b[0m\u001b[0;34m:\u001b[0m\u001b[0;34m\u001b[0m\u001b[0;34m\u001b[0m\u001b[0m\n",
      "\u001b[0;31mHTTPError\u001b[0m: HTTP Error 403: Forbidden"
     ]
    }
   ],
   "source": [
    "from urllib.request import urlopen\n",
    "from urllib.parse import unquote\n",
    "import re\n",
    "import json\n",
    "from datetime import datetime as dt\n",
    "\n",
    "\n",
    "timestamp = []\n",
    "title = []\n",
    "room = []\n",
    "spec = []\n",
    "location = []\n",
    "ticket = []\n",
    "\n",
    "url = 'https://www.imdb.com/title/tt11198810/'\n",
    "page = urlopen(url)\n",
    "html = page.read().decode(\"utf-8\")\n",
    "\n",
    "soup = BeautifulSoup(html, \"html.parser\")\n",
    "print(soup)\n",
    "\n",
    "#match_results = \n",
    "#jstring = json.loads(match_results)\n",
    "#print(json.dumps(jstring, indent=3))\n",
    "#pattern = r'<div class=\"relative\">.*?</div>'\n",
    "#match_results = re.findall(pattern, html, re.DOTALL)"
   ]
  },
  {
   "cell_type": "code",
   "execution_count": 63,
   "id": "dee73909-82bb-42a3-8eb2-d26919d603b8",
   "metadata": {},
   "outputs": [
    {
     "name": "stdout",
     "output_type": "stream",
     "text": [
      "Harry Potter and the Sorcerer's Stone\n"
     ]
    },
    {
     "data": {
      "text/plain": [
       "{}"
      ]
     },
     "execution_count": 63,
     "metadata": {},
     "output_type": "execute_result"
    }
   ],
   "source": [
    "movie = ia.search_movie('harry potter')[0]\n",
    "print(movie)\n",
    "movie.infoset2keys"
   ]
  },
  {
   "cell_type": "code",
   "execution_count": 16,
   "id": "df7143a0-1b1e-43ec-81bf-7d8570914182",
   "metadata": {},
   "outputs": [
    {
     "name": "stdout",
     "output_type": "stream",
     "text": [
      "rating is 8.7\n"
     ]
    }
   ],
   "source": [
    "import time\n",
    "from imdb import Cinemagoer\n",
    "\n",
    "ia = Cinemagoer()\n",
    "\n",
    "the_matrix = ia.get_movie('0133093', info=['main'])\n",
    "print('rating is', the_matrix.get('rating'))"
   ]
  },
  {
   "cell_type": "code",
   "execution_count": 14,
   "id": "60540c5b-51db-4ed2-86ab-764bfceb0345",
   "metadata": {},
   "outputs": [
    {
     "name": "stdout",
     "output_type": "stream",
     "text": [
      "## the nun 2\n"
     ]
    },
    {
     "name": "stderr",
     "output_type": "stream",
     "text": [
      "2023-10-25 01:48:24,913 ERROR [imdbpy] /Users/tarowatanabe/opt/anaconda3/lib/python3.8/site-packages/imdb/__init__.py:844: unknown information set \"rating\"\n"
     ]
    },
    {
     "name": "stdout",
     "output_type": "stream",
     "text": [
      "10160976\n",
      "1.3201336860656738\n",
      "None\n",
      "{'main': ['localized title', 'cast', 'genres', 'runtimes', 'countries', 'country codes', 'language codes', 'color info', 'aspect ratio', 'box office', 'certificates', 'original air date', 'rating', 'votes', 'cover url', 'imdbID', 'videos', 'plot outline', 'languages', 'title', 'year', 'kind', 'original title', 'director', 'writer', 'producer', 'composer', 'cinematographer', 'editor', 'editorial department', 'casting director', 'production design', 'art direction', 'set decoration', 'costume designer', 'make up', 'production manager', 'assistant director', 'art department', 'sound crew', 'special effects', 'visual effects', 'stunt performer', 'camera and electrical department', 'casting department', 'costume department', 'location management', 'music department', 'script department', 'transportation department', 'miscellaneous crew', 'akas', 'production companies', 'distributors', 'special effects companies', 'other companies'], 'plot': ['plot', 'synopsis']}\n",
      "2.8486568927764893\n",
      "## philipp mickenbecker - real life\n"
     ]
    },
    {
     "name": "stderr",
     "output_type": "stream",
     "text": [
      "2023-10-25 01:48:28,576 ERROR [imdbpy] /Users/tarowatanabe/opt/anaconda3/lib/python3.8/site-packages/imdb/__init__.py:844: unknown information set \"rating\"\n"
     ]
    },
    {
     "name": "stdout",
     "output_type": "stream",
     "text": [
      "28627002\n",
      "0.8141398429870605\n",
      "None\n",
      "{'main': ['localized title', 'genres', 'runtimes', 'countries', 'country codes', 'language codes', 'color info', 'certificates', 'rating', 'votes', 'cover url', 'imdbID', 'plot outline', 'languages', 'title', 'year', 'kind', 'original title', 'director', 'writer', 'producer', 'composer', 'cinematographer', 'editor', 'production companies'], 'plot': ['plot']}\n",
      "2.3289988040924072\n",
      "## barbie\n"
     ]
    },
    {
     "name": "stderr",
     "output_type": "stream",
     "text": [
      "2023-10-25 01:48:31,888 ERROR [imdbpy] /Users/tarowatanabe/opt/anaconda3/lib/python3.8/site-packages/imdb/__init__.py:844: unknown information set \"rating\"\n"
     ]
    },
    {
     "name": "stdout",
     "output_type": "stream",
     "text": [
      "1517268\n",
      "0.9829950332641602\n",
      "None\n",
      "{'main': ['localized title', 'cast', 'genres', 'runtimes', 'countries', 'country codes', 'language codes', 'color info', 'aspect ratio', 'sound mix', 'box office', 'certificates', 'original air date', 'rating', 'votes', 'cover url', 'imdbID', 'videos', 'languages', 'title', 'year', 'kind', 'original title', 'director', 'writer', 'producer', 'composer', 'cinematographer', 'editor', 'editorial department', 'casting director', 'production design', 'art direction', 'set decoration', 'costume designer', 'make up', 'production manager', 'assistant director', 'art department', 'sound crew', 'special effects', 'visual effects', 'stunt performer', 'camera and electrical department', 'animation department', 'casting department', 'costume department', 'location management', 'music department', 'script department', 'transportation department', 'miscellaneous crew', 'thanks', 'akas', 'production companies', 'distributors', 'special effects companies', 'other companies'], 'plot': ['plot', 'synopsis']}\n",
      "3.140880823135376\n",
      "## oppenheimer\n"
     ]
    },
    {
     "name": "stderr",
     "output_type": "stream",
     "text": [
      "2023-10-25 01:48:36,050 ERROR [imdbpy] /Users/tarowatanabe/opt/anaconda3/lib/python3.8/site-packages/imdb/__init__.py:844: unknown information set \"rating\"\n"
     ]
    },
    {
     "name": "stdout",
     "output_type": "stream",
     "text": [
      "15398776\n",
      "1.0211632251739502\n",
      "None\n",
      "{'main': ['localized title', 'cast', 'genres', 'runtimes', 'countries', 'country codes', 'language codes', 'color info', 'aspect ratio', 'sound mix', 'box office', 'certificates', 'original air date', 'rating', 'votes', 'cover url', 'imdbID', 'videos', 'plot outline', 'languages', 'title', 'year', 'kind', 'original title', 'director', 'writer', 'producer', 'composer', 'cinematographer', 'editor', 'editorial department', 'casting director', 'production design', 'art direction', 'set decoration', 'costume designer', 'make up', 'production manager', 'assistant director', 'art department', 'sound crew', 'special effects', 'visual effects', 'stunt performer', 'camera and electrical department', 'animation department', 'casting department', 'costume department', 'location management', 'music department', 'script department', 'transportation department', 'miscellaneous crew', 'thanks', 'akas', 'top 250 rank', 'production companies', 'distributors', 'special effects companies', 'other companies'], 'plot': ['plot', 'synopsis']}\n",
      "3.134567975997925\n"
     ]
    }
   ],
   "source": [
    "import time\n",
    "ia = Cinemagoer()\n",
    "\n",
    "for i in movietitle[6:10]:\n",
    "    print('##', i)\n",
    "\n",
    "    before = time.time()\n",
    "    movie = ia.search_movie(i)[0].movieID\n",
    "    print(movie)\n",
    "    print(time.time()-before)\n",
    "    before = time.time()\n",
    "    movies = ia.get_movie(movie, info=['rating'])\n",
    "    #movie = ia.get_movie(movie, info=['cast'])\n",
    "    #print(movie.infoset2keys)\n",
    "    #print(ia.get_movie(movie, info=['rating']))\n",
    "    print(movies.get('rating'))\n",
    "    movies = ia.get_movie(movie)\n",
    "    print(movies.infoset2keys)\n",
    "    print(time.time()-before)\n",
    "    before = time.time()\n"
   ]
  },
  {
   "cell_type": "code",
   "execution_count": null,
   "id": "79e3c4e0-cefd-403e-9727-a86a92287b60",
   "metadata": {},
   "outputs": [],
   "source": [
    "import time\n",
    "ia = Cinemagoer()\n",
    "print(ia.get_movie_infoset())\n",
    "\n",
    "for i in movietitle:\n",
    "    print('##', i)\n",
    "\n",
    "    before = time.time()\n",
    "    movie = ia.search_movie(i)[0]\n",
    "    print(movie)\n",
    "    print('found')\n",
    "    print(time.time()-before)\n",
    "    before = time.time()\n",
    "\n",
    "    ia.update(movie, info=['rating'])\n",
    "    print(time.time()-before)\n",
    "    before = time.time()\n",
    "\n",
    "    print('info', movie.current_info)\n",
    "    print(time.time()-before)\n",
    "    before = time.time()\n",
    "\n",
    "    print(type(movie))\n",
    "\n",
    "    print(time.time()-before)\n",
    "    before = time.time()\n",
    "\n",
    "    try:\n",
    "        print(movie.infoset2keys)\n",
    "    except KeyError:\n",
    "        print('this')\n",
    "    print('\\n')"
   ]
  },
  {
   "cell_type": "code",
   "execution_count": 44,
   "id": "a78569e0-3721-4c85-ac66-eb67a5fbc5db",
   "metadata": {},
   "outputs": [
    {
     "name": "stdout",
     "output_type": "stream",
     "text": [
      "{}\n",
      "\n",
      "\n"
     ]
    }
   ],
   "source": [
    "try:\n",
    "    print(movie.infoset2keys)\n",
    "except KeyError:\n",
    "    print('this')\n",
    "print('\\n')"
   ]
  },
  {
   "cell_type": "code",
   "execution_count": 35,
   "id": "af18d563-ae4e-412f-90ab-09e7e9e0e324",
   "metadata": {},
   "outputs": [
    {
     "name": "stdout",
     "output_type": "stream",
     "text": [
      "['airing', 'akas', 'alternate versions', 'awards', 'connections', 'crazy credits', 'critic reviews', 'episodes', 'external reviews', 'external sites', 'faqs', 'full credits', 'goofs', 'keywords', 'list', 'locations', 'main', 'misc sites', 'news', 'official sites', 'parents guide', 'photo sites', 'plot', 'quotes', 'recommendations', 'release dates', 'release info', 'reviews', 'sound clips', 'soundtrack', 'synopsis', 'taglines', 'technical', 'trivia', 'tv schedule', 'video clips', 'vote details']\n"
     ]
    },
    {
     "ename": "NameError",
     "evalue": "name 'resp' is not defined",
     "output_type": "error",
     "traceback": [
      "\u001b[0;31m---------------------------------------------------------------------------\u001b[0m",
      "\u001b[0;31mNameError\u001b[0m                                 Traceback (most recent call last)",
      "\u001b[0;32m<ipython-input-35-c74f053b72eb>\u001b[0m in \u001b[0;36m<module>\u001b[0;34m\u001b[0m\n\u001b[1;32m      4\u001b[0m \u001b[0mprint\u001b[0m\u001b[0;34m(\u001b[0m\u001b[0mia\u001b[0m\u001b[0;34m.\u001b[0m\u001b[0mget_movie_infoset\u001b[0m\u001b[0;34m(\u001b[0m\u001b[0;34m)\u001b[0m\u001b[0;34m)\u001b[0m\u001b[0;34m\u001b[0m\u001b[0;34m\u001b[0m\u001b[0m\n\u001b[1;32m      5\u001b[0m \u001b[0;34m\u001b[0m\u001b[0m\n\u001b[0;32m----> 6\u001b[0;31m \u001b[0mprint\u001b[0m\u001b[0;34m(\u001b[0m\u001b[0mresp\u001b[0m\u001b[0;34m)\u001b[0m\u001b[0;34m\u001b[0m\u001b[0;34m\u001b[0m\u001b[0m\n\u001b[0m\u001b[1;32m      7\u001b[0m \u001b[0;34m\u001b[0m\u001b[0m\n\u001b[1;32m      8\u001b[0m \u001b[0;32mfor\u001b[0m \u001b[0mi\u001b[0m \u001b[0;32min\u001b[0m \u001b[0mmovietitle\u001b[0m\u001b[0;34m:\u001b[0m\u001b[0;34m\u001b[0m\u001b[0;34m\u001b[0m\u001b[0m\n",
      "\u001b[0;31mNameError\u001b[0m: name 'resp' is not defined"
     ]
    }
   ],
   "source": [
    "brot = bf.brotfabrik()\n",
    "\n",
    "ia = Cinemagoer()\n",
    "print(ia.get_movie_infoset())\n",
    "\n",
    "print(resp)\n",
    "\n",
    "for i in movietitle:\n",
    "    try:\n",
    "        print('##', i)\n",
    "        \n",
    "        movie = ia.search_movie(i)[0]\n",
    "        for key, value in movie.items():\n",
    "            print(key, value)\n",
    "        print('\\n')\n",
    "        \n",
    "        rtmovie = rt.Movie(i)\n",
    "        if movie['year'] == rt.year_released(i):\n",
    "            print(rtmovie, '\\n')\n",
    "        else:\n",
    "            raise KeyError\n",
    "        \n",
    "    except KeyError:\n",
    "        try:\n",
    "            ia.update(movie, info=['main'][0])\n",
    "            print(movie.get('original title'))\n",
    "            movie = rt.Movie(movie.get('original title'))\n",
    "            print(movie, '\\n')\n",
    "        except:\n",
    "            print('no ratings on tomatoes')\n",
    "            continue\n",
    "        continue"
   ]
  },
  {
   "cell_type": "code",
   "execution_count": 171,
   "id": "643885d0-c7f8-4f00-8e31-ed3ab9083246",
   "metadata": {},
   "outputs": [
    {
     "ename": "NameError",
     "evalue": "name 'bf' is not defined",
     "output_type": "error",
     "traceback": [
      "\u001b[0;31m---------------------------------------------------------------------------\u001b[0m",
      "\u001b[0;31mNameError\u001b[0m                                 Traceback (most recent call last)",
      "\u001b[0;32m<ipython-input-171-7fa86dea8ce9>\u001b[0m in \u001b[0;36m<module>\u001b[0;34m\u001b[0m\n\u001b[0;32m----> 1\u001b[0;31m \u001b[0mbrot\u001b[0m \u001b[0;34m=\u001b[0m \u001b[0mbf\u001b[0m\u001b[0;34m.\u001b[0m\u001b[0mbrotfabrik\u001b[0m\u001b[0;34m(\u001b[0m\u001b[0;34m)\u001b[0m\u001b[0;34m\u001b[0m\u001b[0;34m\u001b[0m\u001b[0m\n\u001b[0m\u001b[1;32m      2\u001b[0m \u001b[0;34m\u001b[0m\u001b[0m\n\u001b[1;32m      3\u001b[0m \u001b[0mia\u001b[0m \u001b[0;34m=\u001b[0m \u001b[0mCinemagoer\u001b[0m\u001b[0;34m(\u001b[0m\u001b[0;34m)\u001b[0m\u001b[0;34m\u001b[0m\u001b[0;34m\u001b[0m\u001b[0m\n\u001b[1;32m      4\u001b[0m \u001b[0mprint\u001b[0m\u001b[0;34m(\u001b[0m\u001b[0mia\u001b[0m\u001b[0;34m.\u001b[0m\u001b[0mget_movie_infoset\u001b[0m\u001b[0;34m(\u001b[0m\u001b[0;34m)\u001b[0m\u001b[0;34m)\u001b[0m\u001b[0;34m\u001b[0m\u001b[0;34m\u001b[0m\u001b[0m\n\u001b[1;32m      5\u001b[0m \u001b[0;34m\u001b[0m\u001b[0m\n",
      "\u001b[0;31mNameError\u001b[0m: name 'bf' is not defined"
     ]
    }
   ],
   "source": [
    "brot = bf.brotfabrik()\n",
    "\n",
    "ia = Cinemagoer()\n",
    "print(ia.get_movie_infoset())\n",
    "\n",
    "for i in brot['title']:\n",
    "    print(i)\n",
    "    movie = ia.search_movie(i)\n",
    "    for m in movie:\n",
    "        print(m['title'], type(m))\n",
    "\n",
    "        for key, value in m.items() :\n",
    "            print (key, value)\n",
    "\n",
    "        print('\\n')"
   ]
  },
  {
   "cell_type": "code",
   "execution_count": null,
   "id": "688e6963-1b90-4655-96e3-789f6f909ea3",
   "metadata": {},
   "outputs": [],
   "source": [
    "ia = Cinemagoer()\n",
    "print(ia.get_movie_infoset())\n",
    "\n",
    "movie = ia.search_movie('rose')\n",
    "\n",
    "print(movie, type(movie[2]))\n",
    "for m in movie:\n",
    "    print(m['title'], type(m))\n",
    "    \n",
    "    for key, value in m.items() :\n",
    "        print (key, value)\n",
    "        \n",
    "    print('\\n')"
   ]
  },
  {
   "cell_type": "code",
   "execution_count": 5,
   "id": "63a59610-3545-4d98-9e1a-10eb77f34446",
   "metadata": {},
   "outputs": [
    {
     "name": "stdout",
     "output_type": "stream",
     "text": [
      "Directors:\n",
      "Lana Wachowski\n",
      "Lilly Wachowski\n",
      "Genres:\n",
      "Action\n",
      "Sci-Fi\n",
      "0000154 Mel Gibson\n",
      "12550288 Mel Gibson\n",
      "0317112 Mel Gibson\n",
      "2153167 Mel Gibson\n",
      "15271356 Mel Gibson\n",
      "4798507 Mel A. Gibson\n",
      "3323885 Adam Taylor\n",
      "2800055 Mel Gibson\n",
      "3742421 Melina Mari Bryant\n",
      "0317096 Meg Gibson\n",
      "0879085 Tyrese Gibson\n",
      "0684545 Julie Pinson\n",
      "8908771 Millie Gibson\n",
      "0316995 Hoot Gibson\n",
      "0316945 Donal Gibson\n",
      "4047961 Noel Gibson\n",
      "6521923 Mel Gibbon\n",
      "2988370 Mal Gibson\n",
      "0316932 Dean Paul Gibson\n",
      "0316878 Cal Gibson\n"
     ]
    }
   ],
   "source": [
    "# create an instance of the Cinemagoer class\n",
    "ia = Cinemagoer()\n",
    "\n",
    "# get a movie\n",
    "movie = ia.get_movie('0133093')\n",
    "\n",
    "# print the names of the directors of the movie\n",
    "print('Directors:')\n",
    "for director in movie['directors']:\n",
    "    print(director['name'])\n",
    "\n",
    "# print the genres of the movie\n",
    "print('Genres:')\n",
    "for genre in movie['genres']:\n",
    "    print(genre)\n",
    "\n",
    "# search for a person name\n",
    "people = ia.search_person('Mel Gibson')\n",
    "for person in people:\n",
    "    print(person.personID, person['name'])"
   ]
  },
  {
   "cell_type": "code",
   "execution_count": 36,
   "id": "458b3b67-7da3-4617-9dc8-ae8382fbe419",
   "metadata": {},
   "outputs": [
    {
     "name": "stdout",
     "output_type": "stream",
     "text": [
      "------------------------------------------------\n",
      "{'movies': [{'name': 'Killers of the Flower Moon', 'tomatometer': 92, 'audience_score': 85, 'weighted_score': 89, 'genres': ['Crime', 'Drama'], 'rating': 'R', 'duration': '3h 26m', 'year': '2023', 'actors': ['Leonardo DiCaprio', 'Robert De Niro', 'Jesse Plemons', 'Lily Gladstone', 'Tantoo Cardinal'], 'directors': ['Martin Scorsese']}]} \n",
      "\n",
      "1\n",
      "Killers of the Flower Moon\n",
      "------------------------------------------------\n",
      "{'movies': []} \n",
      "\n",
      "0\n"
     ]
    },
    {
     "ename": "IndexError",
     "evalue": "list index out of range",
     "output_type": "error",
     "traceback": [
      "\u001b[0;31m---------------------------------------------------------------------------\u001b[0m",
      "\u001b[0;31mIndexError\u001b[0m                                Traceback (most recent call last)",
      "\u001b[0;32m<ipython-input-36-2b8e12ce3241>\u001b[0m in \u001b[0;36m<module>\u001b[0;34m\u001b[0m\n\u001b[1;32m     19\u001b[0m \u001b[0;34m\u001b[0m\u001b[0m\n\u001b[1;32m     20\u001b[0m     \u001b[0;32melse\u001b[0m\u001b[0;34m:\u001b[0m\u001b[0;34m\u001b[0m\u001b[0;34m\u001b[0m\u001b[0m\n\u001b[0;32m---> 21\u001b[0;31m         \u001b[0mprint\u001b[0m\u001b[0;34m(\u001b[0m\u001b[0mresp\u001b[0m\u001b[0;34m.\u001b[0m\u001b[0mjson\u001b[0m\u001b[0;34m(\u001b[0m\u001b[0;34m)\u001b[0m\u001b[0;34m.\u001b[0m\u001b[0mget\u001b[0m\u001b[0;34m(\u001b[0m\u001b[0;34m'movies'\u001b[0m\u001b[0;34m)\u001b[0m\u001b[0;34m[\u001b[0m\u001b[0;36m0\u001b[0m\u001b[0;34m]\u001b[0m\u001b[0;34m.\u001b[0m\u001b[0mget\u001b[0m\u001b[0;34m(\u001b[0m\u001b[0;34m'name'\u001b[0m\u001b[0;34m)\u001b[0m\u001b[0;34m)\u001b[0m\u001b[0;34m\u001b[0m\u001b[0;34m\u001b[0m\u001b[0m\n\u001b[0m",
      "\u001b[0;31mIndexError\u001b[0m: list index out of range"
     ]
    }
   ],
   "source": [
    "for i in movietitle:\n",
    "    print('-'*48)\n",
    "    movieinput = i\n",
    "\n",
    "    resp = requests.get('https://rotten-tomatoes-api.ue.r.appspot.com/search/' + movieinput)\n",
    "\n",
    "    print(resp.json(), '\\n')\n",
    "    print(len(resp.json().get('movies')))\n",
    "\n",
    "    i = 0\n",
    "    if len(resp.json().get('movies')) > 1:\n",
    "        for m in resp.json().get('movies'):\n",
    "            i += 1\n",
    "            print(f'{i:2.0f}.', m.get('name'))\n",
    "            print(' '*3, 'release:', m.get('year'))\n",
    "\n",
    "        hit = int(abort(input('-> select wich file: ')))\n",
    "        print(resp.json().get('movies')[hit - 1])\n",
    "\n",
    "    else:\n",
    "        print(resp.json().get('movies')[0].get('name'))\n"
   ]
  },
  {
   "cell_type": "code",
   "execution_count": null,
   "id": "359700aa-9e24-41ee-a476-38f89e3bef5e",
   "metadata": {},
   "outputs": [],
   "source": [
    "from urllib.request import urlopen\n",
    "from urllib.parse import unquote\n",
    "import re\n",
    "import json\n",
    "from datetime import datetime as dt\n",
    "\n",
    "\n",
    "timestamp = []\n",
    "title = []\n",
    "room = []\n",
    "spec = []\n",
    "location = []\n",
    "ticket = []\n",
    "\n",
    "url = \n",
    "page = urlopen(url)\n",
    "html = page.read().decode(\"utf-8\")\n",
    "\n",
    "soup = BeautifulSoup(html, \"html.parser\")\n",
    "print(soup)\n",
    "\n",
    "#match_results = \n",
    "#jstring = json.loads(match_results)\n",
    "#print(json.dumps(jstring, indent=3))\n",
    "#pattern = r'<div class=\"relative\">.*?</div>'\n",
    "#match_results = re.findall(pattern, html, re.DOTALL)"
   ]
  },
  {
   "cell_type": "markdown",
   "id": "a4742a29-a315-49df-9562-e4990151bdfd",
   "metadata": {
    "tags": []
   },
   "source": [
    "# Kinopolis"
   ]
  },
  {
   "cell_type": "code",
   "execution_count": 153,
   "id": "bedfe2b7-39d5-4e8c-ad16-541a076d5965",
   "metadata": {},
   "outputs": [
    {
     "name": "stdout",
     "output_type": "stream",
     "text": [
      "done\n"
     ]
    }
   ],
   "source": [
    "from urllib.request import urlopen\n",
    "from urllib.parse import unquote\n",
    "import re\n",
    "import json\n",
    "from datetime import datetime as dt\n",
    "\n",
    "\n",
    "timestamp = []\n",
    "title = []\n",
    "room = []\n",
    "spec = []\n",
    "location = []\n",
    "ticket = []\n",
    "\n",
    "url = \"https://www.kinopolis.de/bn/vorverkauf\"\n",
    "page = urlopen(url)\n",
    "html = page.read().decode(\"utf-8\")\n",
    "\n",
    "pattern = r'<section class=\"bg.*?</section>'\n",
    "match_results = re.findall(pattern, html, re.DOTALL)\n",
    "\n",
    "for section in match_results[:-1]:\n",
    "    program = BeautifulSoup(section, \"html.parser\")   \n",
    "    \n",
    "    pattern = r'<h2 class=\"hl--1 hidden-max-xs\">.*?</h2>'\n",
    "    version = re.findall(pattern, str(program), re.DOTALL)\n",
    "    _, _, name, rest = str(version).split('>', 3)\n",
    "    jtitle, _ = name.split('<', 1)\n",
    "#    _, rest = rest.split('>', 1)\n",
    "#    if len(rest) > 2:\n",
    "#        jtitle2, _ = rest.split('<', 1)\n",
    "        \n",
    "    pattern = r\"datetime.*?</time>\"\n",
    "    jtime = re.findall(pattern, section, re.DOTALL)\n",
    "    i = 0    \n",
    "    \n",
    "    #print(program.prettify())    \n",
    "    for prog in program.find_all(\"div\", {\"class\": \"prog\"}):\n",
    "        for day in prog.find_all(\"a\", {\"class\": \"prog__day\"}):\n",
    "            day = str(day)\n",
    "            \n",
    "            #if jtitle2:\n",
    "            #    title.append(jtitle, jtitle2)\n",
    "            #else:\n",
    "            #    title.append(jtitle)\n",
    "            \n",
    "            title.append(jtitle)\n",
    "            \n",
    "            pattern = r\"data-version='.*?'\"\n",
    "            jspec = ','.join(re.findall(pattern, day, re.DOTALL))\n",
    "            jspec = jspec.replace('data-version=', '').replace('\"', '')\n",
    "            jspec = jspec.replace('[', '').replace(\"'\", '').replace(\"]\", '')\n",
    "            \n",
    "\n",
    "            pattern = r'href=\".*?\"'\n",
    "            ticket.append('https://www.kinopolis.de' + re.findall(pattern, day, re.DOTALL)[0][6:-1])\n",
    "\n",
    "            label = [r'prog__label.*?</div>',\n",
    "                    r'prog__time.*?</div>',\n",
    "                    r'prog__version.*?</div>',\n",
    "                    r'prog__extras.*?</div>',\n",
    "                    r'prog__cinema.*?</div>']\n",
    "\n",
    "            for pattern in label:\n",
    "                _, label = re.findall(pattern, day, re.DOTALL)[0].split('>', 1)\n",
    "                label, _ = label.split('<', 1)\n",
    "                if 'time' in pattern:\n",
    "                    timestamp.append(dt.strptime(jtime[i][10:-21] +'.'+ label, '%Y-%m-%d.%H:%M')) \n",
    "                elif 'cinema' in pattern:\n",
    "                    room.append(label.replace('Kino', '').replace(' ', ''))\n",
    "                elif label:\n",
    "                    jspec += ', ' + label\n",
    "                    \n",
    "            spec.append(jspec)                    \n",
    "            location.append('KINOPOLIS')\n",
    "                    \n",
    "        i += 1\n",
    "        \n",
    "\n",
    "for i in range(len(title)):\n",
    "    print(timestamp[i])\n",
    "    print(title[i])\n",
    "    print(ticket[i])\n",
    "    print(spec[i])\n",
    "    print(location[i], \"\\n\")\n",
    "\n",
    "print('done')"
   ]
  },
  {
   "cell_type": "code",
   "execution_count": 154,
   "id": "13b9fe0c-6eec-483b-bf31-1ef210a314a4",
   "metadata": {},
   "outputs": [
    {
     "name": "stdout",
     "output_type": "stream",
     "text": [
      "[]\n",
      "done\n"
     ]
    }
   ],
   "source": [
    "from urllib.request import urlopen\n",
    "from urllib.parse import unquote\n",
    "import re\n",
    "import json\n",
    "from datetime import datetime as dt\n",
    "\n",
    "\n",
    "timestamp = []\n",
    "title = []\n",
    "room = []\n",
    "spec = []\n",
    "location = []\n",
    "ticket = []\n",
    "\n",
    "url = \"https://www.kinopolis.de/bn/programm/woche-1\"\n",
    "page = urlopen(url)\n",
    "html = page.read().decode(\"utf-8\")\n",
    "\n",
    "pattern = r'<section class=\"bg.*?</section>'\n",
    "match_results = re.findall(pattern, html, re.DOTALL)\n",
    "\n",
    "for section in match_results[:-1]:        \n",
    "    program = BeautifulSoup(section, \"html.parser\")   \n",
    "    \n",
    "    pattern = r'<h2 class=\"hl--1 hidden-max-xs\">.*?</h2>'\n",
    "    version = re.findall(pattern, str(program), re.DOTALL)\n",
    "    _, _, name, rest = str(version).split('>', 3)\n",
    "    jtitle, _ = name.split('<', 1)\n",
    "#    _, rest = rest.split('>', 1)\n",
    "#    if len(rest) > 2:\n",
    "#        jtitle2, _ = rest.split('<', 1)\n",
    "        \n",
    "    pattern = r\"datetime.*?</time>\"\n",
    "    jtime = re.findall(pattern, section, re.DOTALL)\n",
    "    i = 0    \n",
    "    \n",
    "    #print(program.prettify())    \n",
    "    for prog in program.find_all(\"div\", {\"class\": \"prog\"}):        \n",
    "        for day in prog.find_all(\"a\", {\"class\": \"prog__day\"}):\n",
    "            day = str(day)\n",
    "            \n",
    "            #if jtitle2:\n",
    "            #    title.append(jtitle, jtitle2)\n",
    "            #else:\n",
    "            #    title.append(jtitle)\n",
    "            \n",
    "            title.append(jtitle)\n",
    "            \n",
    "            pattern = r\"data-version='.*?'\"\n",
    "            jspec = ','.join(re.findall(pattern, day, re.DOTALL))\n",
    "            jspec = jspec.replace('data-version=', '').replace('\"', '')\n",
    "            jspec = jspec.replace('[', '').replace(\"'\", '').replace(\"]\", '')\n",
    "            \n",
    "\n",
    "            pattern = r'href=\".*?\"'\n",
    "            ticket.append('https://www.kinopolis.de' + re.findall(pattern, day, re.DOTALL)[0][6:-1])\n",
    "\n",
    "            label = [r'prog__label.*?</div>',\n",
    "                    r'prog__time.*?</div>',\n",
    "                    r'prog__version.*?</div>',\n",
    "                    r'prog__extras.*?</div>',\n",
    "                    r'prog__cinema.*?</div>']\n",
    "\n",
    "            for pattern in label:\n",
    "                _, label = re.findall(pattern, day, re.DOTALL)[0].split('>', 1)\n",
    "                label, _ = label.split('<', 1)\n",
    "                if 'time' in pattern:\n",
    "                    timestamp.append(dt.strptime(jtime[i][10:-21] +'.'+ label, '%Y-%m-%d.%H:%M')) \n",
    "                elif 'cinema' in pattern:\n",
    "                    room.append(label.replace('Kino', '').replace(' ', ''))\n",
    "                elif label:\n",
    "                    jspec += ', ' + label\n",
    "                    \n",
    "            spec.append(jspec)                    \n",
    "            location.append('KINOPOLIS')\n",
    "                    \n",
    "        i += 1\n",
    "        \n",
    "for i in range(len(title)):\n",
    "    print(timestamp[i])\n",
    "    print(title[i])\n",
    "    print(ticket[i])\n",
    "    print(spec[i])\n",
    "    print(location[i], \"\\n\")\n",
    "\n",
    "print('done')"
   ]
  },
  {
   "cell_type": "code",
   "execution_count": null,
   "id": "b9974283-3a8c-41d3-add9-73b9701e0747",
   "metadata": {},
   "outputs": [],
   "source": []
  },
  {
   "cell_type": "code",
   "execution_count": null,
   "id": "43f94544-c89f-4f0a-a218-ac4b68d6bb7e",
   "metadata": {},
   "outputs": [],
   "source": []
  },
  {
   "cell_type": "code",
   "execution_count": null,
   "id": "4fe82d09-e336-4902-aae8-06a3c7efad9a",
   "metadata": {},
   "outputs": [],
   "source": []
  }
 ],
 "metadata": {
  "kernelspec": {
   "display_name": "Python 3",
   "language": "python",
   "name": "python3"
  },
  "language_info": {
   "codemirror_mode": {
    "name": "ipython",
    "version": 3
   },
   "file_extension": ".py",
   "mimetype": "text/x-python",
   "name": "python",
   "nbconvert_exporter": "python",
   "pygments_lexer": "ipython3",
   "version": "3.8.10"
  }
 },
 "nbformat": 4,
 "nbformat_minor": 5
}
