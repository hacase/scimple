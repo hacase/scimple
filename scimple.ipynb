{
 "cells": [
  {
   "cell_type": "code",
   "execution_count": 1,
   "id": "548435b6-cafc-42c4-ba25-fc90ff2eeaba",
   "metadata": {},
   "outputs": [
    {
     "name": "stdout",
     "output_type": "stream",
     "text": [
      "\n",
      " S how\n",
      " C inemas\n",
      " I n\n",
      " M y\n",
      " P lace\n",
      " L isting\n",
      " E verything\n",
      "\n"
     ]
    }
   ],
   "source": [
    "import sys,time\n",
    "\n",
    "string = \"\"\" S how\n",
    " C inemas\n",
    " I n\n",
    " M y\n",
    " P lace\n",
    " L isting\n",
    " E verything\"\"\"\n",
    "\n",
    "typing_speed = 390\n",
    "\n",
    "def slow_type(t):\n",
    "    for l in t:\n",
    "        sys.stdout.write(l)\n",
    "        sys.stdout.flush()\n",
    "        time.sleep(10.0/typing_speed)\n",
    "    print('\\n')\n",
    "\n",
    "print('')\n",
    "slow_type(string)"
   ]
  },
  {
   "cell_type": "code",
   "execution_count": 2,
   "id": "b0e934c7-1225-4ec6-9930-3e809ae8fc51",
   "metadata": {},
   "outputs": [],
   "source": [
    "import requests\n",
    "import sys\n",
    "import emoji\n",
    "from datetime import datetime as dt\n",
    "from datetime import timedelta\n",
    "        \n",
    "def cinemoji(cinema, place):\n",
    "    d_cinema = get_dict(cinema)\n",
    "    \n",
    "    name = d_cinema['name']\n",
    "    emoticon = emoji.emojize(d_cinema['emoji'])\n",
    "    \n",
    "    if place == 'before':\n",
    "        return emoticon +' '+ name\n",
    "    elif place == 'after':\n",
    "        return name +' '+ emoticon\n",
    "    elif place == 'both':\n",
    "        return emoticon +' '+ name +' '+ emoticon"
   ]
  },
  {
   "cell_type": "code",
   "execution_count": 3,
   "id": "8f226f93-70df-41d5-8612-baa6974e53ca",
   "metadata": {},
   "outputs": [
    {
     "name": "stdout",
     "output_type": "stream",
     "text": [
      "🍿 WOKI 🍿\n",
      "🍞 Brotfabrik 🍞\n",
      "🦖 Rex 🦖\n",
      "🆕 Neue Filmbühne 🆕\n"
     ]
    }
   ],
   "source": [
    "print(emoji.emojize(\":popcorn:\"), 'WOKI', emoji.emojize(\":popcorn:\"))\n",
    "\n",
    "print(emoji.emojize(\":bread:\"), 'Brotfabrik', emoji.emojize(\":bread:\"))\n",
    "\n",
    "print(emoji.emojize(\":T-Rex:\"), 'Rex', emoji.emojize(\":T-Rex:\"))\n",
    "\n",
    "print(emoji.emojize(\":NEW_button:\"), 'Neue Filmbühne', emoji.emojize(\":NEW_button:\"))"
   ]
  },
  {
   "cell_type": "code",
   "execution_count": 3,
   "id": "b816dbb9-33ca-4ceb-9e5e-e044905db559",
   "metadata": {},
   "outputs": [],
   "source": [
    "import re"
   ]
  },
  {
   "cell_type": "code",
   "execution_count": 61,
   "id": "0befe46b-3dec-4aae-a59e-ab4a6e399efd",
   "metadata": {},
   "outputs": [
    {
     "name": "stdout",
     "output_type": "stream",
     "text": [
      "kinopolis done.                                                                 \n",
      "rex done.                                                                       \n",
      "sternlichtspiele done.                                                          \n",
      "woki done.                                                                      \n",
      "capitol kinocenter done.                                                        \n",
      "brotfabrik done.                                                                \n",
      "filmbuehne done.                                                                \n"
     ]
    }
   ],
   "source": [
    "import scimple_functions as SF\n",
    "\n",
    "imported = []\n",
    "p_cinema = []\n",
    "for i in SF.cinema_alias:\n",
    "    p_cinema.append(i[0])\n",
    "\n",
    "p_cinema = list(set([SF.is_cinema_alias(p) for p in p_cinema]))\n",
    "\n",
    "for p in p_cinema:\n",
    "    desc = 'importing ' + p + '...'\n",
    "    end = p + ' done.'\n",
    "    loader = SF.Loader(desc, end).start()\n",
    "    \n",
    "    imported.append(SF.import_cinema_errorless(p))\n",
    "    \n",
    "    loader.stop()"
   ]
  },
  {
   "cell_type": "code",
   "execution_count": null,
   "id": "632fcda9-615b-43ec-82a2-ba3834f02d2c",
   "metadata": {},
   "outputs": [],
   "source": [
    "for i_index, imp in enumerate(imported):\n",
    "    for c_i, cinema in enumerate(imp['event']):\n",
    "        if cinema['timestamp'] == None:\n",
    "            print(cinema)"
   ]
  },
  {
   "cell_type": "code",
   "execution_count": 70,
   "id": "ba698191-93d3-497b-9953-c8a9b72af6da",
   "metadata": {},
   "outputs": [
    {
     "data": {
      "text/plain": [
       "['abc', None]"
      ]
     },
     "execution_count": 70,
     "metadata": {},
     "output_type": "execute_result"
    }
   ],
   "source": [
    "['abc', None]"
   ]
  },
  {
   "cell_type": "code",
   "execution_count": 72,
   "id": "2aa224ef-d37e-41c5-999a-9e88163e789a",
   "metadata": {},
   "outputs": [],
   "source": [
    "from urllib.request import urlopen\n",
    "from urllib.parse import unquote\n",
    "import re\n",
    "import json\n",
    "from datetime import datetime as dt\n",
    "from datetime import timedelta\n",
    "import locale\n",
    "from bs4 import BeautifulSoup\n",
    "import scimple_functions as SF\n",
    "\n",
    "locale.setlocale(locale.LC_TIME, 'de_DE.UTF-8')\n",
    "\n",
    "def None_AttributeError_cnt(function):\n",
    "    try:\n",
    "        return function.contents[0]\n",
    "    except:\n",
    "        return None\n",
    "\n",
    "def kinopolis_week(url, url_week):\n",
    "    result_event = []\n",
    "    \n",
    "    html = SF.open_url_errorless(url, url_week).read().decode(\"utf-8\")\n",
    "    \n",
    "    soup = BeautifulSoup(html, \"html.parser\")\n",
    "    match_results = soup.find_all(\"section\", {\"class\": \"bg-2 movie mb-2\"})\n",
    "    for program in match_results:\n",
    "        title = program.find(\"a\", {\"class\": \"hl-link\", \"href\": True}).contents[0]\n",
    "\n",
    "        subtitle = program.find(\"span\", {\"class\": \"hl--sub\"})\n",
    "        if subtitle and len(subtitle.contents) > 0:\n",
    "            subtitle = subtitle.contents[0]\n",
    "        else:\n",
    "            subtitle = None\n",
    "\n",
    "        jspec = program.find_all(\"div\", {\"class\": \"movie__specs-el\"})\n",
    "        all_spec = []\n",
    "        for i in jspec:\n",
    "            if 'FSK' in str(i):\n",
    "                all_spec.append(str(i).split('</span> ', 1)[1].split('<', 1)[0])\n",
    "\n",
    "            elif 'Dauer' in str(i):\n",
    "                runtime = str(i).split('</span> ', 1)[1].split('<', 1)[0].replace('Minuten', '').replace(' ', '')\n",
    "\n",
    "        spec_caption = []\n",
    "        caption_wrap = program.find_all(\"div\", {\"class\": \"caption__wrap\"})\n",
    "        if caption_wrap:\n",
    "            for caption in caption_wrap:\n",
    "                tmp = caption.find(\"b\")\n",
    "                if tmp:\n",
    "                    caption_tag = tmp.contents[0]\n",
    "                    caption_text = caption.find(\"div\", {\"class\": \"caption__text\"}).contents[0].replace(' - Atmos', '')\n",
    "\n",
    "                    for t in [title, subtitle]:\n",
    "                        caption_text = \"\".join(caption_text.split(t)).lstrip().rstrip()\n",
    "\n",
    "                    if caption_tag in caption_text:\n",
    "                        caption_text = caption_text.split(caption_tag)[1].replace(':', '')\n",
    "\n",
    "                    if [caption_tag, caption_text] not in spec_caption:\n",
    "                        spec_caption.append([caption_tag, caption_text])\n",
    "\n",
    "                else:\n",
    "                    string = [c.string for c in caption if c.string not in [None, '\\n']]\n",
    "                    if len(string) == 1:\n",
    "                        string = string[0]\n",
    "                    else:\n",
    "                        string = ': '.join([c.string for c in caption if c != '\\n'])\n",
    "                    spec_caption.append(['tag_all', string])\n",
    "\n",
    "\n",
    "        l_day = []\n",
    "        l_price = []\n",
    "\n",
    "        table = program.find_all(\"div\", {\"class\": \"slider slider-6 prog-nav\"})\n",
    "        pattern = r'data-performance-ids=\".*?</div></div></div>'\n",
    "        for slider in re.findall(pattern, str(table)):\n",
    "            day = re.search('<div class=\"prog-nav__day\">(.*?)</div>', slider).group(1)\n",
    "\n",
    "            if 'Heute' in day:\n",
    "                if dt.today().hour <= 1:\n",
    "                    day_date = dt.today() + timedelta(-1)\n",
    "                else:\n",
    "                    day_date = dt.today()\n",
    "\n",
    "            elif 'Morgen' in day:\n",
    "                if dt.today().hour <= 1:\n",
    "                    day_date = dt.today()\n",
    "                else:\n",
    "                    day_date = dt.today() + timedelta(+1)\n",
    "\n",
    "            else:\n",
    "                day, month = day.split(' ')[-1].split('.')[:2]\n",
    "                year = dt.now().year\n",
    "                if int(month) < dt.now().month:\n",
    "                    year += 1\n",
    "                day_date = dt.strptime(day+'.'+month+'.'+str(year), '%d.%m.%Y')\n",
    "\n",
    "            l_day.append(day_date.replace(second=0, microsecond=0))\n",
    "\n",
    "\n",
    "        i = -1\n",
    "        for day_slide in program.find_all(\"div\", {\"class\": \"prog-day__wrapper\"}):\n",
    "            i += 1\n",
    "            day = l_day[i]\n",
    "\n",
    "            for screen in day_slide.find_all(\"div\", {\"class\": \"prog2__cont\", \"data-performance-id\": True}):            \n",
    "                time_expired = None_AttributeError_cnt(screen.find(\"div\", {\"class\": \"prog2__time\"}))\n",
    "                time_alive = None_AttributeError_cnt(screen.find(\"a\", {\"class\": \"prog2__time time__buy_btn\"}))\n",
    "                if time_expired:\n",
    "                    time = time_expired\n",
    "                else:\n",
    "                    time = time_alive\n",
    "\n",
    "                if time:\n",
    "                    hour, minute = time.split(':', 1)\n",
    "                    timestamp = day.replace(hour=int(hour), minute=int(minute))\n",
    "\n",
    "                else:\n",
    "                    timestamp = None\n",
    "\n",
    "                try:\n",
    "                    room = re.search('<div>(.*?)</div>', str(screen)).group(1)\n",
    "                except:\n",
    "                    room = None\n",
    "\n",
    "                seat = None_AttributeError_cnt(screen.find(\"div\", {\"class\": \"prog2__seats\"}))\n",
    "\n",
    "                load = None_AttributeError_cnt(screen.find(\"div\", {\"class\": \"prog2__scale scale-100\"}))\n",
    "\n",
    "                try:\n",
    "                    tmp = screen.find(\"a\", {\"data-version\": True, \"href\": True})['data-version'].replace('[', '').replace(']', '')\n",
    "                    tmp = tmp.replace('\"', '').upper().split(',')\n",
    "\n",
    "                    if '2D' in tmp:\n",
    "                        tmp.remove('2D')\n",
    "\n",
    "                    if all(i in tmp for i in ['OV', 'OMU']):\n",
    "                        tmp.remove('OV')\n",
    "\n",
    "                    spec = []                \n",
    "                    [spec.append(i) for i in tmp if i not in all_spec + spec]\n",
    "\n",
    "                    for caption in spec_caption:\n",
    "                        if caption[0] == 'tag_all':\n",
    "                            all_spec.append(caption[1])\n",
    "\n",
    "                        elif any(caption[0].lower() == t.lower() for t in spec):\n",
    "                            spec = [caption[0] +': '+ caption[1] if s.lower() == caption[0].lower() else s for s in spec]\n",
    "\n",
    "                    spec = ', '.join(all_spec + spec)\n",
    "                except:\n",
    "                    spec = ', '.join(all_spec)\n",
    "\n",
    "                try:\n",
    "                    ticket = 'https://www.kinopolis.de' + screen.find(\"a\", {\"data-version\": True, \"href\": True})['href']\n",
    "                except:\n",
    "                    ticket = None\n",
    "\n",
    "                price = None_AttributeError_cnt(screen.find(\"b\"))\n",
    "                if price:\n",
    "                    price = price + '€'\n",
    "\n",
    "\n",
    "                page = {\n",
    "                    \"name\": 'KINOPOLIS',\n",
    "                    \"short name\": 'kinopolis',\n",
    "                    \"emoji\": ':burrito:',\n",
    "                    \"timestamp\": timestamp,\n",
    "                    \"title\": title,\n",
    "                    \"subtitle\": subtitle,\n",
    "                    \"room\": room,\n",
    "                    \"seat\": seat,\n",
    "                    \"runtime\": runtime,\n",
    "                    \"spec\": spec,\n",
    "                    \"location\": 'KINOPOLIS',\n",
    "                    \"ticket\": ticket,\n",
    "                    \"load\": load,\n",
    "                    \"price\": price\n",
    "                }\n",
    "\n",
    "                result_event.append(page)\n",
    "                \n",
    "    return result_event\n",
    "\n",
    "def kinopolis():\n",
    "    result = {\n",
    "        \"alias\": ['kinopolis', 'kp'],\n",
    "        \"event\": []\n",
    "    }\n",
    "    \n",
    "    raw_url = \"https://www.kinopolis.de/bn/programm\"\n",
    "    \n",
    "    for week in range(8):\n",
    "        if week > 0:\n",
    "            url = raw_url + '/woche-' + str(week)\n",
    "        else:\n",
    "            url = raw_url\n",
    "\n",
    "        for event in kinopolis_week(url, week):\n",
    "            result['event'].append(event)\n",
    "        \n",
    "    return result\n",
    "\n",
    "res = kinopolis()"
   ]
  },
  {
   "cell_type": "code",
   "execution_count": 7,
   "id": "d2a4c4f1-a008-495f-b0e6-3c9fde8571bd",
   "metadata": {},
   "outputs": [],
   "source": [
    "title = []\n",
    "title_count = []\n",
    "event_dict = {\n",
    "    \"title\": '',\n",
    "    \"subtitle\": '',\n",
    "    \"count\": 0,\n",
    "    \"cinema\": [],\n",
    "    \"description\": []\n",
    "}\n",
    "\n",
    "for cinema in imported:\n",
    "    for event in cinema['event']:\n",
    "        if event['title'].lower() in event_title:\n",
    "            index = event_title.index(event['title'].lower())\n",
    "            event_title_count[index] += 1\n",
    "\n",
    "        elif event['subtitle'] and event['subtitle'].lower in event_title:\n",
    "            index = event_title.index(event['subtitle'].lower())\n",
    "            event_title_count[index] += 1\n",
    "            \n",
    "        else:\n",
    "            event_title.append(event['title'].lower())\n",
    "            event_title_count.append(1)\n",
    "\n",
    "for i, i_title in enumerate(event_title):\n",
    "    re_title = re.sub(r\"[^A-Za-z0-9]+\", '', i_title)\n",
    "\n",
    "    for j, j_title in enumerate(title):\n",
    "        if re_title in re.sub(r\"[^A-Za-z0-9]+\", '', j_title):\n",
    "            print(re_title)\n",
    "        else:\n",
    "            title.append(i_title)\n",
    "            title_count.append(event_title_count[i])\n",
    "\n",
    "for i in range(len(title)):\n",
    "    print(title_count[i], title[i])"
   ]
  },
  {
   "cell_type": "code",
   "execution_count": 73,
   "id": "3c2178ef-6114-4316-b410-8ec0c9fbdb2b",
   "metadata": {},
   "outputs": [
    {
     "name": "stdout",
     "output_type": "stream",
     "text": [
      "False\n",
      "hi\n",
      "['asd']\n",
      "hi\n"
     ]
    }
   ],
   "source": [
    "s = ['deadpool & wolverine', 'deadpool + wolverine', 'der große diktator (best of cinema) 1', 'der große diktator – best of cinema 1']\n",
    "t = 'deadpool wolverine'\n",
    "print(s.index(item) if 'a' in s else False)\n",
    "#print(title_match(t, s))\n",
    "if not None:\n",
    "    print('hi')\n",
    "else:\n",
    "    print('ih')\n",
    "\n",
    "print('asd'.split('-'))\n",
    "s = ['a', 'b', 'c']\n",
    "t = ['b', 'e', 'f']\n",
    "\n",
    "if any(i in s for i in t):\n",
    "    print('hi')"
   ]
  },
  {
   "cell_type": "code",
   "execution_count": 239,
   "id": "bac7fee9-4db5-4da7-a929-22c3c2fda060",
   "metadata": {},
   "outputs": [
    {
     "name": "stdout",
     "output_type": "stream",
     "text": [
      "joker: foile a deux i + ii\n",
      "joker foile a deux i ii\n",
      "joker: foile a deux 1 + 2 \n"
     ]
    }
   ],
   "source": [
    "def remove_minus_preview(string):\n",
    "    title = string.rsplit('-', 1)\n",
    "    if len(title) == 2 and 'preview' in title[-1]:\n",
    "        return ' '.join(title[0].split())\n",
    "\n",
    "    title = string.rsplit('–', 1)\n",
    "    if len(title) == 2 and 'preview' in title[-1]:\n",
    "        return ' '.join(title[0].split())\n",
    "\n",
    "    return string\n",
    "\n",
    "l = 'woodwalkers – happy family preview'\n",
    "remove_minus_preview(l)\n",
    "s = 'abcdeiiv'\n",
    "sa = 'joker: foile a deux i + ii'\n",
    "print(sa[0:])\n",
    "print(' '.join(re.sub(r\"[^A-ZÄÖÜa-zäöüß0-9 ]+\", '', sa).split()))\n",
    "clearing = sa\n",
    "for i, s in enumerate(sa.split(' ')):\n",
    "    if all([char in L_ROMAN for char in s]):\n",
    "        clearing = ' '.join(clearing.split(' ')[:i]) +' '+ str(roman2decimal(s)) +' '+ ' '.join(clearing.split(' ')[i+1:])\n",
    "\n",
    "print(clearing)"
   ]
  },
  {
   "cell_type": "code",
   "execution_count": 242,
   "id": "42079850-79f7-4988-988d-b8a6f8c7d6a4",
   "metadata": {},
   "outputs": [
    {
     "name": "stdout",
     "output_type": "stream",
     "text": [
      "roman ['df: joker 1 + 2', ': joker 1 + 2', 'joker 1 2']\n",
      "roman ['df: ov joker i + ii', ': ov joker i + ii', 'df:  joker i + ii', 'ov joker i ii', 'df  joker i ii', 'df: ov joker 1 ', 'df: ov joker 1  2 ', ': ov joker 1 ', ': ov joker 1  2 ', 'df: 0 ', 'df: 0  1 ', 'df: 0  1  2 ', 'ov joker 1 ', 'ov joker 1 2 ', 'df 0 ', 'df 0  1 ', 'df 0  1 2 ', 'df ov joker 1 ', 'df ov joker 1 2 ', 'ov joker 1 ', 'ov joker 1 2 ', 'df joker 1 ', 'df joker 1 2 ', 'ov joker 1 ', 'ov joker 1 2 ', 'df joker 1 ', 'df joker 1 2 ']\n",
      "['abenteuerreiter - feuerland bis alaska (live reportage)', 'abenteuerreiter - feuerland bis alaska'] |count: 1\n",
      "['afraid', 'they listen'] |count: 6\n",
      "['alien rlus', 'alien: romulus', 'alien: rlus'] |count: 9\n",
      "['alles fifty fifty', 'fifty fifty - eine erziehungskomödie'] |count: 3\n",
      "['alles steht kopf 2', 'inside out 2'] |count: 16\n",
      "['alter weißer mann – cinelady preview'] |count: 1\n",
      "['am i ok?'] |count: 1\n",
      "['architecton'] |count: 1\n",
      "['beetlejuice beetlejuice'] |count: 48\n",
      "['berliner philharmoniker: silvesterkonzert 2024'] |count: 1\n",
      "['blink twice'] |count: 2\n",
      "['caspar david friedrich - grenzen der zeit'] |count: 1\n",
      "['cineanime: die concierge (jap. omu)'] |count: 1\n",
      "['cineanime: my hero academia: you´re next'] |count: 2\n",
      "['cinespecial: andré rieus weihnachtskonzert 2024: gold and silver'] |count: 1\n",
      "['coldplay global theatrical listening event'] |count: 1\n",
      "[\"colleen hoover's it ends with us\", 'colleen hoers it ends with us', 'nur noch ein einziges mal', \"colleen hoer's it ends with us\"] |count: 20\n",
      "['coraline (15th anniversary)'] |count: 1\n",
      "['das salz der erde'] |count: 1\n",
      "['deadpool & wolverine', 'deadpool + wolverine'] |count: 22\n",
      "['der wilde roboter', 'the wild robot'] |count: 2\n",
      "['despicable me 4', 'ich - einfach unverbesserlich 4'] |count: 17\n",
      "['devara - part 1 (hindi/tamil)', 'devara'] |count: 1\n",
      "['df 0  1 ', 'df: ov joker 1  2 ', 'df: joker 1 + 2', ': ov joker 1  2 ', 'df 0 ', ': ov joker 1 ', 'df: 0  1 ', ': ov joker i + ii', 'df: ov joker i + ii', 'df  joker i ii', 'df: ov joker 1 ', 'ov joker i ii', 'df 0  1 2 ', 'df joker 1 ', 'ov joker 1 ', 'df ov joker 1 ', 'ov joker 1 2 ', 'df: 0  1  2 ', 'df joker 1 2 ', 'df: 0 ', 'df:  joker i + ii', 'df ov joker 1 2 '] |count: 2\n",
      "['die concierge (jap.)', 'hokkyoku hyakkaten no concierge san'] |count: 2\n",
      "['die heinzels - rückkehr der heinzelmännchen'] |count: 1\n",
      "['die ironie des lebens'] |count: 10\n",
      "['die schule der magischen tiere 3'] |count: 45\n",
      "['die unbeugsamen 2 - guten morgen, ihr schönen!'] |count: 5\n",
      "['die unbeugsamen ii - guten morgen, ihr schönen!', 'die unbeugsamen 2 '] |count: 3\n",
      "['die wilden mäuse'] |count: 3\n",
      "['dora - flucht in die musik'] |count: 1\n",
      "['druzyna a(a) - team a(a) (poln.)', 'druzyna a(a)'] |count: 1\n",
      "['element of crime in wenn es dunkel und kalt wird in berlin', 'element of crime - wenn es dunkel und kalt wird in berlin'] |count: 2\n",
      "['ezra - eine familiengeschichte', 'ezra - eine familieschichte', 'ezra eine familieschichte'] |count: 3\n",
      "['favoriten'] |count: 3\n",
      "['feuerwehrmann sam - tierische helden'] |count: 1\n",
      "['fft 2024: bonnard, pierre et marthe'] |count: 1\n",
      "['fft 2024: dahomey'] |count: 1\n",
      "['fft 2024: der gefallene stern'] |count: 1\n",
      "['fft 2024: e.1027-eileen gray und das haus am meer'] |count: 1\n",
      "['fft 2024: es liegt an dir chéri'] |count: 1\n",
      "['fft 2024: julie - eine frau gibt nicht auf'] |count: 1\n",
      "['fft 2024: les indésirables – die unerwünschten'] |count: 1\n",
      "['fft 2024: sechs richtige - glück ist nichts für anfänger'] |count: 1\n",
      "['fft 2024: tandem - in welcher sprache träumst du?'] |count: 1\n",
      "['fft 2024: the beast'] |count: 1\n",
      "['fuchs und hase retten den wald', 'fox and hare save the forest'] |count: 1\n",
      "['führer und verführer'] |count: 1\n",
      "['gett: der prozess der viviane amsalem', 'gett'] |count: 1\n",
      "['gloria!'] |count: 1\n",
      "['good bye, lenin – best of cinema', 'good bye, lenin! (best of cinema)'] |count: 2\n",
      "['horizon', 'horizon: an american saga chapter 1'] |count: 13\n",
      "['interstellar (10th anniversary)'] |count: 7\n",
      "['jigra (hindi)', 'jigra'] |count: 1\n",
      "['joker: folie à deux – preview', 'joker: folie a deux', 'joker: folie à deux'] |count: 34\n",
      "['josef. das herz eines vaters', 'corazon de padre'] |count: 1\n",
      "['jung kook: i am still\\xa0(korean.)', 'jung kook: i am still'] |count: 1\n",
      "['kikis kleiner lieferservice'] |count: 1\n",
      "['kulej. dwie strony medalu (poln.)', 'kulej. dwie strony medalu'] |count: 1\n",
      "['la la land – best of cinema'] |count: 1\n",
      "['lee', 'die fotografin'] |count: 38\n",
      "['liebesbriefe aus nizza'] |count: 1\n",
      "['longlegs'] |count: 4\n",
      "['look back (jap.)', 'rukku bakku'] |count: 1\n",
      "['love lies bleeding'] |count: 1\n",
      "['lustiges pettersson und findus mitmachkino – mein erster kinobesuch'] |count: 4\n",
      "['madame sidonie in japan', 'sidonie au japon'] |count: 1\n",
      "['magie des nordens (live reportage)', 'magie des nordens'] |count: 1\n",
      "['magisches indien', 'magisches indien (live reportage)'] |count: 2\n",
      "['megalopolis'] |count: 10\n",
      "['mein erster kinobesuch: niko - ein rentier hebt ab'] |count: 1\n",
      "['my hero academia: you’re next', 'boku no hiro akademia za mubi yua nekusuto'] |count: 2\n",
      "['never let go'] |count: 8\n",
      "['nur noch ein einziges mal - it ends with us'] |count: 12\n",
      "['offenbach: les contes d’hoffmann (met live im kino)', 'met opera: les contes d’hoffmann (2024)'] |count: 1\n",
      "['oh wie schön ist panama'] |count: 2\n",
      "['perfect days'] |count: 2\n",
      "['petra kelly - act now!'] |count: 2\n",
      "['prinzessin lillifee'] |count: 1\n",
      "['rose - eine unvergessliche reise nach paris', 'rose'] |count: 2\n",
      "['royal ballet live: \"alice im wunderland\" (2024)'] |count: 1\n",
      "['royal ballet live: \"ballet to broadway: wheeldons werke \" (2025)'] |count: 1\n",
      "['royal ballet live: \"cinderella\" (2024)'] |count: 1\n",
      "['royal ballet live: \"romeo und julia \" (2025)'] |count: 1\n",
      "['royal ballet live: \"schwanensee\" (2025)'] |count: 1\n",
      "['royal ballet: \"der nussknacker\" (2024)'] |count: 1\n",
      "['sad jokes'] |count: 1\n",
      "['samia'] |count: 5\n",
      "['smile 2 - siehst du es auch?', 'smile ii'] |count: 1\n",
      "['sneak preview'] |count: 1\n",
      "['sneak preview night', 'sneak'] |count: 2\n",
      "['something in the water'] |count: 2\n",
      "['speak no evil'] |count: 18\n",
      "['tatami'] |count: 2\n",
      "['the crow'] |count: 12\n",
      "['the english sneak preview'] |count: 1\n",
      "['the great dictator (best of cinema)', 'der große diktator – best of cinema', 'der große diktator (best of cinema)'] |count: 2\n",
      "['the zone of interest'] |count: 2\n",
      "['transformers one'] |count: 1\n",
      "['treasure – familie ist ein fremdes land'] |count: 6\n",
      "[\"un p'tit truc en plus\", 'was ist schon normal?'] |count: 18\n",
      "['vicky vidya ka woh wala video (hindi)', 'vicky vidya ka woh wala video'] |count: 1\n",
      "['was will der lama mit dem gewehr?'] |count: 2\n",
      "['whitney houston - the concert for a new south africa (engl.)', 'whitney houston - the concert for a new south africa'] |count: 1\n",
      "['woodwalkers', 'woodwalkers – happy family preview'] |count: 2\n",
      "['zucchero sugar fornaciari'] |count: 1\n",
      "['zwei zu eins'] |count: 6\n"
     ]
    }
   ],
   "source": [
    "L_ROMAN = ['i', 'v', 'x', 'l', 'c', 'd', 'm']\n",
    "\n",
    "def roman_value(r):\n",
    "    if r == 'I':\n",
    "        return 1\n",
    "    if r == 'V':\n",
    "        return 5\n",
    "    if r == 'X':\n",
    "        return 10\n",
    "    if r == 'L':\n",
    "        return 50\n",
    "    if r == 'C':\n",
    "        return 100\n",
    "    if r == 'D':\n",
    "        return 500\n",
    "    if r == 'M':\n",
    "        return 1000\n",
    "    return -1\n",
    "\n",
    "\n",
    "def roman2decimal(s):\n",
    "    res = 0\n",
    "    i = 0\n",
    "    while i < len(s):\n",
    "        s1 = roman_value(s[i].capitalize())\n",
    "        if i + 1 < len(s):\n",
    "            s2 = roman_value(s[i + 1].capitalize())\n",
    "\n",
    "            if s1 >= s2:\n",
    "                res += s1\n",
    "            else:\n",
    "                res += (s2 - s1)\n",
    "                i += 1\n",
    "        else:\n",
    "            res += s1\n",
    "        i += 1\n",
    "\n",
    "    return res\n",
    "\n",
    "\n",
    "def only_alphabet(string):\n",
    "    return ' '.join(re.sub(r\"[^A-ZÄÖÜa-zäöüß0-9 ]+\", '', string).split())\n",
    "\n",
    "\n",
    "def remove_minus_preview(l):\n",
    "    result = l\n",
    "    for string in l:\n",
    "        if any(minus in string for minus in ['-', '–']):\n",
    "            for minus in ['-', '–']:\n",
    "                title = string.rsplit(minus, 1)\n",
    "                if len(title) == 2 and 'preview' in title[-1]:\n",
    "                    result += [' '.join(title[0].split())]\n",
    "\n",
    "    return result\n",
    "\n",
    "\n",
    "def remove_buzz(l):\n",
    "    result = l\n",
    "    for string in l + [only_alphabet(pos) for pos in l]:\n",
    "        clearing = string\n",
    "        for buzz in ['df', 'eng', 'ov', 'omu']:\n",
    "            if buzz in string:\n",
    "                pre_result = clearing.replace(buzz, '')\n",
    "                if pre_result[0] == ' ':\n",
    "                    pre_result = pre_result[1:]\n",
    "                elif pre_result[-1] == ' ':\n",
    "                    pre_result = pre_result[:-1]\n",
    "                result += [pre_result]\n",
    "\n",
    "    return result\n",
    "\n",
    "\n",
    "def remove_roman(l):\n",
    "    result = l\n",
    "    for string in l + [only_alphabet(pos) for pos in l]:\n",
    "        clearing = string\n",
    "        for i, s in enumerate(string.split(' ')):\n",
    "            if all([char in L_ROMAN for char in s]):\n",
    "                clearing = ' '.join(clearing.split(' ')[:i]) + ' '\n",
    "                clearing += str(roman2decimal(s)) + ' '\n",
    "                clearing += ' '.join(clearing.split(' ')[i+1:])\n",
    "                result += [clearing]\n",
    "    if any('df' in ll.lower() for ll in l):\n",
    "        print('roman', result)\n",
    "    return result\n",
    "\n",
    "\n",
    "def title_match(event_title, l_title):\n",
    "    \"\"\"\n",
    "    e_title: (event[title], event[subtitle])\n",
    "    l_title: list of all list(sub/titles)\n",
    "    \"\"\"\n",
    "    for i_titlelist, titlelist in enumerate(l_title):\n",
    "        match_plain = any(t in titlelist for t in event_title)\n",
    "        if match_plain:\n",
    "            return i_titlelist, l_title\n",
    "\n",
    "        t_alphabet = [only_alphabet(title) for title in event_title]\n",
    "        l_alphabet = [only_alphabet(item) for item in titlelist]\n",
    "        match_alphabet = any(t in l_alphabet for t in t_alphabet)\n",
    "        if match_alphabet:\n",
    "            return i_titlelist, l_title\n",
    "\n",
    "    return False, l_title\n",
    "\n",
    "\n",
    "l_title = []\n",
    "l_title_count = []\n",
    "l_event = []\n",
    "\n",
    "for cinema in imported:\n",
    "    for event in cinema['event']:\n",
    "        #make here a list of title, subtitle and all possible like without minus, without df\n",
    "        possible_title = [event['title'].lower()]\n",
    "        if event['subtitle']:\n",
    "            possible_title.append(event['subtitle'].lower())\n",
    "\n",
    "        possible_title = remove_minus_preview(possible_title)\n",
    "        possible_title = remove_buzz(possible_title)\n",
    "        possible_title = remove_roman(possible_title)\n",
    "\n",
    "        index, l_title = title_match(possible_title, l_title)\n",
    "        # if 'joker' in event['title'].lower():\n",
    "        #     print(l_title)\n",
    "        if index is not False:\n",
    "            l_title_count[index] += 1\n",
    "\n",
    "            d_event = list(set(l_event[index]['title'] + possible_title))\n",
    "            l_event[index]['title'] = d_event\n",
    "            l_title[index] = d_event\n",
    "\n",
    "        else:\n",
    "            d_title = [event['title'].lower()]\n",
    "            if event['subtitle']:\n",
    "                d_title.append(event['subtitle'].lower())\n",
    "\n",
    "            l_title.append(d_title)\n",
    "            l_title_count.append(1)\n",
    "\n",
    "            event_dict = {\n",
    "                \"title\": d_title,\n",
    "                \"count\": 1,\n",
    "                \"cinema\": [event['location'],],\n",
    "                \"description\": [event['spec'],]\n",
    "            }\n",
    "            l_event.append(event_dict)\n",
    "\n",
    "a, b = (list(x) for x in zip(*sorted(zip(l_title, l_title_count), key=lambda pair: pair[0])))\n",
    "for i, aa in enumerate(a):\n",
    "    print(aa, '|count:', b[i])"
   ]
  },
  {
   "cell_type": "code",
   "execution_count": null,
   "id": "bdae8dc9-7e81-47d9-85b1-f4ca6776cbe9",
   "metadata": {},
   "outputs": [],
   "source": [
    "event_title = []\n",
    "\n",
    "for cinema in imported:\n",
    "    for event in cinema['event']:\n",
    "        if event['title'].lower() in event_title:\n",
    "            index = event_title.index(event['title'].lower())\n",
    "            event_title[index].append(event['title'].lower())\n",
    "\n",
    "        elif event['subtitle'] and event['subtitle'].lower in event_title:\n",
    "            index = event_title.index(event['subtitle'].lower())\n",
    "            event_title[index].append(event['subtitle'].lower())\n",
    "            \n",
    "        else:\n",
    "            event_dict = {\n",
    "                \"title\": event['title'].lower(),\n",
    "                \"cinema\": event['name'],\n",
    "                \"count\": 1,\n",
    "                \"timestamp\": event['timestamp']\n",
    "            }\n",
    "            event_title.append(event_dict)\n",
    "\n",
    "for i in range(len(event_title_count)):\n",
    "    print(event_title[i], event_title_count[i])"
   ]
  },
  {
   "cell_type": "code",
   "execution_count": null,
   "id": "f80ac2e9-19de-4681-a9ee-daf1eb42ace0",
   "metadata": {},
   "outputs": [],
   "source": [
    "import pyshorteners\n",
    "type_tiny = pyshorteners.Shortener()\n",
    "short_url = type_tiny.tinyurl.short(event_d['ticket'])\n",
    "print(return_color(short_url, '39'))"
   ]
  },
  {
   "cell_type": "code",
   "execution_count": null,
   "id": "4c3241cb-a291-4e68-811c-77baf0fafaf3",
   "metadata": {},
   "outputs": [],
   "source": [
    "from urllib.request import urlopen\n",
    "from urllib.parse import unquote\n",
    "import re\n",
    "import json\n",
    "from datetime import datetime as dt\n",
    "\n",
    "\n",
    "timestamp = []\n",
    "title = []\n",
    "room = []\n",
    "spec = []\n",
    "location = []\n",
    "ticket = []\n",
    "\n",
    "url = 'https://www.imdb.com/title/tt11198810/'\n",
    "page = urlopen(url)\n",
    "html = page.read().decode(\"utf-8\")\n",
    "\n",
    "soup = BeautifulSoup(html, \"html.parser\")\n",
    "print(soup)\n",
    "\n",
    "#match_results = \n",
    "#jstring = json.loads(match_results)\n",
    "#print(json.dumps(jstring, indent=3))\n",
    "#pattern = r'<div class=\"relative\">.*?</div>'\n",
    "#match_results = re.findall(pattern, html, re.DOTALL)"
   ]
  },
  {
   "cell_type": "code",
   "execution_count": 20,
   "id": "f5221a7f-a2d3-4d4e-af8f-50113152dcb2",
   "metadata": {},
   "outputs": [],
   "source": [
    "woki = SF.import_cinema_errorless('woki')"
   ]
  },
  {
   "cell_type": "code",
   "execution_count": 31,
   "id": "bf35a1d6-7f11-4da4-a54b-67bb6a8d1011",
   "metadata": {},
   "outputs": [],
   "source": [
    "import pyshorteners\n",
    "import threading\n",
    "import concurrent.futures"
   ]
  },
  {
   "cell_type": "code",
   "execution_count": null,
   "id": "0eec549e-8910-4453-ae44-89bc84919327",
   "metadata": {},
   "outputs": [],
   "source": [
    "for i in woki['event']:\n",
    "    shortener(i['ticket'])"
   ]
  },
  {
   "cell_type": "code",
   "execution_count": 47,
   "id": "675eaec8-fcbb-44fa-8c42-685bb4e260bf",
   "metadata": {},
   "outputs": [],
   "source": [
    "def shortener(url):\n",
    "    type_tiny = pyshorteners.Shortener()\n",
    "    short_url = type_tiny.tinyurl.short(url)\n",
    "    return short_url"
   ]
  },
  {
   "cell_type": "code",
   "execution_count": null,
   "id": "c3291f2e-2a56-4919-b70a-8cd949ece768",
   "metadata": {},
   "outputs": [],
   "source": [
    "#multithreading\n",
    "threads = list()\n",
    "\n",
    "print(len(woki['event']))\n",
    "\n",
    "for event in woki['event']:\n",
    "    x = threading.Thread(target=shortener, args=(event['ticket'],))\n",
    "    threads.append(x)\n",
    "    x.start()\n",
    "\n",
    "for url, thread in enumerate(threads):\n",
    "    print(url, thread)\n",
    "    thread.join()"
   ]
  },
  {
   "cell_type": "code",
   "execution_count": null,
   "id": "8cc8cbe8-5220-491c-a994-22011932e94f",
   "metadata": {},
   "outputs": [],
   "source": [
    "for event in woki['event']:\n",
    "    print(event['ticket'])"
   ]
  },
  {
   "cell_type": "code",
   "execution_count": 28,
   "id": "20fd61a9-4956-46ce-a6c6-641720e704e4",
   "metadata": {},
   "outputs": [],
   "source": [
    "import rottentomatoes as rt"
   ]
  },
  {
   "cell_type": "code",
   "execution_count": null,
   "id": "711867c6-1f30-4b41-9fc6-792b9c2272ef",
   "metadata": {},
   "outputs": [],
   "source": [
    "for event in woki['event']:\n",
    "    while True:\n",
    "        try:\n",
    "            movies = rt.tomatometer(event['title'])\n",
    "            print(movies)\n",
    "\n",
    "        except Exception as e:\n",
    "            print(\"\\r\" , end=\"\", flush=True)\n",
    "            \n",
    "            print('retrying..')\n",
    "            time.sleep(4)"
   ]
  },
  {
   "cell_type": "code",
   "execution_count": 63,
   "id": "dee73909-82bb-42a3-8eb2-d26919d603b8",
   "metadata": {},
   "outputs": [
    {
     "name": "stdout",
     "output_type": "stream",
     "text": [
      "Harry Potter and the Sorcerer's Stone\n"
     ]
    },
    {
     "data": {
      "text/plain": [
       "{}"
      ]
     },
     "execution_count": 63,
     "metadata": {},
     "output_type": "execute_result"
    }
   ],
   "source": [
    "movie = ia.search_movie('harry potter')[0]\n",
    "print(movie)\n",
    "movie.infoset2keys"
   ]
  },
  {
   "cell_type": "code",
   "execution_count": 12,
   "id": "73e6bbce-e8cb-418f-927f-02780e2cdba4",
   "metadata": {},
   "outputs": [],
   "source": [
    "from imdb import Cinemagoer"
   ]
  },
  {
   "cell_type": "code",
   "execution_count": 14,
   "id": "11b31733-1ad7-4b55-907c-5faa0b9c0f2c",
   "metadata": {},
   "outputs": [],
   "source": [
    "ia = Cinemagoer()"
   ]
  },
  {
   "cell_type": "code",
   "execution_count": null,
   "id": "f3dc1af9-0ba4-4038-b04e-205254c10a24",
   "metadata": {},
   "outputs": [],
   "source": [
    "for event in woki['event']:\n",
    "    while True:\n",
    "        try:\n",
    "            movies = ia.search_movie(event['title'])\n",
    "            print(movies)\n",
    "\n",
    "        except Exception as e:\n",
    "            print(\"\\r\" , end=\"\", flush=True)\n",
    "            \n",
    "            print('retrying..')\n",
    "            time.sleep(4)"
   ]
  },
  {
   "cell_type": "code",
   "execution_count": 19,
   "id": "118743a7-f4b9-49b1-89ed-9e2e3f433586",
   "metadata": {},
   "outputs": [
    {
     "name": "stdout",
     "output_type": "stream",
     "text": [
      "Lana Wachowski\n",
      "Lilly Wachowski\n",
      "['akas', 'animation department', 'art department', 'art direction', 'aspect ratio', 'assistant director', 'box office', 'camera and electrical department', 'canonical title', 'cast', 'casting department', 'casting director', 'certificates', 'cinematographer', 'color info', 'composer', 'costume department', 'costume designer', 'countries', 'country codes', 'cover url', 'director', 'distributors', 'editor', 'editorial department', 'full-size cover url', 'genres', 'imdbID', 'kind', 'language codes', 'languages', 'localized title', 'location management', 'long imdb canonical title', 'long imdb title', 'make up', 'miscellaneous crew', 'music department', 'original air date', 'original title', 'other companies', 'plot', 'plot outline', 'producer', 'production companies', 'production design', 'production manager', 'rating', 'runtimes', 'script department', 'set decoration', 'smart canonical title', 'smart long imdb canonical title', 'sound crew', 'sound mix', 'special effects', 'special effects companies', 'stunt performer', 'synopsis', 'title', 'top 250 rank', 'transportation department', 'videos', 'visual effects', 'votes', 'writer', 'year']\n",
      "['airing', 'akas', 'alternate versions', 'awards', 'connections', 'crazy credits', 'critic reviews', 'episodes', 'external reviews', 'external sites', 'faqs', 'full credits', 'goofs', 'keywords', 'list', 'locations', 'main', 'misc sites', 'news', 'official sites', 'parents guide', 'photo sites', 'plot', 'quotes', 'recommendations', 'release dates', 'release info', 'reviews', 'sound clips', 'soundtrack', 'synopsis', 'taglines', 'technical', 'trivia', 'tv schedule', 'video clips', 'vote details']\n",
      "['tech']\n",
      "{}\n"
     ]
    }
   ],
   "source": [
    "# create an instance of the Cinemagoer class\n",
    "for director in the_matrix['directors']:\n",
    "    print(director['name'])\n",
    "print(sorted(the_matrix.keys()))\n",
    "print(ia.get_movie_infoset())\n",
    "ia.update(the_matrix, ['technical'])\n",
    "print(the_matrix.infoset2keys['technical'])\n",
    "print(the_matrix.get('tech'))"
   ]
  },
  {
   "cell_type": "code",
   "execution_count": 14,
   "id": "60540c5b-51db-4ed2-86ab-764bfceb0345",
   "metadata": {},
   "outputs": [
    {
     "name": "stdout",
     "output_type": "stream",
     "text": [
      "## the nun 2\n"
     ]
    },
    {
     "name": "stderr",
     "output_type": "stream",
     "text": [
      "2023-10-25 01:48:24,913 ERROR [imdbpy] /Users/tarowatanabe/opt/anaconda3/lib/python3.8/site-packages/imdb/__init__.py:844: unknown information set \"rating\"\n"
     ]
    },
    {
     "name": "stdout",
     "output_type": "stream",
     "text": [
      "10160976\n",
      "1.3201336860656738\n",
      "None\n",
      "{'main': ['localized title', 'cast', 'genres', 'runtimes', 'countries', 'country codes', 'language codes', 'color info', 'aspect ratio', 'box office', 'certificates', 'original air date', 'rating', 'votes', 'cover url', 'imdbID', 'videos', 'plot outline', 'languages', 'title', 'year', 'kind', 'original title', 'director', 'writer', 'producer', 'composer', 'cinematographer', 'editor', 'editorial department', 'casting director', 'production design', 'art direction', 'set decoration', 'costume designer', 'make up', 'production manager', 'assistant director', 'art department', 'sound crew', 'special effects', 'visual effects', 'stunt performer', 'camera and electrical department', 'casting department', 'costume department', 'location management', 'music department', 'script department', 'transportation department', 'miscellaneous crew', 'akas', 'production companies', 'distributors', 'special effects companies', 'other companies'], 'plot': ['plot', 'synopsis']}\n",
      "2.8486568927764893\n",
      "## philipp mickenbecker - real life\n"
     ]
    },
    {
     "name": "stderr",
     "output_type": "stream",
     "text": [
      "2023-10-25 01:48:28,576 ERROR [imdbpy] /Users/tarowatanabe/opt/anaconda3/lib/python3.8/site-packages/imdb/__init__.py:844: unknown information set \"rating\"\n"
     ]
    },
    {
     "name": "stdout",
     "output_type": "stream",
     "text": [
      "28627002\n",
      "0.8141398429870605\n",
      "None\n",
      "{'main': ['localized title', 'genres', 'runtimes', 'countries', 'country codes', 'language codes', 'color info', 'certificates', 'rating', 'votes', 'cover url', 'imdbID', 'plot outline', 'languages', 'title', 'year', 'kind', 'original title', 'director', 'writer', 'producer', 'composer', 'cinematographer', 'editor', 'production companies'], 'plot': ['plot']}\n",
      "2.3289988040924072\n",
      "## barbie\n"
     ]
    },
    {
     "name": "stderr",
     "output_type": "stream",
     "text": [
      "2023-10-25 01:48:31,888 ERROR [imdbpy] /Users/tarowatanabe/opt/anaconda3/lib/python3.8/site-packages/imdb/__init__.py:844: unknown information set \"rating\"\n"
     ]
    },
    {
     "name": "stdout",
     "output_type": "stream",
     "text": [
      "1517268\n",
      "0.9829950332641602\n",
      "None\n",
      "{'main': ['localized title', 'cast', 'genres', 'runtimes', 'countries', 'country codes', 'language codes', 'color info', 'aspect ratio', 'sound mix', 'box office', 'certificates', 'original air date', 'rating', 'votes', 'cover url', 'imdbID', 'videos', 'languages', 'title', 'year', 'kind', 'original title', 'director', 'writer', 'producer', 'composer', 'cinematographer', 'editor', 'editorial department', 'casting director', 'production design', 'art direction', 'set decoration', 'costume designer', 'make up', 'production manager', 'assistant director', 'art department', 'sound crew', 'special effects', 'visual effects', 'stunt performer', 'camera and electrical department', 'animation department', 'casting department', 'costume department', 'location management', 'music department', 'script department', 'transportation department', 'miscellaneous crew', 'thanks', 'akas', 'production companies', 'distributors', 'special effects companies', 'other companies'], 'plot': ['plot', 'synopsis']}\n",
      "3.140880823135376\n",
      "## oppenheimer\n"
     ]
    },
    {
     "name": "stderr",
     "output_type": "stream",
     "text": [
      "2023-10-25 01:48:36,050 ERROR [imdbpy] /Users/tarowatanabe/opt/anaconda3/lib/python3.8/site-packages/imdb/__init__.py:844: unknown information set \"rating\"\n"
     ]
    },
    {
     "name": "stdout",
     "output_type": "stream",
     "text": [
      "15398776\n",
      "1.0211632251739502\n",
      "None\n",
      "{'main': ['localized title', 'cast', 'genres', 'runtimes', 'countries', 'country codes', 'language codes', 'color info', 'aspect ratio', 'sound mix', 'box office', 'certificates', 'original air date', 'rating', 'votes', 'cover url', 'imdbID', 'videos', 'plot outline', 'languages', 'title', 'year', 'kind', 'original title', 'director', 'writer', 'producer', 'composer', 'cinematographer', 'editor', 'editorial department', 'casting director', 'production design', 'art direction', 'set decoration', 'costume designer', 'make up', 'production manager', 'assistant director', 'art department', 'sound crew', 'special effects', 'visual effects', 'stunt performer', 'camera and electrical department', 'animation department', 'casting department', 'costume department', 'location management', 'music department', 'script department', 'transportation department', 'miscellaneous crew', 'thanks', 'akas', 'top 250 rank', 'production companies', 'distributors', 'special effects companies', 'other companies'], 'plot': ['plot', 'synopsis']}\n",
      "3.134567975997925\n"
     ]
    }
   ],
   "source": [
    "import time\n",
    "ia = Cinemagoer()\n",
    "\n",
    "for i in movietitle[6:10]:\n",
    "    print('##', i)\n",
    "\n",
    "    before = time.time()\n",
    "    movie = ia.search_movie(i)[0].movieID\n",
    "    print(movie)\n",
    "    print(time.time()-before)\n",
    "    before = time.time()\n",
    "    movies = ia.get_movie(movie, info=['rating'])\n",
    "    #movie = ia.get_movie(movie, info=['cast'])\n",
    "    #print(movie.infoset2keys)\n",
    "    #print(ia.get_movie(movie, info=['rating']))\n",
    "    print(movies.get('rating'))\n",
    "    movies = ia.get_movie(movie)\n",
    "    print(movies.infoset2keys)\n",
    "    print(time.time()-before)\n",
    "    before = time.time()\n"
   ]
  },
  {
   "cell_type": "code",
   "execution_count": null,
   "id": "79e3c4e0-cefd-403e-9727-a86a92287b60",
   "metadata": {},
   "outputs": [],
   "source": [
    "import time\n",
    "ia = Cinemagoer()\n",
    "print(ia.get_movie_infoset())\n",
    "\n",
    "for i in movietitle:\n",
    "    print('##', i)\n",
    "\n",
    "    before = time.time()\n",
    "    movie = ia.search_movie(i)[0]\n",
    "    print(movie)\n",
    "    print('found')\n",
    "    print(time.time()-before)\n",
    "    before = time.time()\n",
    "\n",
    "    ia.update(movie, info=['rating'])\n",
    "    print(time.time()-before)\n",
    "    before = time.time()\n",
    "\n",
    "    print('info', movie.current_info)\n",
    "    print(time.time()-before)\n",
    "    before = time.time()\n",
    "\n",
    "    print(type(movie))\n",
    "\n",
    "    print(time.time()-before)\n",
    "    before = time.time()\n",
    "\n",
    "    try:\n",
    "        print(movie.infoset2keys)\n",
    "    except KeyError:\n",
    "        print('this')\n",
    "    print('\\n')"
   ]
  },
  {
   "cell_type": "code",
   "execution_count": 44,
   "id": "a78569e0-3721-4c85-ac66-eb67a5fbc5db",
   "metadata": {},
   "outputs": [
    {
     "name": "stdout",
     "output_type": "stream",
     "text": [
      "{}\n",
      "\n",
      "\n"
     ]
    }
   ],
   "source": [
    "try:\n",
    "    print(movie.infoset2keys)\n",
    "except KeyError:\n",
    "    print('this')\n",
    "print('\\n')"
   ]
  },
  {
   "cell_type": "code",
   "execution_count": 35,
   "id": "af18d563-ae4e-412f-90ab-09e7e9e0e324",
   "metadata": {},
   "outputs": [
    {
     "name": "stdout",
     "output_type": "stream",
     "text": [
      "['airing', 'akas', 'alternate versions', 'awards', 'connections', 'crazy credits', 'critic reviews', 'episodes', 'external reviews', 'external sites', 'faqs', 'full credits', 'goofs', 'keywords', 'list', 'locations', 'main', 'misc sites', 'news', 'official sites', 'parents guide', 'photo sites', 'plot', 'quotes', 'recommendations', 'release dates', 'release info', 'reviews', 'sound clips', 'soundtrack', 'synopsis', 'taglines', 'technical', 'trivia', 'tv schedule', 'video clips', 'vote details']\n"
     ]
    },
    {
     "ename": "NameError",
     "evalue": "name 'resp' is not defined",
     "output_type": "error",
     "traceback": [
      "\u001b[0;31m---------------------------------------------------------------------------\u001b[0m",
      "\u001b[0;31mNameError\u001b[0m                                 Traceback (most recent call last)",
      "\u001b[0;32m<ipython-input-35-c74f053b72eb>\u001b[0m in \u001b[0;36m<module>\u001b[0;34m\u001b[0m\n\u001b[1;32m      4\u001b[0m \u001b[0mprint\u001b[0m\u001b[0;34m(\u001b[0m\u001b[0mia\u001b[0m\u001b[0;34m.\u001b[0m\u001b[0mget_movie_infoset\u001b[0m\u001b[0;34m(\u001b[0m\u001b[0;34m)\u001b[0m\u001b[0;34m)\u001b[0m\u001b[0;34m\u001b[0m\u001b[0;34m\u001b[0m\u001b[0m\n\u001b[1;32m      5\u001b[0m \u001b[0;34m\u001b[0m\u001b[0m\n\u001b[0;32m----> 6\u001b[0;31m \u001b[0mprint\u001b[0m\u001b[0;34m(\u001b[0m\u001b[0mresp\u001b[0m\u001b[0;34m)\u001b[0m\u001b[0;34m\u001b[0m\u001b[0;34m\u001b[0m\u001b[0m\n\u001b[0m\u001b[1;32m      7\u001b[0m \u001b[0;34m\u001b[0m\u001b[0m\n\u001b[1;32m      8\u001b[0m \u001b[0;32mfor\u001b[0m \u001b[0mi\u001b[0m \u001b[0;32min\u001b[0m \u001b[0mmovietitle\u001b[0m\u001b[0;34m:\u001b[0m\u001b[0;34m\u001b[0m\u001b[0;34m\u001b[0m\u001b[0m\n",
      "\u001b[0;31mNameError\u001b[0m: name 'resp' is not defined"
     ]
    }
   ],
   "source": [
    "brot = bf.brotfabrik()\n",
    "\n",
    "ia = Cinemagoer()\n",
    "print(ia.get_movie_infoset())\n",
    "\n",
    "print(resp)\n",
    "\n",
    "for i in movietitle:\n",
    "    try:\n",
    "        print('##', i)\n",
    "        \n",
    "        movie = ia.search_movie(i)[0]\n",
    "        for key, value in movie.items():\n",
    "            print(key, value)\n",
    "        print('\\n')\n",
    "        \n",
    "        rtmovie = rt.Movie(i)\n",
    "        if movie['year'] == rt.year_released(i):\n",
    "            print(rtmovie, '\\n')\n",
    "        else:\n",
    "            raise KeyError\n",
    "        \n",
    "    except KeyError:\n",
    "        try:\n",
    "            ia.update(movie, info=['main'][0])\n",
    "            print(movie.get('original title'))\n",
    "            movie = rt.Movie(movie.get('original title'))\n",
    "            print(movie, '\\n')\n",
    "        except:\n",
    "            print('no ratings on tomatoes')\n",
    "            continue\n",
    "        continue"
   ]
  },
  {
   "cell_type": "code",
   "execution_count": 171,
   "id": "643885d0-c7f8-4f00-8e31-ed3ab9083246",
   "metadata": {},
   "outputs": [
    {
     "ename": "NameError",
     "evalue": "name 'bf' is not defined",
     "output_type": "error",
     "traceback": [
      "\u001b[0;31m---------------------------------------------------------------------------\u001b[0m",
      "\u001b[0;31mNameError\u001b[0m                                 Traceback (most recent call last)",
      "\u001b[0;32m<ipython-input-171-7fa86dea8ce9>\u001b[0m in \u001b[0;36m<module>\u001b[0;34m\u001b[0m\n\u001b[0;32m----> 1\u001b[0;31m \u001b[0mbrot\u001b[0m \u001b[0;34m=\u001b[0m \u001b[0mbf\u001b[0m\u001b[0;34m.\u001b[0m\u001b[0mbrotfabrik\u001b[0m\u001b[0;34m(\u001b[0m\u001b[0;34m)\u001b[0m\u001b[0;34m\u001b[0m\u001b[0;34m\u001b[0m\u001b[0m\n\u001b[0m\u001b[1;32m      2\u001b[0m \u001b[0;34m\u001b[0m\u001b[0m\n\u001b[1;32m      3\u001b[0m \u001b[0mia\u001b[0m \u001b[0;34m=\u001b[0m \u001b[0mCinemagoer\u001b[0m\u001b[0;34m(\u001b[0m\u001b[0;34m)\u001b[0m\u001b[0;34m\u001b[0m\u001b[0;34m\u001b[0m\u001b[0m\n\u001b[1;32m      4\u001b[0m \u001b[0mprint\u001b[0m\u001b[0;34m(\u001b[0m\u001b[0mia\u001b[0m\u001b[0;34m.\u001b[0m\u001b[0mget_movie_infoset\u001b[0m\u001b[0;34m(\u001b[0m\u001b[0;34m)\u001b[0m\u001b[0;34m)\u001b[0m\u001b[0;34m\u001b[0m\u001b[0;34m\u001b[0m\u001b[0m\n\u001b[1;32m      5\u001b[0m \u001b[0;34m\u001b[0m\u001b[0m\n",
      "\u001b[0;31mNameError\u001b[0m: name 'bf' is not defined"
     ]
    }
   ],
   "source": [
    "brot = bf.brotfabrik()\n",
    "\n",
    "ia = Cinemagoer()\n",
    "print(ia.get_movie_infoset())\n",
    "\n",
    "for i in brot['title']:\n",
    "    print(i)\n",
    "    movie = ia.search_movie(i)\n",
    "    for m in movie:\n",
    "        print(m['title'], type(m))\n",
    "\n",
    "        for key, value in m.items() :\n",
    "            print (key, value)\n",
    "\n",
    "        print('\\n')"
   ]
  },
  {
   "cell_type": "code",
   "execution_count": null,
   "id": "688e6963-1b90-4655-96e3-789f6f909ea3",
   "metadata": {},
   "outputs": [],
   "source": [
    "ia = Cinemagoer()\n",
    "print(ia.get_movie_infoset())\n",
    "\n",
    "movie = ia.search_movie('rose')\n",
    "\n",
    "print(movie, type(movie[2]))\n",
    "for m in movie:\n",
    "    print(m['title'], type(m))\n",
    "    \n",
    "    for key, value in m.items() :\n",
    "        print (key, value)\n",
    "        \n",
    "    print('\\n')"
   ]
  },
  {
   "cell_type": "code",
   "execution_count": 5,
   "id": "63a59610-3545-4d98-9e1a-10eb77f34446",
   "metadata": {},
   "outputs": [
    {
     "name": "stdout",
     "output_type": "stream",
     "text": [
      "Directors:\n",
      "Lana Wachowski\n",
      "Lilly Wachowski\n",
      "Genres:\n",
      "Action\n",
      "Sci-Fi\n",
      "0000154 Mel Gibson\n",
      "12550288 Mel Gibson\n",
      "0317112 Mel Gibson\n",
      "2153167 Mel Gibson\n",
      "15271356 Mel Gibson\n",
      "4798507 Mel A. Gibson\n",
      "3323885 Adam Taylor\n",
      "2800055 Mel Gibson\n",
      "3742421 Melina Mari Bryant\n",
      "0317096 Meg Gibson\n",
      "0879085 Tyrese Gibson\n",
      "0684545 Julie Pinson\n",
      "8908771 Millie Gibson\n",
      "0316995 Hoot Gibson\n",
      "0316945 Donal Gibson\n",
      "4047961 Noel Gibson\n",
      "6521923 Mel Gibbon\n",
      "2988370 Mal Gibson\n",
      "0316932 Dean Paul Gibson\n",
      "0316878 Cal Gibson\n"
     ]
    }
   ],
   "source": [
    "# create an instance of the Cinemagoer class\n",
    "ia = Cinemagoer()\n",
    "\n",
    "# get a movie\n",
    "movie = ia.get_movie('0133093')\n",
    "\n",
    "# print the names of the directors of the movie\n",
    "print('Directors:')\n",
    "for director in movie['directors']:\n",
    "    print(director['name'])\n",
    "\n",
    "# print the genres of the movie\n",
    "print('Genres:')\n",
    "for genre in movie['genres']:\n",
    "    print(genre)\n",
    "\n",
    "# search for a person name\n",
    "people = ia.search_person('Mel Gibson')\n",
    "for person in people:\n",
    "    print(person.personID, person['name'])"
   ]
  },
  {
   "cell_type": "code",
   "execution_count": 36,
   "id": "458b3b67-7da3-4617-9dc8-ae8382fbe419",
   "metadata": {},
   "outputs": [
    {
     "name": "stdout",
     "output_type": "stream",
     "text": [
      "------------------------------------------------\n",
      "{'movies': [{'name': 'Killers of the Flower Moon', 'tomatometer': 92, 'audience_score': 85, 'weighted_score': 89, 'genres': ['Crime', 'Drama'], 'rating': 'R', 'duration': '3h 26m', 'year': '2023', 'actors': ['Leonardo DiCaprio', 'Robert De Niro', 'Jesse Plemons', 'Lily Gladstone', 'Tantoo Cardinal'], 'directors': ['Martin Scorsese']}]} \n",
      "\n",
      "1\n",
      "Killers of the Flower Moon\n",
      "------------------------------------------------\n",
      "{'movies': []} \n",
      "\n",
      "0\n"
     ]
    },
    {
     "ename": "IndexError",
     "evalue": "list index out of range",
     "output_type": "error",
     "traceback": [
      "\u001b[0;31m---------------------------------------------------------------------------\u001b[0m",
      "\u001b[0;31mIndexError\u001b[0m                                Traceback (most recent call last)",
      "\u001b[0;32m<ipython-input-36-2b8e12ce3241>\u001b[0m in \u001b[0;36m<module>\u001b[0;34m\u001b[0m\n\u001b[1;32m     19\u001b[0m \u001b[0;34m\u001b[0m\u001b[0m\n\u001b[1;32m     20\u001b[0m     \u001b[0;32melse\u001b[0m\u001b[0;34m:\u001b[0m\u001b[0;34m\u001b[0m\u001b[0;34m\u001b[0m\u001b[0m\n\u001b[0;32m---> 21\u001b[0;31m         \u001b[0mprint\u001b[0m\u001b[0;34m(\u001b[0m\u001b[0mresp\u001b[0m\u001b[0;34m.\u001b[0m\u001b[0mjson\u001b[0m\u001b[0;34m(\u001b[0m\u001b[0;34m)\u001b[0m\u001b[0;34m.\u001b[0m\u001b[0mget\u001b[0m\u001b[0;34m(\u001b[0m\u001b[0;34m'movies'\u001b[0m\u001b[0;34m)\u001b[0m\u001b[0;34m[\u001b[0m\u001b[0;36m0\u001b[0m\u001b[0;34m]\u001b[0m\u001b[0;34m.\u001b[0m\u001b[0mget\u001b[0m\u001b[0;34m(\u001b[0m\u001b[0;34m'name'\u001b[0m\u001b[0;34m)\u001b[0m\u001b[0;34m)\u001b[0m\u001b[0;34m\u001b[0m\u001b[0;34m\u001b[0m\u001b[0m\n\u001b[0m",
      "\u001b[0;31mIndexError\u001b[0m: list index out of range"
     ]
    }
   ],
   "source": [
    "for i in movietitle:\n",
    "    print('-'*48)\n",
    "    movieinput = i\n",
    "\n",
    "    resp = requests.get('https://rotten-tomatoes-api.ue.r.appspot.com/search/' + movieinput)\n",
    "\n",
    "    print(resp.json(), '\\n')\n",
    "    print(len(resp.json().get('movies')))\n",
    "\n",
    "    i = 0\n",
    "    if len(resp.json().get('movies')) > 1:\n",
    "        for m in resp.json().get('movies'):\n",
    "            i += 1\n",
    "            print(f'{i:2.0f}.', m.get('name'))\n",
    "            print(' '*3, 'release:', m.get('year'))\n",
    "\n",
    "        hit = int(abort(input('-> select wich file: ')))\n",
    "        print(resp.json().get('movies')[hit - 1])\n",
    "\n",
    "    else:\n",
    "        print(resp.json().get('movies')[0].get('name'))\n"
   ]
  },
  {
   "cell_type": "code",
   "execution_count": 244,
   "id": "25bad1bc-4294-4c6b-b26b-3359b7507c28",
   "metadata": {},
   "outputs": [],
   "source": [
    "import time\n",
    "def import_url(url):\n",
    "    while True:\n",
    "        try:\n",
    "            page = urlopen(url)\n",
    "\n",
    "        except Exception as e:\n",
    "            print(\"\\r\" , end=\"\", flush=True)\n",
    "            \n",
    "            print(e)\n",
    "            time.sleep(4)\n",
    "        else:\n",
    "            print('finally.')\n",
    "            return page\n",
    "        "
   ]
  },
  {
   "cell_type": "code",
   "execution_count": 8,
   "id": "2c67afde-65ff-4142-a2c5-9db009ccd4ca",
   "metadata": {},
   "outputs": [],
   "source": [
    "url =         \n",
    "import_url(url)"
   ]
  },
  {
   "cell_type": "code",
   "execution_count": 8,
   "id": "069b1956-645c-4885-aafb-cd22937128f6",
   "metadata": {},
   "outputs": [],
   "source": []
  },
  {
   "cell_type": "code",
   "execution_count": null,
   "id": "6a71650f-73ce-410d-a199-f4da889da965",
   "metadata": {},
   "outputs": [],
   "source": [
    "soup = BeautifulSoup(html, 'html5lib')\n",
    "print(soup.prettify())"
   ]
  },
  {
   "cell_type": "code",
   "execution_count": null,
   "id": "359700aa-9e24-41ee-a476-38f89e3bef5e",
   "metadata": {},
   "outputs": [],
   "source": [
    "from urllib.request import urlopen\n",
    "from urllib.parse import unquote\n",
    "import re\n",
    "import json\n",
    "from datetime import datetime as dt\n",
    "from datetime import timedelta\n",
    "from bs4 import BeautifulSoup\n",
    "\n",
    "url = \"https://www.kinopolis.de/bn/programm\"\n",
    "html = urlopen(url).read().decode(\"utf-8\")\n",
    "\n",
    "pattern = r'<section class=\"bg.*?<section class=\"bg'\n",
    "match_results = re.findall(pattern, html, re.DOTALL)"
   ]
  },
  {
   "cell_type": "code",
   "execution_count": null,
   "id": "34c4c251-8c58-4770-9f75-084f5c03c965",
   "metadata": {},
   "outputs": [],
   "source": [
    "def ():\n",
    "    result = {\n",
    "        \"alias\": [],\n",
    "        \"event\"\n",
    "    }"
   ]
  },
  {
   "cell_type": "code",
   "execution_count": null,
   "id": "5049e907-1bb9-43cb-bdf0-3eed2595be83",
   "metadata": {
    "tags": []
   },
   "outputs": [],
   "source": [
    "<section class=\"bg-2  movie mb-2\"  data-fsk=\"12\" data-genre='[\"komödie\"]' data-version='[\"2d\"]'>"
   ]
  },
  {
   "cell_type": "code",
   "execution_count": 59,
   "id": "32af7efd-f48b-49e2-8cdf-36f0495828d6",
   "metadata": {},
   "outputs": [],
   "source": [
    "from urllib.request import urlopen\n",
    "from urllib.parse import unquote\n",
    "import re\n",
    "import json\n",
    "from datetime import datetime as dt\n",
    "from datetime import timedelta\n",
    "from bs4 import BeautifulSoup\n",
    "\n",
    "url = \"https://www.capitol-siegburg.de/programm\"\n",
    "html = urlopen(url).read().decode(\"utf-8\")"
   ]
  },
  {
   "cell_type": "code",
   "execution_count": 95,
   "id": "56cf9774-2fe4-4b92-9466-9c567145251e",
   "metadata": {},
   "outputs": [
    {
     "name": "stdout",
     "output_type": "stream",
     "text": [
      "Das Geheimnis von la Mancha\n",
      "{'@context': 'http://schema.org', '@type': 'ScreeningEvent', 'name': 'Das Geheimnis von la Mancha 2D', 'startDate': '2024-04-28T14:30:00+02:00', 'endDate': '2024-04-28T15:57:00+02:00', 'location': {'@type': 'MovieTheater', '@id': 'https://www.capitol-siegburg.de#MovieTheater', 'name': 'Capitol Kinocenter', 'image': 'https://www.capitol-siegburg.de/clients/119/img/logo.png', 'telephone': '(0 22 41) 6 22 88', 'priceRange': '6 - 12 €', 'address': {'@type': 'PostalAddress', 'streetAddress': 'Augustastraße 20', 'addressLocality': 'Siegburg', 'postalCode': '53721'}}, 'image': 'https://www.capitol-siegburg.de/images/Breite_235px_RGB/p_110804.jpg', 'performer': 'screening only', 'workPresented': {'@type': 'Movie', '@id': 'https://www.capitol-siegburg.de#110804', 'name': 'Das Geheimnis von la Mancha', 'image': 'http://cineprog.de/images/Breite_235px_RGB/p_110804.jpg', 'description': 'Alfonso ist der Nachfahre des legendären Don Quijote. Gemeinsam mit Pancho und Victoria sowie seinen drei imaginären Hasen fällt ihm die Aufgabe zu, seine Heimatstadt La Mancha vor einem gewaltigen Sturm zu retten.', 'dateCreated': '2024-05-01', 'director': [{'@type': 'Person', 'name': 'Gonzalo Gutierrez'}]}, 'videoFormat': '2D', 'description': 'Vorführung des Films Das Geheimnis von la Mancha in 2D', 'url': 'https://www.capitol-siegburg.de/detail/110804/Das_Geheimnis_von_la_Mancha'}\n"
     ]
    }
   ],
   "source": [
    "pattern = r'<script type=\"application.*?</script>'\n",
    "#match_results = re.search(pattern, html, re.DOTALL)\n",
    "match_results = re.search(r'json\">\\[.*?\\]<', html, re.DOTALL)[0][6:-1]\n",
    "\n",
    "for match in json.loads(match_results)[:1]:\n",
    "    title = match['workPresented']['name']\n",
    "    \n",
    "    t_start = match['startDate']\n",
    "    t_end = match['endDate']\n",
    "\n",
    "    spec = match['videoFormat']\n",
    "\n",
    "    print(title)\n",
    "    print(match)"
   ]
  },
  {
   "cell_type": "code",
   "execution_count": 163,
   "id": "c777621a-1662-4539-bbf4-21e3d759bbd5",
   "metadata": {},
   "outputs": [
    {
     "name": "stdout",
     "output_type": "stream",
     "text": [
      "['Capitol Kinocenter', 'cs', 'capitol', 'capitol siegburg']\n"
     ]
    }
   ],
   "source": [
    "from urllib.request import urlopen\n",
    "import re\n",
    "import json\n",
    "from datetime import datetime as dt\n",
    "\n",
    "\n",
    "l_spec = []\n",
    "\n",
    "ignore_value = ['{}', '', 'idf']\n",
    "\n",
    "\n",
    "result = {\n",
    "    \"alias\": ['Capitol Kinocenter', 'cs', 'capitol', 'capitol siegburg'],\n",
    "    \"event\": []\n",
    "}\n",
    "\n",
    "pattern = r'var programm = .*?; var wallpaper'\n",
    "sub_match_results = re.search(pattern, html, re.DOTALL)[0][15:-15]\n",
    "match_results = json.loads(sub_match_results)['filme']\n",
    "\n",
    "for _, film in match_results.items():\n",
    "    film_fakten = film['filmfakten']\n",
    "    \n",
    "    l_spec.append(film_fakten['Versionsmarker'])\n",
    "\n",
    "    titel = film_fakten['titel']\n",
    "\n",
    "    runtime = film_fakten['laufzeit']\n",
    "\n",
    "    vorst_fakten = film['vorstellungen']\n",
    "\n",
    "    for key, value in vorst_fakten['vorstellungen_fakten'].items():\n",
    "        if str(value) not in ignore_value and key not in ignore_value:\n",
    "            if value == '1':\n",
    "                l_spec.append(key.capitalize())\n",
    "            else:\n",
    "                l_spec.append(str(key) +': '+ str(value))\n",
    "\n",
    "    for _, info in vorst_fakten['termine'].items():\n",
    "        if isinstance(info, dict):\n",
    "            info = [info]\n",
    "\n",
    "        for termin in info:\n",
    "            time = termin['datum'] +'-'+ termin['zeit']\n",
    "            timestamp = dt.strptime(time, '%Y-%m-%d-%H:%M')\n",
    "\n",
    "            room = termin['saal']\n",
    "\n",
    "            ticket = termin['link_desktop']\n",
    "\n",
    "            spec = ', '.join(l_spec)\n",
    "\n",
    "\n",
    "            page = {\n",
    "                \"name\": 'Capitol Kinocenter',\n",
    "                \"short name\": 'capitol',\n",
    "                \"emoji\": ':film_frames:',\n",
    "                \"timestamp\": timestamp,\n",
    "                \"title\": title,\n",
    "                \"subtitle\": None,\n",
    "                \"room\": room,\n",
    "                \"seat\": None,\n",
    "                \"runtime\": runtime,\n",
    "                \"spec\": spec,\n",
    "                \"location\": 'Capitol Kinocenter',\n",
    "                \"ticket\": ticket,\n",
    "                \"load\": None,\n",
    "                \"price\": None\n",
    "            }\n",
    "\n",
    "            result['event'].append(page)\n",
    "\n",
    "print(result['alias'])"
   ]
  },
  {
   "cell_type": "code",
   "execution_count": 48,
   "id": "a7d70de9-3785-45a4-a6e8-4bcbe5a36b99",
   "metadata": {},
   "outputs": [
    {
     "data": {
      "text/plain": [
       "2024"
      ]
     },
     "execution_count": 48,
     "metadata": {},
     "output_type": "execute_result"
    }
   ],
   "source": [
    "dt.now().year"
   ]
  },
  {
   "cell_type": "code",
   "execution_count": 53,
   "id": "6640f80b-5396-41ee-b4fb-e7cc7dc78f08",
   "metadata": {},
   "outputs": [
    {
     "data": {
      "text/plain": [
       "False"
      ]
     },
     "execution_count": 53,
     "metadata": {},
     "output_type": "execute_result"
    }
   ],
   "source": [
    "t = 10\n",
    "0 < t < 10"
   ]
  },
  {
   "cell_type": "code",
   "execution_count": null,
   "id": "b8bd9f33-40b9-4204-a9a7-086802662ab2",
   "metadata": {},
   "outputs": [],
   "source": []
  },
  {
   "cell_type": "code",
   "execution_count": null,
   "id": "adc353cf-6598-4213-8ca4-a9fb1f27778c",
   "metadata": {},
   "outputs": [],
   "source": []
  },
  {
   "cell_type": "code",
   "execution_count": null,
   "id": "64edaa6c-b132-45d4-8bb9-b79c798a1210",
   "metadata": {},
   "outputs": [],
   "source": []
  },
  {
   "cell_type": "code",
   "execution_count": null,
   "id": "ad29765a-555b-4152-8232-92c88c7209b5",
   "metadata": {},
   "outputs": [],
   "source": []
  },
  {
   "cell_type": "code",
   "execution_count": null,
   "id": "9e43f91f-d374-443f-adb3-9dfa662b19ae",
   "metadata": {},
   "outputs": [],
   "source": []
  },
  {
   "cell_type": "code",
   "execution_count": null,
   "id": "1c8833fb-f23e-4d05-bac0-eed378314210",
   "metadata": {},
   "outputs": [],
   "source": []
  },
  {
   "cell_type": "code",
   "execution_count": null,
   "id": "b4a42fbd-055a-4ac2-8f02-11d2f3046be9",
   "metadata": {},
   "outputs": [],
   "source": []
  }
 ],
 "metadata": {
  "kernelspec": {
   "display_name": "Python 3 (ipykernel)",
   "language": "python",
   "name": "python3"
  },
  "language_info": {
   "codemirror_mode": {
    "name": "ipython",
    "version": 3
   },
   "file_extension": ".py",
   "mimetype": "text/x-python",
   "name": "python",
   "nbconvert_exporter": "python",
   "pygments_lexer": "ipython3",
   "version": "3.11.7"
  }
 },
 "nbformat": 4,
 "nbformat_minor": 5
}
